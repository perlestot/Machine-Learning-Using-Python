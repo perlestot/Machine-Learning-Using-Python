{
 "cells": [
  {
   "cell_type": "markdown",
   "metadata": {},
   "source": [
    "<div align=\"right\"><b>Parin Kittipongdaja<br>\n",
    "6010421021 <br>\n",
    "NIDA, Thailand<br>\n",
    "Parin.kiti@gmail.com<br>\n",
    "(Parin.kitt@stu.nida.ac.th)<br>\n",
    "BADS 7201 Programing for Machine Learning<br>\n",
    "Project: I</b></div>"
   ]
  },
  {
   "cell_type": "markdown",
   "metadata": {},
   "source": [
    "# <center>Click-Through Rate Prediction<center/>\n",
    "\n"
   ]
  },
  {
   "cell_type": "markdown",
   "metadata": {},
   "source": [
    "# Introduction\n",
    "<p style=\"text-indent: 2.5em;\">\n",
    "CTR stands for Click-Through-Rate. This is the percentage rate at which people click on a particular ad when online. Achieving a high page CTR is essential for achieving PPC success, because it directly affects both the quality score as well as how much a business pays every time someone clicks on their search advert. Are your click-through rates holding you back, or are they high enough? These are some of the questions that bother almost every webmaster.\n",
    "    \n",
    "[Source](https://www.semrush.com/blog/introduction-to-ctr-click-through-rate/)"
   ]
  },
  {
   "cell_type": "markdown",
   "metadata": {},
   "source": [
    "## Overview\n",
    "<p style=\"text-indent: 2.5em;\">\n",
    "    In online advertising, click-through rate (CTR) is a very important metric for evaluating ad performance. As a result, click prediction systems are essential and widely used for sponsored search and real-time bidding.\n",
    "\n",
    "![CTR_Contest](https://storage.googleapis.com/kaggle-competitions/kaggle/4002/media/banner_ctr.jpg)\n",
    "[CTR_Contest](https://www.kaggle.com/c/avazu-ctr-prediction/overview)\n",
    "\n",
    "<p style=\"text-indent: 2.5em;\">\n",
    "    For this competition, we have provided 11 days worth of Avazu data to build and test prediction models. Can you find a strategy that beats standard classification algorithms? The winning models from this competition will be released under an open-source license."
   ]
  },
  {
   "cell_type": "markdown",
   "metadata": {},
   "source": [
    "# Data Description\n",
    "\n",
    "### File descriptions\n",
    "- train - Training set. 10 days of click-through data, ordered chronologically. Non-clicks and clicks are subsampled according to different strategies.\n",
    "- test - Test set. 1 day of ads to for testing your model predictions. \n",
    "- sampleSubmission.csv - Sample submission file in the correct format, corresponds to the All-0.5 Benchmark.\n",
    "\n",
    "### Data fields\n",
    "- id: ad identifier\n",
    "- click: 0/1 for non-click/click\n",
    "- hour: format is YYMMDDHH, so 14091123 means 23:00 on Sept. 11, 2014 UTC.\n",
    "- C1 -- anonymized categorical variable\n",
    "- banner_pos\n",
    "- site_id\n",
    "- site_domain\n",
    "- site_category\n",
    "- app_id\n",
    "- app_domain\n",
    "- app_category\n",
    "- device_id\n",
    "- device_ip\n",
    "- device_model\n",
    "- device_type\n",
    "- device_conn_type\n",
    "- C14-C21 -- anonymized categorical variables"
   ]
  },
  {
   "cell_type": "markdown",
   "metadata": {},
   "source": [
    "Machine learning (ML) pipelines consist of several steps to train a model and this is great visualisation of typical pipeline:\n",
    "![logo](https://cdn-images-1.medium.com/max/2000/1*2T5rbjOBGVFdSvtlhCqlNg.png)\n",
    "        A standard machine learning pipeline (source: Practical Machine Learning with Python, Apress/Springer)"
   ]
  },
  {
   "cell_type": "markdown",
   "metadata": {},
   "source": [
    "# Methods\n",
    "This study consists of 8 processes. The details are described follows;\n",
    "\n",
    "1. **Data acquisition**<br>\n",
    "The collection of data in this study is retrieved from kaggle following this link: \"https://www.kaggle.com/c/avazu-ctr-prediction/data\" including 10 days of click-through data, ordered chronologically. Non-clicks and clicks are subsampled according to different strategies.\n",
    "\n",
    "\n",
    "2. **Import Data with Chunking**<br>\n",
    "This data has an enormous size which cannot import all data directly. However, we can use the chunking method to iteration import each chunk od data. \n",
    "\n",
    "\n",
    "3. **Exploratory Data Analysis**<br>\n",
    "The exploratory data analysis or “EDA” is a critical first step in analyzing the data from an experiment. Here are the main reasons we use EDA:\n",
    "    - detection of mistakes\n",
    "    - checking of assumptions\n",
    "    - preliminary selection of appropriate models\n",
    "    - determining relationships among the explanatory variables, and\n",
    "    - assessing the direction and rough size of relationships between explanatory and outcome variables.\n",
    "\n",
    "\n",
    "4. **Data preparation and preprocessing.**<br>\n",
    "    **4.1 Feature Selection** <br>\n",
    "We all may have faced this problem of identifying the related features from a set of data and removing the irrelevant or less important features with do not contribute much to our target variable in order to achieve better accuracy for our model.\n",
    "Feature Selection is one of the core concepts in machine learning which hugely impacts the performance of your model. The data features that you use to train your machine learning models have a huge influence on the performance you can achieve.\n",
    "Irrelevant or partially relevant features can negatively impact model performance.<br>\n",
    "    **4.2 Encoding Categorical Features**<br>\n",
    "One hot encoding is a process by which categorical variables are converted into a form that could be provided to ML algorithms to do a better job in prediction.<br>\n",
    "    **4.3 Handling Imbalanced Data**<br>\n",
    "Imbalanced classes are a common problem in machine learning classification where there is a disproportionate ratio of observations in each class. Class imbalance can be found in many different areas, including medical diagnosis, spam filtering, and fraud detection. In this study, due to we have a vast dataset; thus, we will perform the undersampling technique for the majority class(Non-Click,0).\n",
    "\n",
    "\n",
    "5. **Transform Feature** <br>\n",
    "After we get the list of selected feature, we have to eliminate feature value which is not in the list. We will use this step to trandform feature before we encode feature and split data to train and test.\n",
    "\n",
    "\n",
    "6. **Split data**<br>\n",
    "For developing sentiment classifier, we will split data into two sets, which are training set (training data and validation data) and testing set with stratifying class. The new model is developed on the training set and test it on the holdout set.\n",
    "\n",
    "\n",
    "7. **Developing model and Fine-tuning hyperparameter**<br>\n",
    "In this study, we will develop a model from Extra Trees Classifier which is bagging of ensemble method, Light GBM which is boosting of ensemble method, and Logistic Regression. The model hyperparameters are tuned by using grid-search based on accuracy to get the best parameter.\n",
    " \n",
    "\n",
    "8. **Evaluation**<br>\n",
    "After the model is built, we will evaluates it with testing set by using <u>Average Precision</u>  and other metrics such as AUC, Recall, and F1 to estimate the performance. The model with the highest performance is chosen.\n"
   ]
  },
  {
   "cell_type": "markdown",
   "metadata": {},
   "source": [
    "# <u><center> Let's conduct the experiment </center></u>\n",
    "\n",
    "<p style=\"text-indent: 2.5em;\">\n",
    "    In this experiment, we will perform feature selection in order to get a better performance in term of Average precision and AUC and develop a model from ensemble method and traditional logistic regression.\n",
    "    We will use data from [Website](https://www.kaggle.com/c/avazu-ctr-prediction/data\") which consist of 10 days of click-through data, ordered chronologically. Non-clicks and clicks are subsampled according to different strategies. We will use just some of data and spilted it into three portions which are training set, validate set, and testing set. The training set will be used to develop a model and validate set will be used for fine-tuning hyperparameter. Then, we measure model performance with testing set with focusing on Average precision and AUC.\n",
    "    "
   ]
  },
  {
   "cell_type": "markdown",
   "metadata": {},
   "source": [
    "<a id=\"ch0\"></a>\n",
    "# Table of Contents\n",
    "1. [Chapter 1 - Install Neccessary Library](#ch1)\n",
    "1. [Chapter 2 - Check Version of Library](#ch2)\n",
    "1. [Chapter 3 - Importing Required Libraries](#ch3)\n",
    "1. [Chapter 4 - Step 1: Define Function](#ch4)\n",
    "1. [Chapter 5 - Step 2: Importing Dataset](#ch5)\n",
    "1. [Chapter 6 - Step 3: Data Exploration](#ch6)\n",
    "1. [Chapter 7 - Step 4: Data preparation and preprocessig](#ch7)\n",
    "1. [Chapter 8 - Step 5: Developing and Fine-tuning hyperparameters](#ch8)\n",
    "1. [Chapter 9 - Step 6: Evaluate Model Performance](#ch9)\n",
    "1. [Chapter 10 - Result](#ch10)\n",
    "1. [Chapter 11 - Analysis of Classification Error](#ch11)\n",
    "1. [Chapter 12 - Word Cloud Visualization](#ch12)\n",
    "1. [Chapter 13 - Conclusions, Limitations, and Discussion](#ch13)\n",
    "1. [Chapter 14 - Future Direction](#ch14)\n",
    "1. [Reference](#ch90)"
   ]
  },
  {
   "cell_type": "markdown",
   "metadata": {},
   "source": [
    "<a id=\"ch1\"></a>\n",
    "# Install Neccessary Library\n",
    "[Top](#ch0)"
   ]
  },
  {
   "cell_type": "raw",
   "metadata": {},
   "source": [
    "# Install a pip package in the current Jupyter kernel\n",
    "import sys\n",
    "!{sys.executable} -m pip install --upgrade pip\n",
    "!{sys.executable} -m pip install -U scikit-learn pandas seaborn matplotlib tqdm "
   ]
  },
  {
   "cell_type": "raw",
   "metadata": {},
   "source": [
    "# Installing solve by this link and link gcc@8 to system\n",
    "- https://github.com/Microsoft/LightGBM/issues/1369\n",
    "!brew install gcc@8\n",
    "!brew link --overwrite gcc@8\n",
    "!pip install --no-binary :all: lightgbm"
   ]
  },
  {
   "cell_type": "raw",
   "metadata": {},
   "source": [
    "# Install a pip package in the current Jupyter kernel\n",
    "import sys\n",
    "!{sys.executable} -m pip install -U catboost\n",
    "!pip install numpy==1.16.1"
   ]
  },
  {
   "cell_type": "markdown",
   "metadata": {},
   "source": [
    "<a id=\"ch2\"></a>\n",
    "# Check Version of Library\n",
    "[Top](#ch0)"
   ]
  },
  {
   "cell_type": "code",
   "execution_count": 2,
   "metadata": {},
   "outputs": [
    {
     "name": "stdout",
     "output_type": "stream",
     "text": [
      "Python 3.7.4 (default, Sep  7 2019, 18:27:02) \n",
      "[Clang 10.0.1 (clang-1001.0.46.4)]\n",
      "Numpy 1.16.1\n",
      "Matplotlib 3.0.3\n",
      "Seaborn 0.9.0\n",
      "tqdm 4.31.1\n",
      "scikit-learn 0.21.3\n",
      "pandas 0.24.2\n"
     ]
    }
   ],
   "source": [
    "import sys\n",
    "import numpy as np\n",
    "import matplotlib\n",
    "import seaborn as sns\n",
    "import tqdm\n",
    "import sklearn\n",
    "import pandas\n",
    "\n",
    "\n",
    "print ( \"Python\", sys.version )\n",
    "print ( \"Numpy\", np.__version__ )\n",
    "print ( \"Matplotlib\", matplotlib.__version__ )\n",
    "print ( \"Seaborn\", sns.__version__ )\n",
    "print ( \"tqdm\", tqdm.__version__ )\n",
    "print ( \"scikit-learn\", sklearn.__version__ )\n",
    "print ( \"pandas\", pandas.__version__ )\n"
   ]
  },
  {
   "cell_type": "markdown",
   "metadata": {},
   "source": [
    "<a id=\"ch3\"></a>\n",
    "# Importing Required Libraries\n",
    "[Top](#ch0)"
   ]
  },
  {
   "cell_type": "code",
   "execution_count": 259,
   "metadata": {},
   "outputs": [],
   "source": [
    "# Basic library\n",
    "import os\n",
    "import pandas as pd\n",
    "import numpy as np\n",
    "import matplotlib.pyplot as plt\n",
    "import seaborn as sns\n",
    "from time import time\n",
    "from tqdm import tqdm, tnrange, tqdm_notebook\n",
    "from itertools import cycle\n",
    "from pprint import pprint\n",
    "\n",
    "\n",
    "# Data preprocessing\n",
    "# from sklearn.preprocessing import StandardScaler\n",
    "from sklearn.model_selection import train_test_split\n",
    "from imblearn.under_sampling import RandomUnderSampler\n",
    "# from imblearn.over_sampling import SMOTE\n",
    "from sklearn.utils import resample\n",
    "\n",
    "# Feature Selection\n",
    "from scipy.stats import chi2_contingency\n",
    "from sklearn.ensemble import ExtraTreesClassifier\n",
    "import lightgbm as lgb\n",
    "from sklearn.feature_selection import RFE\n",
    "from sklearn.linear_model import LogisticRegression\n",
    "from sklearn.model_selection import ParameterGrid\n",
    "\n",
    "# Tuning and Develop Model\n",
    "from sklearn.pipeline import Pipeline\n",
    "from sklearn.model_selection import RandomizedSearchCV, GridSearchCV\n",
    "\n",
    "# Evaluation\n",
    "import sklearn\n",
    "from sklearn.metrics import confusion_matrix,classification_report\n",
    "from sklearn.model_selection import cross_val_score, cross_val_predict\n",
    "from sklearn.metrics import roc_curve\n",
    "from sklearn.metrics import roc_auc_score\n",
    "from sklearn.metrics import balanced_accuracy_score\n",
    "from sklearn.metrics import precision_recall_curve\n",
    "from sklearn.metrics import average_precision_score\n",
    "from sklearn.metrics import accuracy_score, f1_score, recall_score, precision_score\n",
    "from sklearn.externals import joblib"
   ]
  },
  {
   "cell_type": "markdown",
   "metadata": {},
   "source": [
    "# Display and Parameter Setting"
   ]
  },
  {
   "cell_type": "code",
   "execution_count": 3,
   "metadata": {},
   "outputs": [],
   "source": [
    "# Set dataframe display\n",
    "pd.set_option('display.max_columns', None)  # default = 20\n",
    "pd.set_option('display.expand_frame_repr', False) # default = True\n",
    "pd.set_option('display.max_colwidth', -1) # default = 50\n",
    "pd.set_option('display.float_format', lambda x: '%.3f' % x)\n",
    "\n",
    "import warnings\n",
    "warnings.filterwarnings(\"ignore\",category=DeprecationWarning)\n",
    "warnings.simplefilter(action='ignore', category=FutureWarning)"
   ]
  },
  {
   "cell_type": "code",
   "execution_count": 4,
   "metadata": {},
   "outputs": [],
   "source": [
    "seed_num = 7"
   ]
  },
  {
   "cell_type": "markdown",
   "metadata": {},
   "source": [
    "<a id=\"ch4\"></a>\n",
    "# 1. Define function\n",
    "[Top](#ch0)"
   ]
  },
  {
   "cell_type": "code",
   "execution_count": 204,
   "metadata": {},
   "outputs": [],
   "source": [
    "# Make a model summary report\n",
    "def model_report(X_test,y_test,GridSearchCV_List,model_func , best_param_clf =None):\n",
    "\n",
    "    model_list = []\n",
    "    accuracy_list = []\n",
    "    balanced_acc_list = []\n",
    "    auc_list = []\n",
    "    cm_list = []\n",
    "    cm_nor_list = []\n",
    "    recall_list = []\n",
    "    precision_list = []\n",
    "    precision_neg_list = []\n",
    "    specificity_list = []\n",
    "    ap_list = []\n",
    "    f1_list = []\n",
    "    best_params_list = []\n",
    "    \n",
    "\n",
    "    for i,j in enumerate(GridSearchCV_List):\n",
    "        locals()[j] = model_func[i]\n",
    "        \n",
    "        if isinstance(model_func[i], \n",
    "                      (sklearn.model_selection._search.RandomizedSearchCV,\n",
    "                       sklearn.model_selection.GridSearchCV)):            \n",
    "            y_pred = eval(j+'.best_estimator_.predict(X_test)')\n",
    "            P_true = eval(j+'.predict_proba(X_test)[:, 1]')\n",
    "            best_params = eval(j+'.best_params_')\n",
    "            best_params_list.append(best_params)\n",
    "        else:\n",
    "            y_pred = eval(j+'.predict(X_test)')\n",
    "            P_true = eval(j+'.predict_proba(X_test)[:, 1]')\n",
    "            best_params_list.append(best_param_clf[i])\n",
    "             \n",
    "        model_name = j\n",
    "        TP, FN, FP, TN = confusion_matrix(y_test, y_pred, labels=[1, 0]).ravel()\n",
    "        n_data = TP+FN+FP+TN\n",
    "        \n",
    "        \n",
    "        Accuracy = round(accuracy_score(y_test, y_pred), 2)\n",
    "        bal_acc = round(balanced_accuracy_score(y_test, y_pred),2)\n",
    "        auc = round(roc_auc_score(y_test, P_true), 2)\n",
    "        cm = dict(TP=TP, FP=FP, FN=FN, TN=TN)\n",
    "        cm_nor = dict(TP=f'{TP/n_data:.2f}', FP=f'{FP/n_data:.2f}', FN=f'{FN/n_data:.2f}', TN=f'{TN/n_data:.2f}')\n",
    "        Recall = round(recall_score(y_test, y_pred, average='binary'), 2)\n",
    "        Precision = round(precision_score(y_test, y_pred, average='binary'), 2)\n",
    "        Precision_neg = round(precision_score(y_test, y_pred, pos_label = 0, average='binary'), 2)\n",
    "        Specificity = round(TN/float(TN+FP), 2)\n",
    "        ap = round(average_precision_score(y_test, P_true, pos_label=1), 2)\n",
    "        F1_score = round(f1_score(y_test, y_pred,average='binary'), 2)\n",
    "        \n",
    "        \n",
    "        model_list.append(model_name)\n",
    "        accuracy_list.append(Accuracy)\n",
    "        balanced_acc_list.append(bal_acc)\n",
    "        auc_list.append(auc)\n",
    "        cm_list.append(cm)\n",
    "        cm_nor_list.append(cm_nor)\n",
    "        recall_list.append(Recall)\n",
    "        precision_list.append(Precision)\n",
    "        precision_neg_list.append(Precision_neg)\n",
    "        specificity_list.append(Specificity)\n",
    "        ap_list.append(ap)\n",
    "        f1_list.append(F1_score)\n",
    "        \n",
    "        \n",
    "\n",
    "    report = dict(Model = model_list,\n",
    "                  Accuracy = accuracy_list,\n",
    "                  Balanced_Accuracy = balanced_acc_list,\n",
    "                  AUC = auc_list,\n",
    "                  Confusion_Matrix = cm_list,\n",
    "                  Confusion_Matrix_Normalized = cm_nor_list,\n",
    "                  Recall = recall_list,\n",
    "                  Precision = precision_list,\n",
    "                  Precision_neg = precision_neg_list,\n",
    "                  Specificity = specificity_list,\n",
    "                  Average_Precision = ap_list,\n",
    "                  F1_score = f1_list,\n",
    "                  Best_Parameters = best_params_list \n",
    "                 )\n",
    "    \n",
    "    df_report = pd.DataFrame.from_dict(report)\n",
    "    pd.set_option('display.max_colwidth', -1)\n",
    "    \n",
    "    return df_report"
   ]
  },
  {
   "cell_type": "code",
   "execution_count": 6,
   "metadata": {},
   "outputs": [],
   "source": [
    "# Split data to train and test\n",
    "def split_data(X, y, test_size = 0.2, seed=7):\n",
    "    X_trn, X_tst, y_trn, y_tst = train_test_split(X, y, test_size=test_size, random_state=seed, stratify=y)\n",
    "    print(\"Size of training data is \" + str(X_trn.shape))\n",
    "    #y_trn_bin = to_categorical(y_trn)\n",
    "    print(\"Size of training label is \" + str(y_trn.shape))\n",
    "    unique, counts = np.unique(y_trn, return_counts=True)\n",
    "    print('Class Counts:',np.asarray((unique, counts)).T.ravel())\n",
    "    print()\n",
    "    print(\"Size of testing data is \" + str(X_tst.shape))\n",
    "    #y_tst_bin = to_categorical(y_tst)\n",
    "    print(\"Size of testing label is \" + str(y_tst.shape))\n",
    "    unique, counts = np.unique(y_tst, return_counts=True)\n",
    "    print('Class Counts:',np.asarray((unique, counts)).T.ravel())\n",
    "    print()\n",
    "    unique, counts = np.unique(y, return_counts=True)\n",
    "    print('Total Class Counts:',np.asarray((unique, counts)).T.ravel())\n",
    "    return X_trn, X_tst, y_trn, y_tst"
   ]
  },
  {
   "cell_type": "markdown",
   "metadata": {},
   "source": [
    "<a id=\"ch5\"></a>\n",
    "# 2. Importing Dataset\n",
    "[Top](#ch0)\n",
    "- Supervised learning datasets.\n",
    "- File name is \n",
    "    - train.csv"
   ]
  },
  {
   "cell_type": "code",
   "execution_count": null,
   "metadata": {},
   "outputs": [],
   "source": [
    "df_chunk = pd.read_csv(r'./data/avazu-ctr-prediction/train.csv', chunksize=100000"
   ]
  },
  {
   "cell_type": "code",
   "execution_count": null,
   "metadata": {},
   "outputs": [],
   "source": [
    "chunk_list = []  # append each chunk df here \n",
    "\n",
    "start = time()\n",
    "\n",
    "# Each chunk is in df format\n",
    "print('Loading DataFrame to List.... ') \n",
    "for chunk in df_chunk:  \n",
    "    # perform data filtering \n",
    "#     chunk_filter = chunk_preprocessing(chunk)\n",
    "    \n",
    "    # Once the data filtering is done, append the chunk to list\n",
    "#     chunk_list.append(chunk_filter)\n",
    "    chunk_list.append(chunk)\n",
    "      \n",
    "t = time() - start\n",
    "print('Execution time = ', t, ' seconds')\n",
    "\n",
    "print('Combine All DataFrame.... ') \n",
    "# concat the list into dataframe \n",
    "df_all = pd.concat(chunk_list)\n",
    "t = time() - start\n",
    "print('Execution time = ', t, ' seconds')"
   ]
  },
  {
   "cell_type": "raw",
   "metadata": {},
   "source": [
    "df_concat = pd.read_csv(r'./data/avazu-ctr-prediction/train.csv', nrows =1000000)"
   ]
  },
  {
   "cell_type": "raw",
   "metadata": {},
   "source": [
    "# Sampling data 1,000,000 row\n",
    "start = time()\n",
    "\n",
    "df_concat = df_all.sample(n=1_000_000,random_state=seed_num)\n",
    "\n",
    "t = time() - start\n",
    "print('Execution time = ', t, ' seconds')"
   ]
  },
  {
   "cell_type": "raw",
   "metadata": {},
   "source": [
    "df_concat.to_csv('./data/avazu-ctr-prediction/sample1m.csv', index=False)"
   ]
  },
  {
   "cell_type": "code",
   "execution_count": 14,
   "metadata": {},
   "outputs": [
    {
     "data": {
      "text/html": [
       "<div>\n",
       "<style scoped>\n",
       "    .dataframe tbody tr th:only-of-type {\n",
       "        vertical-align: middle;\n",
       "    }\n",
       "\n",
       "    .dataframe tbody tr th {\n",
       "        vertical-align: top;\n",
       "    }\n",
       "\n",
       "    .dataframe thead th {\n",
       "        text-align: right;\n",
       "    }\n",
       "</style>\n",
       "<table border=\"1\" class=\"dataframe\">\n",
       "  <thead>\n",
       "    <tr style=\"text-align: right;\">\n",
       "      <th></th>\n",
       "      <th>id</th>\n",
       "      <th>click</th>\n",
       "      <th>hour</th>\n",
       "      <th>C1</th>\n",
       "      <th>banner_pos</th>\n",
       "      <th>site_id</th>\n",
       "      <th>site_domain</th>\n",
       "      <th>site_category</th>\n",
       "      <th>app_id</th>\n",
       "      <th>app_domain</th>\n",
       "      <th>app_category</th>\n",
       "      <th>device_id</th>\n",
       "      <th>device_ip</th>\n",
       "      <th>device_model</th>\n",
       "      <th>device_type</th>\n",
       "      <th>device_conn_type</th>\n",
       "      <th>C14</th>\n",
       "      <th>C15</th>\n",
       "      <th>C16</th>\n",
       "      <th>C17</th>\n",
       "      <th>C18</th>\n",
       "      <th>C19</th>\n",
       "      <th>C20</th>\n",
       "      <th>C21</th>\n",
       "    </tr>\n",
       "  </thead>\n",
       "  <tbody>\n",
       "    <tr>\n",
       "      <th>0</th>\n",
       "      <td>14606467191014420480.000</td>\n",
       "      <td>0</td>\n",
       "      <td>14102901</td>\n",
       "      <td>1005</td>\n",
       "      <td>0</td>\n",
       "      <td>1fbe01fe</td>\n",
       "      <td>f3845767</td>\n",
       "      <td>28905ebd</td>\n",
       "      <td>ecad2386</td>\n",
       "      <td>7801e8d9</td>\n",
       "      <td>07d7df22</td>\n",
       "      <td>a99f214a</td>\n",
       "      <td>108b5739</td>\n",
       "      <td>8a4875bd</td>\n",
       "      <td>1</td>\n",
       "      <td>0</td>\n",
       "      <td>15707</td>\n",
       "      <td>320</td>\n",
       "      <td>50</td>\n",
       "      <td>1722</td>\n",
       "      <td>0</td>\n",
       "      <td>35</td>\n",
       "      <td>100084</td>\n",
       "      <td>79</td>\n",
       "    </tr>\n",
       "    <tr>\n",
       "      <th>1</th>\n",
       "      <td>11732708192801085440.000</td>\n",
       "      <td>0</td>\n",
       "      <td>14102414</td>\n",
       "      <td>1005</td>\n",
       "      <td>1</td>\n",
       "      <td>5b4d2eda</td>\n",
       "      <td>16a36ef3</td>\n",
       "      <td>f028772b</td>\n",
       "      <td>ecad2386</td>\n",
       "      <td>7801e8d9</td>\n",
       "      <td>07d7df22</td>\n",
       "      <td>a99f214a</td>\n",
       "      <td>661107ee</td>\n",
       "      <td>d14c4241</td>\n",
       "      <td>1</td>\n",
       "      <td>0</td>\n",
       "      <td>19772</td>\n",
       "      <td>320</td>\n",
       "      <td>50</td>\n",
       "      <td>2227</td>\n",
       "      <td>0</td>\n",
       "      <td>679</td>\n",
       "      <td>100075</td>\n",
       "      <td>48</td>\n",
       "    </tr>\n",
       "    <tr>\n",
       "      <th>2</th>\n",
       "      <td>16173489260556333056.000</td>\n",
       "      <td>0</td>\n",
       "      <td>14102108</td>\n",
       "      <td>1005</td>\n",
       "      <td>1</td>\n",
       "      <td>5ee41ff2</td>\n",
       "      <td>17d996e6</td>\n",
       "      <td>f028772b</td>\n",
       "      <td>ecad2386</td>\n",
       "      <td>7801e8d9</td>\n",
       "      <td>07d7df22</td>\n",
       "      <td>a99f214a</td>\n",
       "      <td>94d31853</td>\n",
       "      <td>d4897fef</td>\n",
       "      <td>1</td>\n",
       "      <td>0</td>\n",
       "      <td>16920</td>\n",
       "      <td>320</td>\n",
       "      <td>50</td>\n",
       "      <td>1899</td>\n",
       "      <td>0</td>\n",
       "      <td>431</td>\n",
       "      <td>-1</td>\n",
       "      <td>117</td>\n",
       "    </tr>\n",
       "    <tr>\n",
       "      <th>3</th>\n",
       "      <td>6961602594473552896.000</td>\n",
       "      <td>0</td>\n",
       "      <td>14102317</td>\n",
       "      <td>1005</td>\n",
       "      <td>0</td>\n",
       "      <td>1fbe01fe</td>\n",
       "      <td>f3845767</td>\n",
       "      <td>28905ebd</td>\n",
       "      <td>ecad2386</td>\n",
       "      <td>7801e8d9</td>\n",
       "      <td>07d7df22</td>\n",
       "      <td>a99f214a</td>\n",
       "      <td>c9cce972</td>\n",
       "      <td>e9b8d8d7</td>\n",
       "      <td>1</td>\n",
       "      <td>0</td>\n",
       "      <td>20108</td>\n",
       "      <td>320</td>\n",
       "      <td>50</td>\n",
       "      <td>2299</td>\n",
       "      <td>2</td>\n",
       "      <td>1319</td>\n",
       "      <td>100084</td>\n",
       "      <td>52</td>\n",
       "    </tr>\n",
       "    <tr>\n",
       "      <th>4</th>\n",
       "      <td>5019865349106364416.000</td>\n",
       "      <td>0</td>\n",
       "      <td>14102608</td>\n",
       "      <td>1002</td>\n",
       "      <td>0</td>\n",
       "      <td>5a156514</td>\n",
       "      <td>4a32a328</td>\n",
       "      <td>50e219e0</td>\n",
       "      <td>ecad2386</td>\n",
       "      <td>7801e8d9</td>\n",
       "      <td>07d7df22</td>\n",
       "      <td>3826d9a0</td>\n",
       "      <td>4e6e0fe0</td>\n",
       "      <td>17219cea</td>\n",
       "      <td>0</td>\n",
       "      <td>0</td>\n",
       "      <td>22309</td>\n",
       "      <td>320</td>\n",
       "      <td>50</td>\n",
       "      <td>2573</td>\n",
       "      <td>0</td>\n",
       "      <td>419</td>\n",
       "      <td>-1</td>\n",
       "      <td>178</td>\n",
       "    </tr>\n",
       "  </tbody>\n",
       "</table>\n",
       "</div>"
      ],
      "text/plain": [
       "                        id  click      hour    C1  banner_pos   site_id site_domain site_category    app_id app_domain app_category device_id device_ip device_model  device_type  device_conn_type    C14  C15  C16   C17  C18   C19     C20  C21\n",
       "0 14606467191014420480.000  0      14102901  1005  0           1fbe01fe  f3845767    28905ebd      ecad2386  7801e8d9   07d7df22     a99f214a  108b5739  8a4875bd     1            0                 15707  320  50   1722  0    35    100084  79 \n",
       "1 11732708192801085440.000  0      14102414  1005  1           5b4d2eda  16a36ef3    f028772b      ecad2386  7801e8d9   07d7df22     a99f214a  661107ee  d14c4241     1            0                 19772  320  50   2227  0    679   100075  48 \n",
       "2 16173489260556333056.000  0      14102108  1005  1           5ee41ff2  17d996e6    f028772b      ecad2386  7801e8d9   07d7df22     a99f214a  94d31853  d4897fef     1            0                 16920  320  50   1899  0    431  -1       117\n",
       "3 6961602594473552896.000   0      14102317  1005  0           1fbe01fe  f3845767    28905ebd      ecad2386  7801e8d9   07d7df22     a99f214a  c9cce972  e9b8d8d7     1            0                 20108  320  50   2299  2    1319  100084  52 \n",
       "4 5019865349106364416.000   0      14102608  1002  0           5a156514  4a32a328    50e219e0      ecad2386  7801e8d9   07d7df22     3826d9a0  4e6e0fe0  17219cea     0            0                 22309  320  50   2573  0    419  -1       178"
      ]
     },
     "execution_count": 14,
     "metadata": {},
     "output_type": "execute_result"
    }
   ],
   "source": [
    "df_concat = pd.read_csv(r'./data/avazu-ctr-prediction/sample1m.csv')\n",
    "df_concat.head(2)"
   ]
  },
  {
   "cell_type": "code",
   "execution_count": 15,
   "metadata": {},
   "outputs": [
    {
     "name": "stdout",
     "output_type": "stream",
     "text": [
      "<class 'pandas.core.frame.DataFrame'>\n",
      "RangeIndex: 1000000 entries, 0 to 999999\n",
      "Data columns (total 24 columns):\n",
      "id                  1000000 non-null float64\n",
      "click               1000000 non-null int64\n",
      "hour                1000000 non-null int64\n",
      "C1                  1000000 non-null int64\n",
      "banner_pos          1000000 non-null int64\n",
      "site_id             1000000 non-null object\n",
      "site_domain         1000000 non-null object\n",
      "site_category       1000000 non-null object\n",
      "app_id              1000000 non-null object\n",
      "app_domain          1000000 non-null object\n",
      "app_category        1000000 non-null object\n",
      "device_id           1000000 non-null object\n",
      "device_ip           1000000 non-null object\n",
      "device_model        1000000 non-null object\n",
      "device_type         1000000 non-null int64\n",
      "device_conn_type    1000000 non-null int64\n",
      "C14                 1000000 non-null int64\n",
      "C15                 1000000 non-null int64\n",
      "C16                 1000000 non-null int64\n",
      "C17                 1000000 non-null int64\n",
      "C18                 1000000 non-null int64\n",
      "C19                 1000000 non-null int64\n",
      "C20                 1000000 non-null int64\n",
      "C21                 1000000 non-null int64\n",
      "dtypes: float64(1), int64(14), object(9)\n",
      "memory usage: 183.1+ MB\n"
     ]
    }
   ],
   "source": [
    "df_concat.info()"
   ]
  },
  {
   "cell_type": "markdown",
   "metadata": {},
   "source": [
    "<a id=\"ch6\"></a>\n",
    "# 3. Data Exploration\n",
    "[Top](#ch0)"
   ]
  },
  {
   "cell_type": "raw",
   "metadata": {},
   "source": [
    "print (\"Rows     : \" ,df_concat.shape[0])\n",
    "print (\"Columns  : \" ,df_concat.shape[1])\n",
    "print (\"\\nFeatures : \\n\" ,df_concat.columns.tolist())\n",
    "print (\"\\nMissing values :  \", df_concat.isnull().sum().values.sum())\n",
    "n_uniq = df_concat.nunique()\n",
    "print (\"\\nUnique values :  \\n\",n_uniq)\n",
    "print (\"\\nTotal Unique values :  {:,}\".format(n_uniq.values.sum()))"
   ]
  },
  {
   "cell_type": "raw",
   "metadata": {},
   "source": [
    "\n",
    "================================================================================================================\n",
    "Rows     :  40428967\n",
    "Columns  :  24\n",
    "\n",
    "Features : \n",
    " ['id', 'click', 'hour', 'C1', 'banner_pos', 'site_id', 'site_domain', 'site_category', 'app_id', 'app_domain', 'app_category', 'device_id', 'device_ip', 'device_model', 'device_type', 'device_conn_type', 'C14', 'C15', 'C16', 'C17', 'C18', 'C19', 'C20', 'C21']\n",
    "\n",
    "Missing values :   0\n",
    "\n",
    "Unique values :  \n",
    " id                  40428967\n",
    "click               2       \n",
    "hour                240     \n",
    "C1                  7       \n",
    "banner_pos          7       \n",
    "site_id             4737    \n",
    "site_domain         7745    \n",
    "site_category       26      \n",
    "app_id              8552    \n",
    "app_domain          559     \n",
    "app_category        36      \n",
    "device_id           2686408 \n",
    "device_ip           6729486 \n",
    "device_model        8251    \n",
    "device_type         5       \n",
    "device_conn_type    4       \n",
    "C14                 2626    \n",
    "C15                 8       \n",
    "C16                 9       \n",
    "C17                 435     \n",
    "C18                 4       \n",
    "C19                 68      \n",
    "C20                 172     \n",
    "C21                 60      \n",
    "                    dtype: int64\n",
    "                    \n",
    "Total Unique values :  49,878,414\n",
    "\n",
    "dtypes: float64(1), int64(14), object(9)\n",
    "memory usage: 7.2+ GB\n",
    "================================================================================================================"
   ]
  },
  {
   "cell_type": "code",
   "execution_count": 16,
   "metadata": {
    "scrolled": false
   },
   "outputs": [
    {
     "name": "stdout",
     "output_type": "stream",
     "text": [
      "0    830299\n",
      "1    169701\n",
      "Name: click, dtype: int64\n"
     ]
    },
    {
     "data": {
      "image/png": "[encoded data removed]",
      "text/plain": [
       "<Figure size 576x432 with 1 Axes>"
      ]
     },
     "metadata": {
      "needs_background": "light"
     },
     "output_type": "display_data"
    }
   ],
   "source": [
    "import matplotlib \n",
    "\n",
    "# Fill Paramter\n",
    "fs = 16 # Font size\n",
    "x_data = df_concat\n",
    "x_col = 'click' # column to count\n",
    "x_hue = None # For divide column\n",
    "\n",
    "matplotlib.rc('xtick', labelsize = fs-2)     \n",
    "matplotlib.rc('ytick', labelsize = fs-2)\n",
    "\n",
    "counts = x_data[x_col].value_counts()\n",
    "max_count = max(counts)\n",
    "total_count = sum(counts)\n",
    "print(counts)\n",
    "fig = plt.figure(figsize= (8,6))\n",
    "ax = sns.countplot(x = x_col, hue = x_hue, data=x_data, order = counts.iloc[:10].index)\n",
    "# fig.suptitle('test title', fontsize=12)\n",
    "ax.set_title('Click-Through Rate (CTR)', fontsize = fs, fontweight='bold' )\n",
    "ax.set_xlabel('Non-click(0) / Click(1)', color = 'r', fontsize = fs, fontweight='bold')\n",
    "ax.set_ylabel('Frequency', color = 'b', fontsize = fs, fontweight='bold')\n",
    "# plt.xticks(rotation=15, color='r', size=16)\n",
    "plt.xticks(color='r', size=16)\n",
    "plt.yticks(color='b', size=16)\n",
    "\n",
    "for i, v in enumerate(counts[:10]):\n",
    "        ax.text(x = i, y=v + max_count*0.01 , s=f'{v:,}', horizontalalignment='center', color='black', fontweight='bold')\n",
    "        ax.text(x = i, y= v/2, s=str(f'{v*100/total_count :.2f}')+'%',\n",
    "                color='yellow', fontweight='bold', size = 14,\n",
    "                horizontalalignment='center', \n",
    "                verticalalignment='center' \n",
    "                )"
   ]
  },
  {
   "cell_type": "markdown",
   "metadata": {},
   "source": [
    "> To address that in this experiment we have the imbalanced class issue."
   ]
  },
  {
   "cell_type": "markdown",
   "metadata": {},
   "source": [
    "<a id=\"ch7\"></a>\n",
    "# 4. Data preparation and preprocessing\n",
    "[Top](#ch0)"
   ]
  },
  {
   "cell_type": "markdown",
   "metadata": {},
   "source": [
    "## Feature Selection\n",
    "\n",
    "![](./img/Framework_of_Feature_Selection_for_Classification.png)\n",
    "\n",
    "<center><b><u>A General Framework of Feature Selection for Classification</u></b></center>\n",
    "\n",
    "## 4.1) Remove features with high variety\n",
    "\n",
    "<p style=\"text-indent: 2.5em;\">\n",
    "In this step, we will eliminate the feature that has unique value more than 1,000 to reduce the dimensions. Due to the more diversity of unique value, the less contribute to model performance."
   ]
  },
  {
   "cell_type": "code",
   "execution_count": 17,
   "metadata": {},
   "outputs": [],
   "source": [
    "df = df_concat"
   ]
  },
  {
   "cell_type": "raw",
   "metadata": {},
   "source": [
    "from pprint import pprint\n",
    "# Print unique value each column which less than 5 unique value\n",
    "col_list = df.columns.tolist()\n",
    "exclude_list = []\n",
    "for i in col_list:\n",
    "    nuni = df[i].nunique()\n",
    "#     print('\\n{} : {}'.format(str(i),nuni))\n",
    "    if nuni < 5:\n",
    "        uni = df[i].unique().tolist()\n",
    "#        y print('>>> Item Lists: {}'.format(uni))\n",
    "    if nuni > 1000 or nuni < 3:\n",
    "        exclude_list.append(i)    \n",
    "#         pprint(f'{str(i)} Number of Unique Item: {nuni} Item Lists: {uni}')\n",
    "print(exclude_list)"
   ]
  },
  {
   "cell_type": "code",
   "execution_count": 18,
   "metadata": {},
   "outputs": [],
   "source": [
    "exclude_list = ['id', 'click', 'site_id', 'site_domain', 'app_id', 'device_id', 'device_ip', 'device_model', 'C14']"
   ]
  },
  {
   "cell_type": "markdown",
   "metadata": {},
   "source": [
    "### Preparing Feature(X) and Class(Y)\n",
    "- Assign Value X and y with Feature Selection"
   ]
  },
  {
   "cell_type": "code",
   "execution_count": 19,
   "metadata": {},
   "outputs": [],
   "source": [
    "X = df_concat.drop(exclude_list+['hour'], axis =1)\n",
    "y = df_concat['click']"
   ]
  },
  {
   "cell_type": "markdown",
   "metadata": {},
   "source": [
    "### Sampling some data\n",
    "\n",
    "*Due to we want to perform feature selection for finding the most important feature and reducing memory consumption. Therefore, we will perform with small sample data first and then bring the result of selection to transform all data.*"
   ]
  },
  {
   "cell_type": "code",
   "execution_count": 92,
   "metadata": {},
   "outputs": [
    {
     "name": "stdout",
     "output_type": "stream",
     "text": [
      "Execution time =  0.9030520915985107  seconds\n"
     ]
    }
   ],
   "source": [
    "start = time()\n",
    "X_all, X_sam, y_all, y_sam = train_test_split(X, y, test_size=0.3, random_state=seed_num, stratify=y)\n",
    "t = time() - start\n",
    "print('Execution time = ', t, ' seconds')"
   ]
  },
  {
   "cell_type": "code",
   "execution_count": 93,
   "metadata": {},
   "outputs": [
    {
     "name": "stdout",
     "output_type": "stream",
     "text": [
      "(300000, 14)\n",
      "(300000,)\n"
     ]
    }
   ],
   "source": [
    "# X_sam = X_sampling[:400_000]\n",
    "# y_sam = y_sampling[:400_000]\n",
    "print(X_sam.shape)\n",
    "print(y_sam.shape)"
   ]
  },
  {
   "cell_type": "code",
   "execution_count": 94,
   "metadata": {},
   "outputs": [
    {
     "data": {
      "text/plain": [
       "0    249090\n",
       "1    50910 \n",
       "Name: click, dtype: int64"
      ]
     },
     "execution_count": 94,
     "metadata": {},
     "output_type": "execute_result"
    }
   ],
   "source": [
    "pd.DataFrame(y_sam, columns=['click'])['click'].value_counts()"
   ]
  },
  {
   "cell_type": "code",
   "execution_count": 95,
   "metadata": {
    "scrolled": true
   },
   "outputs": [
    {
     "name": "stdout",
     "output_type": "stream",
     "text": [
      "<class 'pandas.core.frame.DataFrame'>\n",
      "Int64Index: 300000 entries, 226048 to 568795\n",
      "Data columns (total 14 columns):\n",
      "C1                  300000 non-null int64\n",
      "banner_pos          300000 non-null int64\n",
      "site_category       300000 non-null object\n",
      "app_domain          300000 non-null object\n",
      "app_category        300000 non-null object\n",
      "device_type         300000 non-null int64\n",
      "device_conn_type    300000 non-null int64\n",
      "C15                 300000 non-null int64\n",
      "C16                 300000 non-null int64\n",
      "C17                 300000 non-null int64\n",
      "C18                 300000 non-null int64\n",
      "C19                 300000 non-null int64\n",
      "C20                 300000 non-null int64\n",
      "C21                 300000 non-null int64\n",
      "dtypes: int64(11), object(3)\n",
      "memory usage: 34.3+ MB\n"
     ]
    }
   ],
   "source": [
    "X_sam.info()"
   ]
  },
  {
   "cell_type": "code",
   "execution_count": 96,
   "metadata": {},
   "outputs": [
    {
     "name": "stdout",
     "output_type": "stream",
     "text": [
      "0    249090\n",
      "1    50910 \n",
      "Name: click, dtype: int64\n"
     ]
    },
    {
     "data": {
      "image/png": "[encoded data removed]",
      "text/plain": [
       "<Figure size 576x432 with 1 Axes>"
      ]
     },
     "metadata": {
      "needs_background": "light"
     },
     "output_type": "display_data"
    }
   ],
   "source": [
    "import matplotlib \n",
    "\n",
    "# Fill Paramter\n",
    "fs = 16 # Font size\n",
    "x_data = pd.DataFrame(y_sam, columns=['click'])\n",
    "x_col = 'click' # column to count\n",
    "x_hue = None # For divide column\n",
    "\n",
    "matplotlib.rc('xtick', labelsize = fs-2)     \n",
    "matplotlib.rc('ytick', labelsize = fs-2)\n",
    "\n",
    "counts = x_data[x_col].value_counts()\n",
    "max_count = max(counts)\n",
    "total_count = sum(counts)\n",
    "print(counts)\n",
    "fig = plt.figure(figsize= (8,6))\n",
    "ax = sns.countplot(x = x_col, hue = x_hue, data=x_data, order = counts.iloc[:10].index)\n",
    "# fig.suptitle('test title', fontsize=12)\n",
    "ax.set_title('Click-Through Rate (CTR)', fontsize = fs, fontweight='bold' )\n",
    "ax.set_xlabel('Non-click(0) / Click(1)', color = 'r', fontsize = fs, fontweight='bold')\n",
    "ax.set_ylabel('Frequency', color = 'b', fontsize = fs, fontweight='bold')\n",
    "# plt.xticks(rotation=15, color='r', size=16)\n",
    "plt.xticks(color='r', size=16)\n",
    "plt.yticks(color='b', size=16)\n",
    "\n",
    "for i, v in enumerate(counts[:10]):\n",
    "        ax.text(x = i, y=v + max_count*0.01 , s=f'{v:,}', horizontalalignment='center', color='black', fontweight='bold')\n",
    "        ax.text(x = i, y= v/2, s=str(f'{v*100/total_count :.2f}')+'%',\n",
    "                color='yellow', fontweight='bold', size = 14,\n",
    "                horizontalalignment='center', \n",
    "                verticalalignment='center' \n",
    "                )"
   ]
  },
  {
   "cell_type": "markdown",
   "metadata": {},
   "source": [
    "#### One Hot Encoder"
   ]
  },
  {
   "cell_type": "code",
   "execution_count": 97,
   "metadata": {},
   "outputs": [],
   "source": [
    "# Before we use 'get_dummies' function we have to convert data type of all feature to be 'category' \n",
    "def cvt_type(df, col_list, dtype = 'category'):\n",
    "    for col in col_list:\n",
    "        df[col] = df[col].astype('category')\n",
    "    return df"
   ]
  },
  {
   "cell_type": "code",
   "execution_count": 98,
   "metadata": {},
   "outputs": [
    {
     "name": "stderr",
     "output_type": "stream",
     "text": [
      "/usr/local/lib/python3.7/site-packages/ipykernel_launcher.py:4: SettingWithCopyWarning: \n",
      "A value is trying to be set on a copy of a slice from a DataFrame.\n",
      "Try using .loc[row_indexer,col_indexer] = value instead\n",
      "\n",
      "See the caveats in the documentation: http://pandas.pydata.org/pandas-docs/stable/indexing.html#indexing-view-versus-copy\n",
      "  after removing the cwd from sys.path.\n"
     ]
    }
   ],
   "source": [
    "col_list = X_sam.columns.to_list()\n",
    "X_sam = cvt_type(X_sam, col_list=col_list)"
   ]
  },
  {
   "cell_type": "code",
   "execution_count": 99,
   "metadata": {},
   "outputs": [
    {
     "name": "stdout",
     "output_type": "stream",
     "text": [
      "894\n"
     ]
    }
   ],
   "source": [
    "# Get dummies\n",
    "X_sam_encoded = pd.get_dummies(X_sam, prefix_sep='_', drop_first=True)\n",
    "print(len(X_sam_encoded.columns))"
   ]
  },
  {
   "cell_type": "markdown",
   "metadata": {},
   "source": [
    "### Handle Imbalanced Data\n",
    "- Due to we have a vast dataset, thus we will perform the undersampling technique for the majority class(Non-Click,0).\n",
    "- For reducing resource and memory, undersampling is the proper way to manage this dataset."
   ]
  },
  {
   "cell_type": "code",
   "execution_count": 100,
   "metadata": {},
   "outputs": [],
   "source": [
    "def down_sampling(X,y):                      \n",
    "    rus = RandomUnderSampler(random_state=7)\n",
    "    X_resampled, y_resampled = rus.fit_resample(X, y)\n",
    "    X_resampled = pd.DataFrame(X_resampled, columns = X.columns)\n",
    "#     y_resampled = pd.DataFrame(y_resampled, columns = y.columns)\n",
    "    return X_resampled, y_resampled"
   ]
  },
  {
   "cell_type": "code",
   "execution_count": 101,
   "metadata": {},
   "outputs": [],
   "source": [
    "X_sam_encoded, y_sam = down_sampling(X_sam_encoded, y_sam)"
   ]
  },
  {
   "cell_type": "markdown",
   "metadata": {},
   "source": [
    "## 4.2) Filter Method\n",
    "\n",
    "<img src=\"./img/filte.jpg\" alt=\"Drawing\" style=\"width: 700px;\"/>\n",
    "\n",
    "<p style=\"text-indent: 2.5em;\">\n",
    "This method uses the variable ranking technique in order to select the variables for ordering and here, the selection of features is independent of the classifiers used. By ranking, it means how much useful and important each feature is expected to be for classification. It basically selects the subsets of variables as a pre-processing step independently of the chosen predictor. In filtering, the ranking method can be applied before classification for filtering the less relevant features. It carries out the feature selection task as a pre-processing step which contains no induction algorithm.\n",
    "\n",
    "\n",
    "#### a.) Univariate selection \n",
    "**Chi-Square Test:** In general term, this method is used to test the independence of two events. If a dataset is given for two events, we can get the observed count and the expected count and this test measures how much both the counts are derivate from each other.\n",
    "\n",
    "![](https://res.cloudinary.com/dyd911kmh/image/upload/f_auto,q_auto:best/v1537549804/Image1_c4jcxi.png)"
   ]
  },
  {
   "cell_type": "code",
   "execution_count": 102,
   "metadata": {},
   "outputs": [],
   "source": [
    "def chi2_indtest(X_encoded,y, pvalue = 0.05):\n",
    "    \n",
    "    feature_list_chi = []\n",
    "    feature_list_chi_score = []\n",
    "    for series in X_encoded:\n",
    "        nl = \"\\n\"\n",
    "\n",
    "        crosstab = pd.crosstab(X_encoded[f\"{series}\"], y)\n",
    "    #     print(crosstab, nl)\n",
    "        chi2, p, dof, expected = chi2_contingency(crosstab)\n",
    "    #     print(f\"Chi2 value= {chi2}{nl}p-value= {p}{nl}Degrees of freedom= {dof}{nl}\")\n",
    "        if p < pvalue:\n",
    "            feature_list_chi.append(f\"{series}\")\n",
    "            feature_list_chi_score.append(chi2)\n",
    "    return feature_list_chi, feature_list_chi_score"
   ]
  },
  {
   "cell_type": "code",
   "execution_count": 103,
   "metadata": {},
   "outputs": [],
   "source": [
    "def plot_feature_importances(df, threshold = 0.9):\n",
    "    \"\"\"\n",
    "    Plots 15 most important features and the cumulative importance of features.\n",
    "    Prints the number of features needed to reach threshold cumulative importance.\n",
    "    \n",
    "    Parameters\n",
    "    --------\n",
    "    df : dataframe\n",
    "        Dataframe of feature importances. Columns must be feature and importance\n",
    "    threshold : float, default = 0.9\n",
    "        Threshold for prining information about cumulative importances\n",
    "        \n",
    "    Return\n",
    "    --------\n",
    "    df : dataframe\n",
    "        Dataframe ordered by feature importances with a normalized column (sums to 1)\n",
    "        and a cumulative importance column\n",
    "    \n",
    "    \"\"\"\n",
    "    \n",
    "    plt.rcParams['font.size'] = 18\n",
    "    \n",
    "    # Sort features according to importance\n",
    "    df = df.sort_values('importance', ascending = False).reset_index(drop=True)\n",
    "    \n",
    "    # Normalize the feature importances to add up to one\n",
    "    df['importance_normalized'] = df['importance'] / df['importance'].sum()\n",
    "    df['cumulative_importance'] = np.cumsum(df['importance_normalized'])\n",
    "\n",
    "    # Make a horizontal bar chart of feature importances\n",
    "    plt.figure(figsize = (10, 6))\n",
    "    ax = plt.subplot()\n",
    "    \n",
    "    # Need to reverse the index to plot most important on top\n",
    "    colors = ['b', 'g', 'r', 'c', 'm', 'y','#4ef7ae','#d96d09', '#2b9900','#f7184d', '#1b5c44','#f25e60','#e59400']\n",
    "    ax.barh(list(reversed(list(df.index[:15]))), \n",
    "            df['importance_normalized'].head(15), \n",
    "            align = 'center', edgecolor = 'k',color = colors)\n",
    "#     for i, v in enumerate(df['importance_normalized'].head(15)):\n",
    "#         ax.text(v + 0.001, i , '{:.4f}'.format(v), color='blue', fontweight='bold')\n",
    "    \n",
    "    # Set the yticks and labels\n",
    "    ax.set_yticks(list(reversed(list(df.index[:15]))))\n",
    "    ax.set_yticklabels(df['feature'].head(15))\n",
    "    \n",
    "    # Plot labeling\n",
    "    plt.xlabel('Normalized Importance'); plt.title('Feature Importances')\n",
    "    plt.show()\n",
    "    \n",
    "    # Cumulative importance plot\n",
    "    plt.figure(figsize = (10, 6))\n",
    "    ax = plt.subplot()\n",
    "    n_fea = len(df)\n",
    "    ax.plot(np.arange(n_fea)+1, df['cumulative_importance'], 'r-')\n",
    "    plt.xlabel('Number of Features'); plt.ylabel('Cumulative Importance'); \n",
    "    plt.title('Cumulative Feature Importance');\n",
    "    \n",
    "    if threshold:\n",
    "        # Index of minimum number of features needed for cumulative importance threshold\n",
    "        # np.where returns the index so need to add 1 to have correct number\n",
    "        importance_index = np.min(np.where(df['cumulative_importance'] > threshold))\n",
    "        plt.vlines(x = importance_index + 1, ymin = 0, ymax = threshold, \n",
    "                   linestyles='--', colors = 'blue' )\n",
    "        plt.text(importance_index +0.02*n_fea, 0, str(importance_index + 1), color='red', fontweight='bold')\n",
    "        plt.text(importance_index +0.05*n_fea, threshold, str(threshold*100)+'%', color='orange', fontweight='bold')\n",
    "        plt.show();\n",
    "\n",
    "    print('%d features required for %0.2f of cumulative importance' % (importance_index + 1, threshold))\n",
    "\n",
    "    \n",
    "    return df"
   ]
  },
  {
   "cell_type": "code",
   "execution_count": 104,
   "metadata": {},
   "outputs": [
    {
     "name": "stdout",
     "output_type": "stream",
     "text": [
      "Execution time =  18.140175819396973  seconds\n",
      "Number of feature IMPORTANT for Prediction: 417\n"
     ]
    }
   ],
   "source": [
    "start = time()\n",
    "feature_list_chi, feature_list_chi_score = chi2_indtest(X_sam_encoded,y_sam)\n",
    "t = time() - start\n",
    "print('Execution time = ', t, ' seconds')\n",
    "\n",
    "print('Number of feature IMPORTANT for Prediction:', len(feature_list_chi))"
   ]
  },
  {
   "cell_type": "code",
   "execution_count": 105,
   "metadata": {},
   "outputs": [],
   "source": [
    "df_Chi2_feaimp = pd.DataFrame({'feature': feature_list_chi, \n",
    "                               'importance': feature_list_chi_score})\\\n",
    "                                .sort_values('importance', ascending = False)"
   ]
  },
  {
   "cell_type": "code",
   "execution_count": 106,
   "metadata": {},
   "outputs": [
    {
     "data": {
      "image/png": "[encoded data removed]",
      "text/plain": [
       "<Figure size 720x432 with 1 Axes>"
      ]
     },
     "metadata": {
      "needs_background": "light"
     },
     "output_type": "display_data"
    },
    {
     "data": {
      "image/png": "[encoded data removed]",
      "text/plain": [
       "<Figure size 720x432 with 1 Axes>"
      ]
     },
     "metadata": {
      "needs_background": "light"
     },
     "output_type": "display_data"
    },
    {
     "name": "stdout",
     "output_type": "stream",
     "text": [
      "118 features required for 0.90 of cumulative importance\n"
     ]
    }
   ],
   "source": [
    "df_Chi2_feaimp_norm = plot_feature_importances(df_Chi2_feaimp)"
   ]
  },
  {
   "cell_type": "markdown",
   "metadata": {},
   "source": [
    "#### b.) Feature Importance\n",
    "**Tree-based models** (and consequently ensembles of trees) can determine an \"importance\" for each feature by measuring the reduction in impurity for including the feature in the model.\n",
    "\n",
    "**Extra Trees Classifier**\n",
    "Extra Trees is like Random Forest, in that it builds multiple trees and splits nodes using random subsets of features, but with two key differences: it does not bootstrap observations (meaning it samples without replacement), and nodes are split on random splits, not best splits."
   ]
  },
  {
   "cell_type": "code",
   "execution_count": 107,
   "metadata": {},
   "outputs": [
    {
     "data": {
      "text/plain": [
       "ExtraTreesClassifier(bootstrap=False, class_weight=None, criterion='gini',\n",
       "                     max_depth=None, max_features='auto', max_leaf_nodes=None,\n",
       "                     min_impurity_decrease=0.0, min_impurity_split=None,\n",
       "                     min_samples_leaf=1, min_samples_split=2,\n",
       "                     min_weight_fraction_leaf=0.0, n_estimators='warn',\n",
       "                     n_jobs=None, oob_score=False, random_state=None, verbose=0,\n",
       "                     warm_start=False)"
      ]
     },
     "execution_count": 107,
     "metadata": {},
     "output_type": "execute_result"
    }
   ],
   "source": [
    "ExtraTreesClassifier()"
   ]
  },
  {
   "cell_type": "code",
   "execution_count": 108,
   "metadata": {
    "scrolled": true
   },
   "outputs": [
    {
     "data": {
      "text/plain": [
       "ExtraTreesClassifier(bootstrap=False, class_weight='balanced', criterion='gini',\n",
       "                     max_depth=None, max_features='auto', max_leaf_nodes=None,\n",
       "                     min_impurity_decrease=0.0, min_impurity_split=None,\n",
       "                     min_samples_leaf=1, min_samples_split=2,\n",
       "                     min_weight_fraction_leaf=0.0, n_estimators=10, n_jobs=None,\n",
       "                     oob_score=False, random_state=7, verbose=0,\n",
       "                     warm_start=False)"
      ]
     },
     "execution_count": 108,
     "metadata": {},
     "output_type": "execute_result"
    }
   ],
   "source": [
    "ExtraTC = ExtraTreesClassifier(class_weight='balanced', random_state=7)\n",
    "ExtraTC.fit(X_sam_encoded,y_sam)"
   ]
  },
  {
   "cell_type": "code",
   "execution_count": 109,
   "metadata": {},
   "outputs": [
    {
     "data": {
      "text/html": [
       "<div>\n",
       "<style scoped>\n",
       "    .dataframe tbody tr th:only-of-type {\n",
       "        vertical-align: middle;\n",
       "    }\n",
       "\n",
       "    .dataframe tbody tr th {\n",
       "        vertical-align: top;\n",
       "    }\n",
       "\n",
       "    .dataframe thead th {\n",
       "        text-align: right;\n",
       "    }\n",
       "</style>\n",
       "<table border=\"1\" class=\"dataframe\">\n",
       "  <thead>\n",
       "    <tr style=\"text-align: right;\">\n",
       "      <th></th>\n",
       "      <th>feature</th>\n",
       "      <th>importance</th>\n",
       "    </tr>\n",
       "  </thead>\n",
       "  <tbody>\n",
       "    <tr>\n",
       "      <th>0</th>\n",
       "      <td>C1_1002</td>\n",
       "      <td>0.008</td>\n",
       "    </tr>\n",
       "    <tr>\n",
       "      <th>1</th>\n",
       "      <td>C1_1005</td>\n",
       "      <td>0.004</td>\n",
       "    </tr>\n",
       "    <tr>\n",
       "      <th>2</th>\n",
       "      <td>C1_1007</td>\n",
       "      <td>0.000</td>\n",
       "    </tr>\n",
       "    <tr>\n",
       "      <th>3</th>\n",
       "      <td>C1_1008</td>\n",
       "      <td>0.000</td>\n",
       "    </tr>\n",
       "    <tr>\n",
       "      <th>4</th>\n",
       "      <td>C1_1010</td>\n",
       "      <td>0.005</td>\n",
       "    </tr>\n",
       "  </tbody>\n",
       "</table>\n",
       "</div>"
      ],
      "text/plain": [
       "   feature  importance\n",
       "0  C1_1002 0.008      \n",
       "1  C1_1005 0.004      \n",
       "2  C1_1007 0.000      \n",
       "3  C1_1008 0.000      \n",
       "4  C1_1010 0.005      "
      ]
     },
     "execution_count": 109,
     "metadata": {},
     "output_type": "execute_result"
    }
   ],
   "source": [
    "df_ExtraTC_feaimp = pd.DataFrame({'feature':X_sam_encoded.columns, 'importance':ExtraTC.feature_importances_})\n",
    "df_ExtraTC_feaimp.head()"
   ]
  },
  {
   "cell_type": "code",
   "execution_count": 110,
   "metadata": {
    "scrolled": false
   },
   "outputs": [
    {
     "data": {
      "image/png": "[encoded data removed]",
      "text/plain": [
       "<Figure size 720x432 with 1 Axes>"
      ]
     },
     "metadata": {
      "needs_background": "light"
     },
     "output_type": "display_data"
    },
    {
     "data": {
      "image/png": "[encoded data removed]",
      "text/plain": [
       "<Figure size 720x432 with 1 Axes>"
      ]
     },
     "metadata": {
      "needs_background": "light"
     },
     "output_type": "display_data"
    },
    {
     "name": "stdout",
     "output_type": "stream",
     "text": [
      "250 features required for 0.90 of cumulative importance\n"
     ]
    }
   ],
   "source": [
    "df_ExtraTC_feaimp_norm = plot_feature_importances(df_ExtraTC_feaimp)"
   ]
  },
  {
   "cell_type": "raw",
   "metadata": {},
   "source": [
    "predictions_proba = ExtraTC.predict_proba(X_sam_encoded)[:, 1]\n",
    "print('AUC: ', roc_auc_score(y_sam, predictions_proba)) # AUC:  0.7826879426967401"
   ]
  },
  {
   "cell_type": "code",
   "execution_count": 111,
   "metadata": {},
   "outputs": [
    {
     "name": "stdout",
     "output_type": "stream",
     "text": [
      "AUC:  0.7683988716304142\n"
     ]
    }
   ],
   "source": [
    "predictions_proba = ExtraTC.predict_proba(X_sam_encoded)[:, 1]\n",
    "print('AUC: ', roc_auc_score(y_sam, predictions_proba))"
   ]
  },
  {
   "cell_type": "markdown",
   "metadata": {},
   "source": [
    "**Light GBM** \n",
    "\n",
    "Light GBM beats all the other algorithms when the dataset is extremely large.** Compared to the other algorithms, Light GBM takes lesser time to run on a huge dataset.\n",
    "\n",
    "LightGBM is a gradient boosting framework that uses tree-based algorithms and follows leaf-wise approach while other algorithms work in a level-wise approach pattern. The images below will help you understand the difference in a better way.\n",
    "\n",
    "![](https://s3-ap-south-1.amazonaws.com/av-blog-media/wp-content/uploads/2017/06/11194110/leaf.png)\n",
    "![](https://s3-ap-south-1.amazonaws.com/av-blog-media/wp-content/uploads/2017/06/11194227/depth-768x267.png)"
   ]
  },
  {
   "cell_type": "code",
   "execution_count": 112,
   "metadata": {},
   "outputs": [],
   "source": [
    "# Create the model with several hyperparameters\n",
    "LGBM_clf = lgb.LGBMClassifier(objective='binary', \n",
    "                           boosting_type = 'goss', \n",
    "                           n_estimators = 10000, \n",
    "                           class_weight = 'balanced')"
   ]
  },
  {
   "cell_type": "code",
   "execution_count": 113,
   "metadata": {},
   "outputs": [],
   "source": [
    "def LGBM_fit(X,y, LGBM_clf):\n",
    "    \n",
    "    # Initialize an empty array to hold feature importances\n",
    "    feature_importances = np.zeros(X.shape[1])\n",
    "\n",
    "    # Fit the model twice to avoid overfitting\n",
    "    for i in range(2):\n",
    "\n",
    "        # Split into training and validation set\n",
    "        train_features, valid_features, train_y, valid_y = train_test_split(X, y, test_size = 0.25, \n",
    "                                                                            random_state = i)\n",
    "\n",
    "        # Train using early stopping\n",
    "        LGBM_clf.fit(train_features, train_y, early_stopping_rounds=100, eval_set = [(valid_features, valid_y)], \n",
    "                  eval_metric = 'auc', verbose = 200)\n",
    "\n",
    "        # Record the feature importances\n",
    "        feature_importances += LGBM_clf.feature_importances_\n",
    "\n",
    "        \n",
    "    # Make sure to average feature importances! \n",
    "    feature_importances = feature_importances / 2\n",
    "    feature_importances = pd.DataFrame({'feature': list(X.columns), 'importance': feature_importances})\\\n",
    "                            .sort_values('importance', ascending = False)\n",
    "        \n",
    "    return feature_importances, LGBM_clf"
   ]
  },
  {
   "cell_type": "code",
   "execution_count": 114,
   "metadata": {},
   "outputs": [
    {
     "name": "stdout",
     "output_type": "stream",
     "text": [
      "Training until validation scores don't improve for 100 rounds.\n",
      "[200]\tvalid_0's binary_logloss: 0.619839\tvalid_0's auc: 0.708571\n",
      "Early stopping, best iteration is:\n",
      "[157]\tvalid_0's binary_logloss: 0.619299\tvalid_0's auc: 0.709255\n",
      "Training until validation scores don't improve for 100 rounds.\n",
      "[200]\tvalid_0's binary_logloss: 0.620169\tvalid_0's auc: 0.708046\n",
      "Early stopping, best iteration is:\n",
      "[184]\tvalid_0's binary_logloss: 0.619928\tvalid_0's auc: 0.708054\n"
     ]
    }
   ],
   "source": [
    "df_LGBM_feaimp, LGBM_clf = LGBM_fit(X_sam_encoded, y_sam, LGBM_clf)"
   ]
  },
  {
   "cell_type": "code",
   "execution_count": 115,
   "metadata": {
    "scrolled": false
   },
   "outputs": [
    {
     "data": {
      "image/png": "[encoded data removed]",
      "text/plain": [
       "<Figure size 720x432 with 1 Axes>"
      ]
     },
     "metadata": {
      "needs_background": "light"
     },
     "output_type": "display_data"
    },
    {
     "data": {
      "image/png": "[encoded data removed]",
      "text/plain": [
       "<Figure size 720x432 with 1 Axes>"
      ]
     },
     "metadata": {
      "needs_background": "light"
     },
     "output_type": "display_data"
    },
    {
     "name": "stdout",
     "output_type": "stream",
     "text": [
      "241 features required for 0.90 of cumulative importance\n"
     ]
    }
   ],
   "source": [
    "df_LGBM_feaimp_norm = plot_feature_importances(df_LGBM_feaimp)"
   ]
  },
  {
   "cell_type": "code",
   "execution_count": 116,
   "metadata": {},
   "outputs": [
    {
     "data": {
      "text/html": [
       "<div>\n",
       "<style scoped>\n",
       "    .dataframe tbody tr th:only-of-type {\n",
       "        vertical-align: middle;\n",
       "    }\n",
       "\n",
       "    .dataframe tbody tr th {\n",
       "        vertical-align: top;\n",
       "    }\n",
       "\n",
       "    .dataframe thead th {\n",
       "        text-align: right;\n",
       "    }\n",
       "</style>\n",
       "<table border=\"1\" class=\"dataframe\">\n",
       "  <thead>\n",
       "    <tr style=\"text-align: right;\">\n",
       "      <th></th>\n",
       "      <th>feature</th>\n",
       "      <th>importance</th>\n",
       "      <th>importance_normalized</th>\n",
       "      <th>cumulative_importance</th>\n",
       "    </tr>\n",
       "  </thead>\n",
       "  <tbody>\n",
       "    <tr>\n",
       "      <th>0</th>\n",
       "      <td>banner_pos_1</td>\n",
       "      <td>100.000</td>\n",
       "      <td>0.020</td>\n",
       "      <td>0.020</td>\n",
       "    </tr>\n",
       "    <tr>\n",
       "      <th>1</th>\n",
       "      <td>site_category_f028772b</td>\n",
       "      <td>77.000</td>\n",
       "      <td>0.015</td>\n",
       "      <td>0.035</td>\n",
       "    </tr>\n",
       "    <tr>\n",
       "      <th>2</th>\n",
       "      <td>C19_35</td>\n",
       "      <td>65.500</td>\n",
       "      <td>0.013</td>\n",
       "      <td>0.047</td>\n",
       "    </tr>\n",
       "    <tr>\n",
       "      <th>3</th>\n",
       "      <td>device_conn_type_2</td>\n",
       "      <td>64.500</td>\n",
       "      <td>0.013</td>\n",
       "      <td>0.060</td>\n",
       "    </tr>\n",
       "    <tr>\n",
       "      <th>4</th>\n",
       "      <td>site_category_28905ebd</td>\n",
       "      <td>62.500</td>\n",
       "      <td>0.012</td>\n",
       "      <td>0.072</td>\n",
       "    </tr>\n",
       "  </tbody>\n",
       "</table>\n",
       "</div>"
      ],
      "text/plain": [
       "                  feature  importance  importance_normalized  cumulative_importance\n",
       "0  banner_pos_1           100.000     0.020                  0.020                 \n",
       "1  site_category_f028772b 77.000      0.015                  0.035                 \n",
       "2  C19_35                 65.500      0.013                  0.047                 \n",
       "3  device_conn_type_2     64.500      0.013                  0.060                 \n",
       "4  site_category_28905ebd 62.500      0.012                  0.072                 "
      ]
     },
     "execution_count": 116,
     "metadata": {},
     "output_type": "execute_result"
    }
   ],
   "source": [
    "df_LGBM_feaimp_norm.head()"
   ]
  },
  {
   "cell_type": "raw",
   "metadata": {},
   "source": [
    "predictions_proba = LGBM_clf.predict_proba(X_sam_encoded)[:, 1]\n",
    "print('AUC: ', roc_auc_score(y_sam, predictions_proba))  # AUC:  0.7238386441773844"
   ]
  },
  {
   "cell_type": "code",
   "execution_count": 117,
   "metadata": {},
   "outputs": [
    {
     "name": "stdout",
     "output_type": "stream",
     "text": [
      "AUC:  0.7183598939296938\n"
     ]
    }
   ],
   "source": [
    "predictions_proba = LGBM_clf.predict_proba(X_sam_encoded)[:, 1]\n",
    "print('AUC: ', roc_auc_score(y_sam, predictions_proba))"
   ]
  },
  {
   "cell_type": "markdown",
   "metadata": {},
   "source": [
    "**Logistic Regression**"
   ]
  },
  {
   "cell_type": "code",
   "execution_count": 118,
   "metadata": {},
   "outputs": [
    {
     "data": {
      "text/plain": [
       "LogisticRegression(C=1.0, class_weight=None, dual=False, fit_intercept=True,\n",
       "                   intercept_scaling=1, l1_ratio=None, max_iter=100,\n",
       "                   multi_class='warn', n_jobs=None, penalty='l2',\n",
       "                   random_state=None, solver='warn', tol=0.0001, verbose=0,\n",
       "                   warm_start=False)"
      ]
     },
     "execution_count": 118,
     "metadata": {},
     "output_type": "execute_result"
    }
   ],
   "source": [
    "LogisticRegression()"
   ]
  },
  {
   "cell_type": "code",
   "execution_count": 119,
   "metadata": {},
   "outputs": [],
   "source": [
    "def LogReg_HPTune_wocv(X, y, verbose = 0):\n",
    "    \"\"\"\n",
    "    Purpose\n",
    "    ----------\n",
    "    Choosing a set of optimal hyperparameters for a Logistic Regression Classifier\n",
    "\n",
    "    Parameters\n",
    "    ----------\n",
    "    X: Data set with all feature or predictor\n",
    "    y: Data set with Class\n",
    "    verbose: 0 mean not show summary of tuning\n",
    "             1 mean show summary of tuning\n",
    "    Returns:\n",
    "    ----------\n",
    "    Returns grid search model of Logistic Regression Classifier with tuned hyperparameter\n",
    "    \"\"\"    \n",
    "    \n",
    "    LogReg_clf = LogisticRegression(random_state = 7)\n",
    "    \n",
    "    # Create regularization hyperparameter space\n",
    "    C = np.logspace(-3, 3, 10)\n",
    "    \n",
    "    # Create regularization penalty space\n",
    "    penalty = ['l1', 'l2']\n",
    "    \n",
    "    # Create class weight mode space\n",
    "    class_weight = [None, 'balanced']\n",
    "    \n",
    "    # Create solver function space\n",
    "    solver = ['saga', 'lbfgs', 'newton-cg']\n",
    "    \n",
    "    param_grid = {'C': C,\n",
    "                  'penalty' : penalty,\n",
    "#                   'class_weight': class_weight,\n",
    "#                   'solver' : solver\n",
    "                 }\n",
    "    \n",
    "    best_score = 0\n",
    "    start = time()\n",
    "    \n",
    "    for param_set in tqdm_notebook(ParameterGrid(param_grid)):\n",
    "        LogReg_clf.set_params(**param_set)\n",
    "        LogReg_clf.fit(X,y)\n",
    "        val_score = LogReg_clf.score(X,y)\n",
    "        \n",
    "        # save if best\n",
    "        if val_score > best_score:\n",
    "            best_score = val_score\n",
    "            best_grid = param_set\n",
    "            \n",
    "    if verbose == 1:\n",
    "        print(\"GridSearch without CV took %.2f seconds for %d candidate parameter settings\"\n",
    "              % (time() - start, len(ParameterGrid(param_grid))))\n",
    "    \n",
    "    LogReg_clf = LogReg_clf.set_params(**best_grid)\n",
    "    \n",
    "    return best_grid, best_score, LogReg_clf"
   ]
  },
  {
   "cell_type": "raw",
   "metadata": {},
   "source": [
    "LogReg_best_grid, Log_Reg_best_score, LogReg_clf = LogReg_HPTune_wocv(X_sam_encoded, y_sam, verbose = 1)"
   ]
  },
  {
   "cell_type": "raw",
   "metadata": {},
   "source": [
    "LogReg_best_grid, Log_Reg_best_score # ({'C': 10.0, 'penalty': 'l1'}, 0.6483226755619)"
   ]
  },
  {
   "cell_type": "code",
   "execution_count": 120,
   "metadata": {},
   "outputs": [
    {
     "data": {
      "text/plain": [
       "LogisticRegression(C=10.0, class_weight=None, dual=False, fit_intercept=True,\n",
       "                   intercept_scaling=1, l1_ratio=None, max_iter=100,\n",
       "                   multi_class='warn', n_jobs=None, penalty='l1',\n",
       "                   random_state=7, solver='warn', tol=0.0001, verbose=0,\n",
       "                   warm_start=False)"
      ]
     },
     "execution_count": 120,
     "metadata": {},
     "output_type": "execute_result"
    }
   ],
   "source": [
    "LogReg_clf = LogisticRegression(random_state = 7)\n",
    "LogReg_best_grid = {'C': 10.0, 'penalty': 'l1'}\n",
    "LogReg_clf = LogReg_clf.set_params(**LogReg_best_grid)\n",
    "LogReg_clf.fit(X_sam_encoded, y_sam)"
   ]
  },
  {
   "cell_type": "code",
   "execution_count": 121,
   "metadata": {},
   "outputs": [
    {
     "name": "stdout",
     "output_type": "stream",
     "text": [
      "AUC:  0.7075688796645117\n"
     ]
    }
   ],
   "source": [
    "predictions_proba = LogReg_clf.predict_proba(X_sam_encoded)[:, 1]\n",
    "print('AUC: ', roc_auc_score(y_sam, predictions_proba))"
   ]
  },
  {
   "cell_type": "raw",
   "metadata": {},
   "source": [
    "# LogReg_clf = LogisticRegression(class_weight = 'balanced', random_state = seed_num)\n",
    "LogReg_clf = LogisticRegression(random_state = seed_num)\n",
    "LogReg_clf = LogReg_clf.set_params(**LogReg_best_grid)\n",
    "LogReg_clf.fit(X_sam_encoded, y_sam)"
   ]
  },
  {
   "cell_type": "raw",
   "metadata": {},
   "source": [
    "np.abs(LogReg_clf.coef_[0])"
   ]
  },
  {
   "cell_type": "code",
   "execution_count": 122,
   "metadata": {},
   "outputs": [],
   "source": [
    "df_LogReg_feaimp = pd.DataFrame({'feature': list(X_sam_encoded.columns), \n",
    "                                 'importance': np.abs(LogReg_clf.coef_[0])})\\\n",
    "                                .sort_values('importance', ascending = False)"
   ]
  },
  {
   "cell_type": "code",
   "execution_count": 123,
   "metadata": {},
   "outputs": [
    {
     "data": {
      "text/html": [
       "<div>\n",
       "<style scoped>\n",
       "    .dataframe tbody tr th:only-of-type {\n",
       "        vertical-align: middle;\n",
       "    }\n",
       "\n",
       "    .dataframe tbody tr th {\n",
       "        vertical-align: top;\n",
       "    }\n",
       "\n",
       "    .dataframe thead th {\n",
       "        text-align: right;\n",
       "    }\n",
       "</style>\n",
       "<table border=\"1\" class=\"dataframe\">\n",
       "  <thead>\n",
       "    <tr style=\"text-align: right;\">\n",
       "      <th></th>\n",
       "      <th>feature</th>\n",
       "      <th>importance</th>\n",
       "    </tr>\n",
       "  </thead>\n",
       "  <tbody>\n",
       "    <tr>\n",
       "      <th>91</th>\n",
       "      <td>app_domain_88293ffa</td>\n",
       "      <td>7.900</td>\n",
       "    </tr>\n",
       "    <tr>\n",
       "      <th>76</th>\n",
       "      <td>app_domain_6bfb9168</td>\n",
       "      <td>6.148</td>\n",
       "    </tr>\n",
       "    <tr>\n",
       "      <th>64</th>\n",
       "      <td>app_domain_4fafd4c4</td>\n",
       "      <td>6.056</td>\n",
       "    </tr>\n",
       "    <tr>\n",
       "      <th>224</th>\n",
       "      <td>C17_898</td>\n",
       "      <td>5.504</td>\n",
       "    </tr>\n",
       "    <tr>\n",
       "      <th>73</th>\n",
       "      <td>app_domain_63f57be0</td>\n",
       "      <td>5.187</td>\n",
       "    </tr>\n",
       "  </tbody>\n",
       "</table>\n",
       "</div>"
      ],
      "text/plain": [
       "                 feature  importance\n",
       "91   app_domain_88293ffa 7.900      \n",
       "76   app_domain_6bfb9168 6.148      \n",
       "64   app_domain_4fafd4c4 6.056      \n",
       "224  C17_898             5.504      \n",
       "73   app_domain_63f57be0 5.187      "
      ]
     },
     "execution_count": 123,
     "metadata": {},
     "output_type": "execute_result"
    }
   ],
   "source": [
    "df_LogReg_feaimp.head()"
   ]
  },
  {
   "cell_type": "code",
   "execution_count": 124,
   "metadata": {},
   "outputs": [
    {
     "data": {
      "image/png": "[encoded data removed]",
      "text/plain": [
       "<Figure size 720x432 with 1 Axes>"
      ]
     },
     "metadata": {
      "needs_background": "light"
     },
     "output_type": "display_data"
    },
    {
     "data": {
      "image/png": "[encoded data removed]",
      "text/plain": [
       "<Figure size 720x432 with 1 Axes>"
      ]
     },
     "metadata": {
      "needs_background": "light"
     },
     "output_type": "display_data"
    },
    {
     "name": "stdout",
     "output_type": "stream",
     "text": [
      "403 features required for 0.90 of cumulative importance\n"
     ]
    }
   ],
   "source": [
    "df_LogReg_feaimp_norm = plot_feature_importances(df_LogReg_feaimp)"
   ]
  },
  {
   "cell_type": "markdown",
   "metadata": {},
   "source": [
    "## 4.3) Wrapper Methods\n",
    "<img src=\"./img/wrapper.jpg\" alt=\"Drawing\" style=\"width: 700px;\" title=\"Wrapper Approach to feature subset selection\"/>\n",
    "<p style=\"text-indent: 2.5em;\">\n",
    "Wrapper methods are so called because they wrap a classifier up in a feature selection algorithm. Typically: a set of features is chosen; the efficacy of this set is determined; some perturbation is made to change the original set and the efficacy of the new set is evaluated. The problem with this approach is that feature space is vast and looking at every possible combination would take a large amount of time and computation. This means that some heuristic search methods must be developed to find optimum sets of features.\n",
    "\n",
    "<p style=\"text-indent: 2.5em;\">\n",
    "This method utilises the learning machine of interest as a black box to score subsets of variables according to their predictive power. In the above figure, in a supervised machine learning, the induction algorithm is depicted with a set of training instances, where each instance is described by a vector of feature values and a class label. The induction algorithm which is also considered as the black box is used to induce a classifier which is useful in classifying. In the wrapper approach, the feature subset selection algorithm exists as a wrapper around the induction algorithm. One of the main drawbacks of this technique is the mass of computations required to obtain the feature subset.\n",
    "\n",
    "Some examples of Wrapper Methods are mentioned below:\n",
    "- **Genetic Algorithms:** This algorithm can be used to find a subset of features. CHCGA is the modified version of this algorithm which converges faster and renders a more effective search by maintaining the diversity and evade the stagnation of the population.\n",
    "- **Recursive Feature Elimination:** RFE is a feature selection method which fits a model and removes the weakest feature until the specified number of features is satisfied. Here, the features are ranked by the model’s coefficient or feature importances attributes.\n",
    "- **Sequential Feature Selection:** This naive algorithm starts with a null set and then add one feature to the first step which depicts the highest value for the objective function and from the second step onwards the remaining features are added individually to the current subset and thus the new subset is evaluated. This process is repeated until the required number of features are added."
   ]
  },
  {
   "cell_type": "raw",
   "metadata": {},
   "source": [
    "start = time()\n",
    "\n",
    "model = LogisticRegression(solver='lbfgs',random_state = 7)\n",
    "rfe = RFE(estimator=model, n_features_to_select=400)\n",
    "fit = rfe.fit(X_sam_encoded, y_sam)\n",
    "print(\"Num Features: {}\".format(fit.n_features_))\n",
    "print(\"Selected Features: {}\".format(fit.support_))\n",
    "print(\"Feature Ranking: {}\".format(fit.ranking_))\n",
    "\n",
    "names = X_sam_encoded.columns\n",
    "selected_fea = np.array(names)[fit.support_]\n",
    "print('seledted feature: ',*selected_fea)\n",
    "\n",
    "t = time() - start\n",
    "print('Execution time = ', t, ' seconds')"
   ]
  },
  {
   "cell_type": "markdown",
   "metadata": {},
   "source": [
    "<center><font size=\"5\" color='blue'>========================================================================================================================</font></center>\n",
    "<center><font size=\"4\" color='red'><b>Wrapper methods are computationally costly, and in the case of massive datasets, wrapper methods are not the most effective feature selection method to consider. Thefore, we will skip this method.</b></font></center>\n",
    "<center><font size=\"5\" color='blue'>========================================================================================================================</font></center>"
   ]
  },
  {
   "cell_type": "markdown",
   "metadata": {},
   "source": [
    "## 4.4) Embedded Method\n",
    "\n",
    "<p style=\"text-indent: 2.5em;\">\n",
    "This method tries to combine the efficiency of both the previous methods and performs the selection of variables in the process of training and is usually specific to given learning machines. This method basically learns which feature provides the utmost to the accuracy of the model.\n",
    "\n",
    "Some examples of Embedded Methods are mentioned below:\n",
    "\n",
    "- L1 Regularisation Technique such as LASSO: Least Absolute Shrinkage and Selection Operator (LASSO) is a linear model which estimates sparse coefficients and is useful in some contexts due to its tendency to prefer solutions with fewer parameter values.\n",
    "- Ridge Regression (L2 Regularisation): The L2 Regularisation is also known as Ridge Regression or Tikhonov Regularisation which solves a regression model where the loss function is the linear least squares function and regularisation.\n",
    "- Elastic Net: This linear regression model is trained with L1 and L2 as regulariser which allows for learning a sparse model where few of the weights are non-zero like Lasso and on the other hand maintaining the regularisation properties of Ridge.\n",
    "\n",
    "These approaches tend to be between filters and wrappers in terms of computational complexity."
   ]
  },
  {
   "cell_type": "markdown",
   "metadata": {},
   "source": [
    "<center><font size=\"5\" color='blue'>========================================================================================================================</font></center>\n",
    "<center><font size=\"4\" color='red'><b>Same as Wrapper methods, we will skip this.</b></font></center>\n",
    "<center><font size=\"5\" color='blue'>========================================================================================================================</font></center>"
   ]
  },
  {
   "cell_type": "markdown",
   "metadata": {},
   "source": [
    "## 4.5) Ensemble Feature Selection Method\n",
    "\n",
    "<p style=\"text-indent: 2.5em;\">\n",
    "In high dimensional datasets, due to redundant features and curse of dimensionality, a learning method takes a significant amount of time and performance of the model decreases. To overcome these problems, we use feature selection technique to select a subset of relevant and non-redundant features. However, most feature selection methods are unstable in nature, i.e., for different training datasets, a feature selection method selects different subsets of features that yield different classification accuracy. In this step, we provide an ensemble feature selection method using filter method to select an optimal subset of features by combining multiple subsets of features. The purpose is validated using one filter and four classifiers as below:\n",
    "    \n",
    "- **Remove features with high variety** : eliminate diversity feature\n",
    "- **Univariate selection** : Chi-Square Test\n",
    "- **Feature Importance** : Extra Trees Classifier, LightGBM, and Logistic Regression"
   ]
  },
  {
   "cell_type": "code",
   "execution_count": 125,
   "metadata": {},
   "outputs": [
    {
     "name": "stdout",
     "output_type": "stream",
     "text": [
      "['id', 'click', 'site_id', 'site_domain', 'app_id', 'device_id', 'device_ip', 'device_model', 'C14']\n"
     ]
    }
   ],
   "source": [
    "print(exclude_list)"
   ]
  },
  {
   "cell_type": "code",
   "execution_count": 126,
   "metadata": {},
   "outputs": [
    {
     "name": "stdout",
     "output_type": "stream",
     "text": [
      "['C1_1002', 'C1_1005', 'C1_1007', 'C1_1010', 'C1_1012', 'banner_pos_1', 'banner_pos_7', 'site_category_28905ebd', 'site_category_335d28a8', 'site_category_3e814130', 'site_category_50e219e0', 'site_category_70fb0e29', 'site_category_72722551', 'site_category_75fa27f6', 'site_category_76b2941d']\n"
     ]
    }
   ],
   "source": [
    "print(feature_list_chi[:15])"
   ]
  },
  {
   "cell_type": "code",
   "execution_count": 127,
   "metadata": {},
   "outputs": [
    {
     "name": "stdout",
     "output_type": "stream",
     "text": [
      "['C18_2' 'banner_pos_1' 'device_conn_type_2' 'C15_300' 'C16_250' 'C18_1'\n",
      " 'app_domain_ae637522' 'C21_71' 'C19_39' 'C18_3' 'C17_2424'\n",
      " 'site_category_28905ebd' 'device_conn_type_3' 'site_category_f028772b'\n",
      " 'site_category_3e814130']\n"
     ]
    }
   ],
   "source": [
    "print(df_ExtraTC_feaimp_norm['feature'][:15].values)"
   ]
  },
  {
   "cell_type": "code",
   "execution_count": 128,
   "metadata": {},
   "outputs": [
    {
     "name": "stdout",
     "output_type": "stream",
     "text": [
      "['banner_pos_1' 'site_category_f028772b' 'C19_35' 'device_conn_type_2'\n",
      " 'site_category_28905ebd' 'C18_3' 'site_category_3e814130'\n",
      " 'app_category_0f2161f8' 'C19_39' 'C18_2' 'app_domain_2347f47a'\n",
      " 'site_category_50e219e0' 'app_category_cef3e649' 'C20_100084'\n",
      " 'C20_100077']\n"
     ]
    }
   ],
   "source": [
    "print(df_LGBM_feaimp_norm['feature'][:15].values)"
   ]
  },
  {
   "cell_type": "code",
   "execution_count": 129,
   "metadata": {},
   "outputs": [
    {
     "name": "stdout",
     "output_type": "stream",
     "text": [
      "['app_domain_88293ffa' 'app_domain_6bfb9168' 'app_domain_4fafd4c4'\n",
      " 'C17_898' 'app_domain_63f57be0' 'app_domain_449e219f'\n",
      " 'app_domain_2b627705' 'C20_100032' 'C20_100169' 'app_domain_7eec2ab0'\n",
      " 'C17_2518' 'C17_1821' 'C20_100229' 'C17_2625' 'C17_2339']\n"
     ]
    }
   ],
   "source": [
    "print(df_LogReg_feaimp_norm['feature'][:15].values)"
   ]
  },
  {
   "cell_type": "code",
   "execution_count": 130,
   "metadata": {},
   "outputs": [
    {
     "name": "stdout",
     "output_type": "stream",
     "text": [
      "['C18_2' 'banner_pos_1' 'device_conn_type_2' 'C15_300' 'C16_250' 'C18_1'\n",
      " 'app_domain_ae637522' 'C21_71' 'C19_39' 'C18_3' 'C17_2424'\n",
      " 'site_category_28905ebd' 'device_conn_type_3' 'site_category_f028772b'\n",
      " 'site_category_3e814130']\n"
     ]
    }
   ],
   "source": [
    "threshold = 0.9\n",
    "\n",
    "print(df_ExtraTC_feaimp_norm[(df_ExtraTC_feaimp_norm['cumulative_importance'] < threshold)]['feature'][:15].values)"
   ]
  },
  {
   "cell_type": "code",
   "execution_count": 131,
   "metadata": {},
   "outputs": [
    {
     "data": {
      "text/plain": [
       "316"
      ]
     },
     "execution_count": 131,
     "metadata": {},
     "output_type": "execute_result"
    }
   ],
   "source": [
    "df_chi2 = df_Chi2_feaimp_norm[(df_Chi2_feaimp_norm['importance_normalized'] > 0.00000) & \n",
    "                              (df_Chi2_feaimp_norm['cumulative_importance'] < 0.99)]\n",
    "df_chi2.shape[0]"
   ]
  },
  {
   "cell_type": "code",
   "execution_count": 132,
   "metadata": {
    "scrolled": true
   },
   "outputs": [
    {
     "data": {
      "text/plain": [
       "192"
      ]
     },
     "execution_count": 132,
     "metadata": {},
     "output_type": "execute_result"
    }
   ],
   "source": [
    "df_ExtraTC = df_ExtraTC_feaimp_norm[(df_ExtraTC_feaimp_norm['importance_normalized'] > 0.001) & \n",
    "                                    (df_ExtraTC_feaimp_norm['cumulative_importance'] < threshold)]\n",
    "df_ExtraTC.shape[0]"
   ]
  },
  {
   "cell_type": "code",
   "execution_count": 133,
   "metadata": {
    "scrolled": true
   },
   "outputs": [
    {
     "data": {
      "text/plain": [
       "240"
      ]
     },
     "execution_count": 133,
     "metadata": {},
     "output_type": "execute_result"
    }
   ],
   "source": [
    "df_LGBM = df_LGBM_feaimp_norm[(df_LGBM_feaimp_norm['importance_normalized'] > 0.001) & \n",
    "                              (df_LGBM_feaimp_norm['cumulative_importance'] < threshold)]\n",
    "df_LGBM.shape[0]"
   ]
  },
  {
   "cell_type": "code",
   "execution_count": 134,
   "metadata": {},
   "outputs": [
    {
     "data": {
      "text/plain": [
       "326"
      ]
     },
     "execution_count": 134,
     "metadata": {},
     "output_type": "execute_result"
    }
   ],
   "source": [
    "df_LogReg = df_LogReg_feaimp_norm[(df_LogReg_feaimp_norm['importance_normalized'] > 0.001) & \n",
    "                                  (df_LogReg_feaimp_norm['cumulative_importance'] < threshold)]\n",
    "df_LogReg.shape[0]"
   ]
  },
  {
   "cell_type": "code",
   "execution_count": 135,
   "metadata": {},
   "outputs": [
    {
     "data": {
      "text/html": [
       "<div>\n",
       "<style scoped>\n",
       "    .dataframe tbody tr th:only-of-type {\n",
       "        vertical-align: middle;\n",
       "    }\n",
       "\n",
       "    .dataframe tbody tr th {\n",
       "        vertical-align: top;\n",
       "    }\n",
       "\n",
       "    .dataframe thead th {\n",
       "        text-align: right;\n",
       "    }\n",
       "</style>\n",
       "<table border=\"1\" class=\"dataframe\">\n",
       "  <thead>\n",
       "    <tr style=\"text-align: right;\">\n",
       "      <th></th>\n",
       "      <th>Chi2</th>\n",
       "      <th>ExtraTree</th>\n",
       "      <th>LightGBM</th>\n",
       "      <th>Logistic_Regression</th>\n",
       "    </tr>\n",
       "  </thead>\n",
       "  <tbody>\n",
       "    <tr>\n",
       "      <th>1</th>\n",
       "      <td>C18_2</td>\n",
       "      <td>C18_2</td>\n",
       "      <td>banner_pos_1</td>\n",
       "      <td>app_domain_88293ffa</td>\n",
       "    </tr>\n",
       "    <tr>\n",
       "      <th>2</th>\n",
       "      <td>C18_1</td>\n",
       "      <td>banner_pos_1</td>\n",
       "      <td>site_category_f028772b</td>\n",
       "      <td>app_domain_6bfb9168</td>\n",
       "    </tr>\n",
       "    <tr>\n",
       "      <th>3</th>\n",
       "      <td>C16_250</td>\n",
       "      <td>device_conn_type_2</td>\n",
       "      <td>C19_35</td>\n",
       "      <td>app_domain_4fafd4c4</td>\n",
       "    </tr>\n",
       "    <tr>\n",
       "      <th>4</th>\n",
       "      <td>C21_71</td>\n",
       "      <td>C15_300</td>\n",
       "      <td>device_conn_type_2</td>\n",
       "      <td>C17_898</td>\n",
       "    </tr>\n",
       "    <tr>\n",
       "      <th>5</th>\n",
       "      <td>C15_300</td>\n",
       "      <td>C16_250</td>\n",
       "      <td>site_category_28905ebd</td>\n",
       "      <td>app_domain_63f57be0</td>\n",
       "    </tr>\n",
       "    <tr>\n",
       "      <th>6</th>\n",
       "      <td>app_domain_ae637522</td>\n",
       "      <td>C18_1</td>\n",
       "      <td>C18_3</td>\n",
       "      <td>app_domain_449e219f</td>\n",
       "    </tr>\n",
       "    <tr>\n",
       "      <th>7</th>\n",
       "      <td>C19_39</td>\n",
       "      <td>app_domain_ae637522</td>\n",
       "      <td>site_category_3e814130</td>\n",
       "      <td>app_domain_2b627705</td>\n",
       "    </tr>\n",
       "    <tr>\n",
       "      <th>8</th>\n",
       "      <td>C16_50</td>\n",
       "      <td>C21_71</td>\n",
       "      <td>app_category_0f2161f8</td>\n",
       "      <td>C20_100032</td>\n",
       "    </tr>\n",
       "    <tr>\n",
       "      <th>9</th>\n",
       "      <td>app_domain_7801e8d9</td>\n",
       "      <td>C19_39</td>\n",
       "      <td>C19_39</td>\n",
       "      <td>C20_100169</td>\n",
       "    </tr>\n",
       "    <tr>\n",
       "      <th>10</th>\n",
       "      <td>app_category_0f2161f8</td>\n",
       "      <td>C18_3</td>\n",
       "      <td>C18_2</td>\n",
       "      <td>app_domain_7eec2ab0</td>\n",
       "    </tr>\n",
       "    <tr>\n",
       "      <th>11</th>\n",
       "      <td>C17_2424</td>\n",
       "      <td>C17_2424</td>\n",
       "      <td>app_domain_2347f47a</td>\n",
       "      <td>C17_2518</td>\n",
       "    </tr>\n",
       "    <tr>\n",
       "      <th>12</th>\n",
       "      <td>C21_33</td>\n",
       "      <td>site_category_28905ebd</td>\n",
       "      <td>site_category_50e219e0</td>\n",
       "      <td>C17_1821</td>\n",
       "    </tr>\n",
       "    <tr>\n",
       "      <th>13</th>\n",
       "      <td>C15_320</td>\n",
       "      <td>device_conn_type_3</td>\n",
       "      <td>app_category_cef3e649</td>\n",
       "      <td>C20_100229</td>\n",
       "    </tr>\n",
       "    <tr>\n",
       "      <th>14</th>\n",
       "      <td>C19_161</td>\n",
       "      <td>site_category_f028772b</td>\n",
       "      <td>C20_100084</td>\n",
       "      <td>C17_2625</td>\n",
       "    </tr>\n",
       "    <tr>\n",
       "      <th>15</th>\n",
       "      <td>site_category_50e219e0</td>\n",
       "      <td>site_category_3e814130</td>\n",
       "      <td>C20_100077</td>\n",
       "      <td>C17_2339</td>\n",
       "    </tr>\n",
       "    <tr>\n",
       "      <th>16</th>\n",
       "      <td>device_conn_type_3</td>\n",
       "      <td>app_domain_7801e8d9</td>\n",
       "      <td>C16_250</td>\n",
       "      <td>app_domain_7a9371fa</td>\n",
       "    </tr>\n",
       "    <tr>\n",
       "      <th>17</th>\n",
       "      <td>C21_61</td>\n",
       "      <td>C15_320</td>\n",
       "      <td>C1_1002</td>\n",
       "      <td>banner_pos_3</td>\n",
       "    </tr>\n",
       "    <tr>\n",
       "      <th>18</th>\n",
       "      <td>site_category_3e814130</td>\n",
       "      <td>app_domain_2347f47a</td>\n",
       "      <td>app_category_f95efa07</td>\n",
       "      <td>app_domain_5ac0b939</td>\n",
       "    </tr>\n",
       "    <tr>\n",
       "      <th>19</th>\n",
       "      <td>C20_100193</td>\n",
       "      <td>C16_50</td>\n",
       "      <td>app_domain_7801e8d9</td>\n",
       "      <td>C17_1685</td>\n",
       "    </tr>\n",
       "    <tr>\n",
       "      <th>20</th>\n",
       "      <td>C17_1994</td>\n",
       "      <td>app_category_0f2161f8</td>\n",
       "      <td>device_conn_type_3</td>\n",
       "      <td>app_category_79f0b860</td>\n",
       "    </tr>\n",
       "  </tbody>\n",
       "</table>\n",
       "</div>"
      ],
      "text/plain": [
       "                      Chi2               ExtraTree                LightGBM    Logistic_Regression\n",
       "1   C18_2                   C18_2                   banner_pos_1            app_domain_88293ffa  \n",
       "2   C18_1                   banner_pos_1            site_category_f028772b  app_domain_6bfb9168  \n",
       "3   C16_250                 device_conn_type_2      C19_35                  app_domain_4fafd4c4  \n",
       "4   C21_71                  C15_300                 device_conn_type_2      C17_898              \n",
       "5   C15_300                 C16_250                 site_category_28905ebd  app_domain_63f57be0  \n",
       "6   app_domain_ae637522     C18_1                   C18_3                   app_domain_449e219f  \n",
       "7   C19_39                  app_domain_ae637522     site_category_3e814130  app_domain_2b627705  \n",
       "8   C16_50                  C21_71                  app_category_0f2161f8   C20_100032           \n",
       "9   app_domain_7801e8d9     C19_39                  C19_39                  C20_100169           \n",
       "10  app_category_0f2161f8   C18_3                   C18_2                   app_domain_7eec2ab0  \n",
       "11  C17_2424                C17_2424                app_domain_2347f47a     C17_2518             \n",
       "12  C21_33                  site_category_28905ebd  site_category_50e219e0  C17_1821             \n",
       "13  C15_320                 device_conn_type_3      app_category_cef3e649   C20_100229           \n",
       "14  C19_161                 site_category_f028772b  C20_100084              C17_2625             \n",
       "15  site_category_50e219e0  site_category_3e814130  C20_100077              C17_2339             \n",
       "16  device_conn_type_3      app_domain_7801e8d9     C16_250                 app_domain_7a9371fa  \n",
       "17  C21_61                  C15_320                 C1_1002                 banner_pos_3         \n",
       "18  site_category_3e814130  app_domain_2347f47a     app_category_f95efa07   app_domain_5ac0b939  \n",
       "19  C20_100193              C16_50                  app_domain_7801e8d9     C17_1685             \n",
       "20  C17_1994                app_category_0f2161f8   device_conn_type_3      app_category_79f0b860"
      ]
     },
     "execution_count": 135,
     "metadata": {},
     "output_type": "execute_result"
    }
   ],
   "source": [
    "topn = 20\n",
    "df_topfea = pd.DataFrame(dict(Chi2 = df_chi2.nlargest(topn, columns='importance')['feature'], ExtraTree = df_ExtraTC.nlargest(topn, columns='importance')['feature'],\n",
    "                           LightGBM = df_LGBM.nlargest(topn, columns='importance')['feature'], Logistic_Regression = df_LogReg.nlargest(topn, columns='importance')['feature'] )) \n",
    "\n",
    "df_topfea.index += 1\n",
    "df_topfea"
   ]
  },
  {
   "cell_type": "markdown",
   "metadata": {},
   "source": [
    "***"
   ]
  },
  {
   "cell_type": "markdown",
   "metadata": {},
   "source": [
    "### 4.5.1) Combine All Feature Selection from Each Subset"
   ]
  },
  {
   "cell_type": "markdown",
   "metadata": {},
   "source": [
    "### Choosing top 100 from each subset\n",
    "- Considers the first top 100 raked features from all the selected subsets"
   ]
  },
  {
   "cell_type": "code",
   "execution_count": 136,
   "metadata": {},
   "outputs": [
    {
     "name": "stdout",
     "output_type": "stream",
     "text": [
      "262\n"
     ]
    }
   ],
   "source": [
    "set_fea100 = np.append(df_chi2['feature'][:100].values,df_ExtraTC['feature'][:100].values)\n",
    "set_fea100 = np.append(set_fea100, df_LGBM['feature'][:100].values)\n",
    "set_fea100 = set(np.append(set_fea100, df_LogReg['feature'][:100].values))\n",
    "\n",
    "print(len(set_fea100))"
   ]
  },
  {
   "cell_type": "code",
   "execution_count": 137,
   "metadata": {},
   "outputs": [],
   "source": [
    "set_chi2    = set(df_chi2['feature'].values)\n",
    "set_ExtraTC = set(df_ExtraTC['feature'].values)\n",
    "set_LGBM    = set(df_LGBM['feature'].values)\n",
    "set_LogReg  = set(df_LogReg['feature'].values)"
   ]
  },
  {
   "cell_type": "markdown",
   "metadata": {},
   "source": [
    "#### Union\n",
    "![](./img/union.png)"
   ]
  },
  {
   "cell_type": "code",
   "execution_count": 138,
   "metadata": {},
   "outputs": [
    {
     "name": "stdout",
     "output_type": "stream",
     "text": [
      "591 from 1074\n"
     ]
    }
   ],
   "source": [
    "set_fea_union = set_chi2|set_ExtraTC|set_LGBM|set_LogReg\n",
    "print(len(set_fea_union), 'from', len(set_chi2)+ len(set_ExtraTC)+ len(set_LGBM)+ len(set_LogReg))"
   ]
  },
  {
   "cell_type": "markdown",
   "metadata": {},
   "source": [
    "#### Intersection\n",
    "![](./img/intersec.png)"
   ]
  },
  {
   "cell_type": "code",
   "execution_count": 139,
   "metadata": {},
   "outputs": [
    {
     "name": "stdout",
     "output_type": "stream",
     "text": [
      "41 from 591\n",
      "{'C21_61', 'C21_76', 'C17_2526', 'app_domain_7801e8d9', 'C20_100199', 'C17_2374', 'C17_2225', 'banner_pos_7', 'C17_2496', 'C16_250', 'site_category_76b2941d', 'site_category_28905ebd', 'C17_2524', 'C17_2647', 'site_category_dedf689d', 'app_category_0f2161f8', 'C20_100188', 'C19_419', 'app_domain_df32afa9', 'C21_110', 'site_category_f028772b', 'app_domain_ae637522', 'C17_2286', 'app_category_cef3e649', 'app_domain_b8d325c3', 'C21_15', 'app_category_8ded1f7a', 'app_domain_5b9c592b', 'C17_1722', 'C17_2316', 'C17_1899', 'C18_1', 'site_category_3e814130', 'site_category_50e219e0', 'app_domain_82e27996', 'C17_2036', 'app_domain_0e8616ad', 'C19_1327', 'C17_1872', 'C20_100194', 'app_domain_aefc06bd'}\n"
     ]
    }
   ],
   "source": [
    "set_fea_intersec = set_chi2.intersection(set_ExtraTC).intersection(set_LGBM).intersection(set_LogReg)\n",
    "print(len(set_fea_intersec),'from', len(set_fea_union))\n",
    "print(set_fea_intersec)"
   ]
  },
  {
   "cell_type": "markdown",
   "metadata": {},
   "source": [
    "#### Symmetric Difference\n",
    "![](./img/sym_diff.png)"
   ]
  },
  {
   "cell_type": "code",
   "execution_count": 140,
   "metadata": {},
   "outputs": [
    {
     "name": "stdout",
     "output_type": "stream",
     "text": [
      "406 from 591\n"
     ]
    }
   ],
   "source": [
    "set_fea_symdif = set_chi2.symmetric_difference(set_ExtraTC).symmetric_difference(set_LGBM).symmetric_difference(set_LogReg)\n",
    "print(len(set_fea_symdif),'from', len(set_fea_union))"
   ]
  },
  {
   "cell_type": "markdown",
   "metadata": {},
   "source": [
    "<a id=\"ch8\"></a>\n",
    "# 5. Developing and Fine-tuning hyperparameters\n",
    "[Top](#ch0)"
   ]
  },
  {
   "cell_type": "code",
   "execution_count": 141,
   "metadata": {},
   "outputs": [],
   "source": [
    "def feature_split(df,feature_list):\n",
    "    # Store most important feature in dict\n",
    "    feature_selction_dict = {}\n",
    "    val_list = []\n",
    "    temp = ('_').join(sorted(list(feature_list))[0].split('_')[:-1])\n",
    "    # n_fea = 0\n",
    "    # n_val = 0\n",
    "    n_total_val = 0\n",
    "    # Import df to get dtype of each column\n",
    "    for fea in sorted(list(feature_list)):\n",
    "        fea_nam, fea_val = ('_').join(fea.split('_')[:-1]), fea.split('_')[-1]\n",
    "        if fea_nam == temp:\n",
    "    #         n_fea += 1\n",
    "            # Change each type be same as original\n",
    "            val_list.append(type(df[fea_nam][0])(fea_val))\n",
    "        else:\n",
    "            feature_selction_dict[temp] = val_list\n",
    "            n_total_val += len(val_list)\n",
    "    #         n_val = len(val_list)\n",
    "            val_list = []\n",
    "            val_list.append(type(df[fea_nam][0])(fea_val))\n",
    "    #         print(n_fea,n_val)\n",
    "    #         n_fea = 1\n",
    "    #         n_val = 0\n",
    "        temp = fea_nam\n",
    "    feature_selction_dict[temp] = val_list\n",
    "    n_total_val += len(val_list)\n",
    "\n",
    "    print('Unique Feature: ',len(feature_selction_dict.keys()))\n",
    "    print('Unique Value: ', n_total_val)\n",
    "    print(feature_selction_dict.keys())\n",
    "    print()\n",
    "#     print(feature_selction_dict)\n",
    "    \n",
    "    return feature_selction_dict"
   ]
  },
  {
   "cell_type": "raw",
   "metadata": {},
   "source": [
    "feature_selction_dict = feature_split(X_all,set_fea100)"
   ]
  },
  {
   "cell_type": "code",
   "execution_count": 142,
   "metadata": {},
   "outputs": [
    {
     "name": "stdout",
     "output_type": "stream",
     "text": [
      "Unique Feature:  14\n",
      "Unique Value:  591\n",
      "dict_keys(['C15', 'C16', 'C17', 'C18', 'C19', 'C1', 'C20', 'C21', 'app_category', 'app_domain', 'banner_pos', 'device_conn_type', 'device_type', 'site_category'])\n",
      "\n"
     ]
    }
   ],
   "source": [
    "feature_selction_dict = feature_split(X_all,set_fea_union)"
   ]
  },
  {
   "cell_type": "code",
   "execution_count": 143,
   "metadata": {},
   "outputs": [],
   "source": [
    "def Tranform_and_Encode(df, feature_selected = feature_selction_dict):\n",
    "\n",
    "    all_column = df.columns.tolist()\n",
    "    df = cvt_type(df, col_list=all_column)\n",
    "    \n",
    "    for key,val in tqdm_notebook(feature_selected.items()):\n",
    "        df[key] = df[key].apply(lambda x: x if x in val else '0')\n",
    "        \n",
    "    df = df.reset_index(drop=True)\n",
    "#     X = df.drop(feature_excluded, axis =1)\n",
    "#     y = df['click']\n",
    "\n",
    "    # Get dummies\n",
    "    print(\"Performing One Hot Encoding ....\")\n",
    "    X_encoded = pd.get_dummies(df, prefix_sep='_', drop_first=True)\n",
    "    print(\"===== Complete =====\")\n",
    "    return X_encoded"
   ]
  },
  {
   "cell_type": "raw",
   "metadata": {},
   "source": [
    "start = time()\n",
    "X_all_encoded = Tranform_and_Encode(X_all, feature_selected = feature_selction_dict)\n",
    "t = time() - start\n",
    "print('Execution time = ', t, ' seconds')"
   ]
  },
  {
   "cell_type": "markdown",
   "metadata": {},
   "source": [
    "### Split data to train, validation, and test"
   ]
  },
  {
   "cell_type": "code",
   "execution_count": 144,
   "metadata": {},
   "outputs": [],
   "source": [
    "# Split data to train and test\n",
    "def split_data(X, y, test_size = 0.2, seed=7):\n",
    "    X_trn, X_tst, y_trn, y_tst = train_test_split(X, y, test_size=test_size, random_state=seed, stratify=y)\n",
    "    print(\"Size of training data is \" + str(X_trn.shape))\n",
    "    #y_trn_bin = to_categorical(y_trn)\n",
    "    print(\"Size of training label is \" + str(y_trn.shape))\n",
    "    unique, counts = np.unique(y_trn, return_counts=True)\n",
    "    print('Class Counts:',np.asarray((unique, counts)).T.ravel())\n",
    "    print()\n",
    "    print(\"Size of testing data is \" + str(X_tst.shape))\n",
    "    #y_tst_bin = to_categorical(y_tst)\n",
    "    print(\"Size of testing label is \" + str(y_tst.shape))\n",
    "    unique, counts = np.unique(y_tst, return_counts=True)\n",
    "    print('Class Counts:',np.asarray((unique, counts)).T.ravel())\n",
    "    print()\n",
    "    unique, counts = np.unique(y, return_counts=True)\n",
    "    print('Total Class Counts:',np.asarray((unique, counts)).T.ravel())\n",
    "    return X_trn, X_tst, y_trn, y_tst"
   ]
  },
  {
   "cell_type": "markdown",
   "metadata": {},
   "source": [
    "<center><font size=\"5\" color='blue'>========================================================================================================================</font></center>\n",
    "<center><font size=\"4\" color='red'><b>Due to limitation of time and resource in term of computationally costly and memory, we will reduce size of X_train into 10% for training model. </b></font></center>\n",
    "<center><font size=\"5\" color='blue'>========================================================================================================================</font></center>"
   ]
  },
  {
   "cell_type": "raw",
   "metadata": {},
   "source": [
    "start = time()\n",
    "\n",
    "# Split all data to train and test\n",
    "X_train, X_test, y_train, y_test = split_data(X_all_encoded, y_all, test_size=0.1, seed =seed_num+1)\n",
    "print(\"\\n=========================================================================================\\n\")\n",
    "# Split train data to train and validate\n",
    "X_train, X_valid, y_train, y_valid = split_data(X_train, y_train, test_size=0.1, seed =seed_num+2)\n",
    "print(\"\\n=========================================================================================\\n\")\n",
    "# Sampling just 10% to train model\n",
    "X_train_2, _, y_train_2, _ = split_data(X_train, y_train, test_size=0.9, seed =seed_num+3)\n",
    "\n",
    "t = time() - start\n",
    "print('Execution time = ', t, ' seconds')"
   ]
  },
  {
   "cell_type": "code",
   "execution_count": 145,
   "metadata": {},
   "outputs": [
    {
     "name": "stdout",
     "output_type": "stream",
     "text": [
      "<class 'pandas.core.frame.DataFrame'>\n",
      "Int64Index: 700000 entries, 485551 to 779509\n",
      "Data columns (total 14 columns):\n",
      "C1                  700000 non-null int64\n",
      "banner_pos          700000 non-null int64\n",
      "site_category       700000 non-null object\n",
      "app_domain          700000 non-null object\n",
      "app_category        700000 non-null object\n",
      "device_type         700000 non-null int64\n",
      "device_conn_type    700000 non-null int64\n",
      "C15                 700000 non-null int64\n",
      "C16                 700000 non-null int64\n",
      "C17                 700000 non-null int64\n",
      "C18                 700000 non-null int64\n",
      "C19                 700000 non-null int64\n",
      "C20                 700000 non-null int64\n",
      "C21                 700000 non-null int64\n",
      "dtypes: int64(11), object(3)\n",
      "memory usage: 100.1+ MB\n"
     ]
    }
   ],
   "source": [
    "X_all.info()"
   ]
  },
  {
   "cell_type": "code",
   "execution_count": 146,
   "metadata": {},
   "outputs": [
    {
     "name": "stdout",
     "output_type": "stream",
     "text": [
      "\n",
      "=========================================================================================\n",
      "\n",
      "Transform, Encode, and Split data to train and test ...\n"
     ]
    },
    {
     "name": "stderr",
     "output_type": "stream",
     "text": [
      "/usr/local/lib/python3.7/site-packages/ipykernel_launcher.py:4: SettingWithCopyWarning: \n",
      "A value is trying to be set on a copy of a slice from a DataFrame.\n",
      "Try using .loc[row_indexer,col_indexer] = value instead\n",
      "\n",
      "See the caveats in the documentation: http://pandas.pydata.org/pandas-docs/stable/indexing.html#indexing-view-versus-copy\n",
      "  after removing the cwd from sys.path.\n"
     ]
    },
    {
     "data": {
      "application/vnd.jupyter.widget-view+json": {
       "model_id": "50ade0e3001d4d67a0b44ae76b60d05e",
       "version_major": 2,
       "version_minor": 0
      },
      "text/plain": [
       "HBox(children=(IntProgress(value=0, max=14), HTML(value='')))"
      ]
     },
     "metadata": {},
     "output_type": "display_data"
    },
    {
     "name": "stderr",
     "output_type": "stream",
     "text": [
      "/usr/local/lib/python3.7/site-packages/ipykernel_launcher.py:7: SettingWithCopyWarning: \n",
      "A value is trying to be set on a copy of a slice from a DataFrame.\n",
      "Try using .loc[row_indexer,col_indexer] = value instead\n",
      "\n",
      "See the caveats in the documentation: http://pandas.pydata.org/pandas-docs/stable/indexing.html#indexing-view-versus-copy\n",
      "  import sys\n"
     ]
    },
    {
     "name": "stdout",
     "output_type": "stream",
     "text": [
      "\n",
      "Performing One Hot Encoding ....\n",
      "===== Complete =====\n",
      "Size of training data is (560000, 589)\n",
      "Size of training label is (560000,)\n",
      "Class Counts: [     0 464967      1  95033]\n",
      "\n",
      "Size of testing data is (140000, 589)\n",
      "Size of testing label is (140000,)\n",
      "Class Counts: [     0 116242      1  23758]\n",
      "\n",
      "Total Class Counts: [     0 581209      1 118791]\n",
      "\n",
      "=========================================================================================\n",
      "\n",
      "\n",
      "Split train data to train and validate ...\n",
      "Size of training data is (504000, 589)\n",
      "Size of training label is (504000,)\n",
      "Class Counts: [     0 418470      1  85530]\n",
      "\n",
      "Size of testing data is (56000, 589)\n",
      "Size of testing label is (56000,)\n",
      "Class Counts: [    0 46497     1  9503]\n",
      "\n",
      "Total Class Counts: [     0 464967      1  95033]\n",
      "Execution time =  13.27445101737976  seconds\n"
     ]
    }
   ],
   "source": [
    "start = time()\n",
    "\n",
    "\n",
    "# Sampling just 10% to develop model\n",
    "# print(\"Sampling just 10% to develop model ...\")\n",
    "# X_train, _, y_train, _ = split_data(X_all, y_all, test_size=0.9, seed =seed_num+1)\n",
    "\n",
    "print(\"\\n=========================================================================================\\n\")\n",
    "# Transform, Encode, and Split data to train and test\n",
    "print(\"Transform, Encode, and Split data to train and test ...\")\n",
    "X_all_encoded = Tranform_and_Encode(X_all, feature_selected = feature_selction_dict)\n",
    "# X_train, X_test, y_train, y_test = split_data(X_all_encoded, y_train, test_size=0.4, seed =seed_num+2)\n",
    "X_train, X_test, y_train, y_test = split_data(X_all_encoded, y_all, test_size=0.5, seed =seed_num+2)\n",
    "\n",
    "print(\"\\n=========================================================================================\\n\")\n",
    "\n",
    "# Split train data to train and validate\n",
    "print(\"\\nSplit train data to train and validate ...\")\n",
    "X_train_2, X_valid, y_train_2, y_valid = split_data(X_train, y_train, test_size=0.2, seed =seed_num+3)\n",
    "\n",
    "t = time() - start\n",
    "print('Execution time = ', t, ' seconds')"
   ]
  },
  {
   "cell_type": "code",
   "execution_count": 147,
   "metadata": {},
   "outputs": [
    {
     "name": "stdout",
     "output_type": "stream",
     "text": [
      "<class 'pandas.core.frame.DataFrame'>\n",
      "Int64Index: 504000 entries, 72683 to 318749\n",
      "Columns: 589 entries, C1_1005 to C21_0\n",
      "dtypes: uint8(589)\n",
      "memory usage: 286.9 MB\n"
     ]
    }
   ],
   "source": [
    "X_train_2.info()"
   ]
  },
  {
   "cell_type": "raw",
   "metadata": {},
   "source": [
    "X_train_2 = X_train_2.astype('category')"
   ]
  },
  {
   "cell_type": "raw",
   "metadata": {},
   "source": [
    "start = time()\n",
    "X_train_2_encoded = Tranform_and_Encode(X_train_2, feature_selected = feature_selction_dict)\n",
    "t = time() - start\n",
    "print('Execution time = ', t, ' seconds')"
   ]
  },
  {
   "cell_type": "code",
   "execution_count": 148,
   "metadata": {},
   "outputs": [
    {
     "name": "stdout",
     "output_type": "stream",
     "text": [
      "Execution time =  1.2539646625518799  seconds\n"
     ]
    }
   ],
   "source": [
    "start = time()\n",
    "X_train_2_dn, y_train_2_dn = down_sampling(X_train_2, y_train_2)\n",
    "t = time() - start\n",
    "print('Execution time = ', t, ' seconds')"
   ]
  },
  {
   "cell_type": "code",
   "execution_count": 149,
   "metadata": {},
   "outputs": [
    {
     "name": "stdout",
     "output_type": "stream",
     "text": [
      "<class 'pandas.core.frame.DataFrame'>\n",
      "RangeIndex: 171060 entries, 0 to 171059\n",
      "Columns: 589 entries, C1_1005 to C21_0\n",
      "dtypes: uint8(589)\n",
      "memory usage: 96.1 MB\n"
     ]
    }
   ],
   "source": [
    "X_train_2_dn.info()"
   ]
  },
  {
   "cell_type": "code",
   "execution_count": 150,
   "metadata": {
    "scrolled": false
   },
   "outputs": [
    {
     "name": "stdout",
     "output_type": "stream",
     "text": [
      "<class 'pandas.core.frame.DataFrame'>\n",
      "Int64Index: 140000 entries, 39032 to 32881\n",
      "Columns: 589 entries, C1_1005 to C21_0\n",
      "dtypes: uint8(589)\n",
      "memory usage: 79.7 MB\n"
     ]
    }
   ],
   "source": [
    "X_test.info()"
   ]
  },
  {
   "cell_type": "markdown",
   "metadata": {},
   "source": [
    "## Grid Search"
   ]
  },
  {
   "cell_type": "code",
   "execution_count": 167,
   "metadata": {},
   "outputs": [],
   "source": [
    "# accuracy\n",
    "# balanced_accuracy\n",
    "# average_precision\n",
    "# roc_auc\n",
    "# f1\n",
    "score_param = 'accuracy' # Score for tune model\n",
    "n_iter_search = 20 # Max candidate parameter for RandomizedSearchCV\n",
    "cv = 3 # Number of k-fold cross validation"
   ]
  },
  {
   "cell_type": "markdown",
   "metadata": {},
   "source": [
    "### Extra Trees Classifier"
   ]
  },
  {
   "cell_type": "code",
   "execution_count": 152,
   "metadata": {},
   "outputs": [
    {
     "data": {
      "text/plain": [
       "ExtraTreesClassifier(bootstrap=False, class_weight=None, criterion='gini',\n",
       "                     max_depth=None, max_features='auto', max_leaf_nodes=None,\n",
       "                     min_impurity_decrease=0.0, min_impurity_split=None,\n",
       "                     min_samples_leaf=1, min_samples_split=2,\n",
       "                     min_weight_fraction_leaf=0.0, n_estimators='warn',\n",
       "                     n_jobs=None, oob_score=False, random_state=None, verbose=0,\n",
       "                     warm_start=False)"
      ]
     },
     "execution_count": 152,
     "metadata": {},
     "output_type": "execute_result"
    }
   ],
   "source": [
    "ExtraTreesClassifier()"
   ]
  },
  {
   "cell_type": "code",
   "execution_count": 168,
   "metadata": {},
   "outputs": [],
   "source": [
    "def ExtraTC_HPTune(X, y, verbose = 0):\n",
    "    \"\"\"\n",
    "    Purpose\n",
    "    ----------\n",
    "    Choosing a set of optimal hyperparameters for a Extra Trees Classifier\n",
    "\n",
    "    Parameters\n",
    "    ----------\n",
    "    X: Data set with all feature or predictor\n",
    "    y: Data set with Class\n",
    "    verbose: 0 mean not show summary of tuning\n",
    "             1 mean show summary of tuning\n",
    "    Returns:\n",
    "    ----------\n",
    "    Returns grid search model of Extra Trees Classifier with tuned hyperparameter\n",
    "    \"\"\"    \n",
    "    \n",
    "    ExtraTC = ExtraTreesClassifier(random_state = 7)\n",
    "    \n",
    "    pipeline = Pipeline([('clf',ExtraTC)])\n",
    "    \n",
    "    \n",
    "    # Define Search Param\n",
    "#     param_dist = {#'clf__bootstrap': [True, False],\n",
    "# #                   'clf__max_depth': np.arange(4,50,4),\n",
    "#                   'clf__n_estimators':np.array([20, 100, 200, 500]),\n",
    "                  \n",
    "# #                   'clf__max_features': ['auto', 'sqrt', 'log2', None],\n",
    "# #                   'clf__criterion': ['gini', 'entropy'],\n",
    "# #                   'clf__min_samples_leaf':(1,2),                 \n",
    "# #                   'clf__min_samples_split':(2,3) \n",
    "#                  }\n",
    "#     rs = RandomizedSearchCV(estimator=pipeline,\n",
    "#                             param_distributions=param_dist,\n",
    "#                             refit=True,\n",
    "#                             scoring=score_param,\n",
    "#                             n_iter=n_iter_search,\n",
    "#                             cv=cv,\n",
    "#                             n_jobs=-1,\n",
    "#                             random_state=7,\n",
    "#                             iid=True)\n",
    "    \n",
    "#     if verbose == 1:\n",
    "#         start = time()    \n",
    "#         rs.fit(X,y)\n",
    "#         print(\"RandomizedSearchCV took %.2f seconds for %d candidate parameter settings.\" \n",
    "#               % (time() - start, len(rs.cv_results_['params'])))\n",
    "\n",
    "#     elif verbose == 0:\n",
    "#         rs.fit(X,y)\n",
    "    \n",
    "    # Best parameter from RandomizedSearchCV\n",
    "#     bs_var_maxd = rs.best_params_['clf__max_depth']\n",
    "#     bs_var_nest = rs.best_params_['clf__n_estimators']\n",
    "#     bs_var_maxf = rs.best_params_['clf__max_features']\n",
    "#     bs_var_cri = rs.best_params_['clf__criterion']\n",
    "    \n",
    "    \n",
    "    param_grid = {#'clf__bootstrap': [True, False],dd,\n",
    "#                   'clf__max_depth': np.arange(bs_var_maxd-2,bs_var_maxd+2),\n",
    "#                   'clf__max_features': [bs_var_maxf],\n",
    "#                   'clf__criterion': [bs_var_cri],\n",
    "                  'clf__n_estimators': [100, 1000], #[bs_var_nest*0.9, bs_var_nest*1.1], \n",
    "                  #'clf__min_samples_leaf':(1,2),                 \n",
    "                  #'clf__min_samples_split':(2,3) \n",
    "                 }\n",
    "\n",
    "    gs = GridSearchCV( estimator = pipeline, \n",
    "                       param_grid = param_grid,\n",
    "                       refit = True,\n",
    "                       scoring = score_param,\n",
    "                       cv = cv,\n",
    "                       n_jobs = -1,\n",
    "                       verbose = 1,\n",
    "                       iid = True)   \n",
    "    if verbose == 1:\n",
    "        start = time()\n",
    "        gs.fit(X,y)\n",
    "        print(\"GridSearchCV took %.2f seconds for %d candidate parameter settings with %d estimator and select %d features per node\"\n",
    "              % (time() - start, len(gs.cv_results_['params']), n_est, max_fea))\n",
    "\n",
    "    elif verbose == 0:\n",
    "        gs.fit(X,y)\n",
    "    \n",
    "    return gs"
   ]
  },
  {
   "cell_type": "code",
   "execution_count": 169,
   "metadata": {},
   "outputs": [
    {
     "name": "stdout",
     "output_type": "stream",
     "text": [
      "Fitting 3 folds for each of 2 candidates, totalling 6 fits\n"
     ]
    },
    {
     "name": "stderr",
     "output_type": "stream",
     "text": [
      "[Parallel(n_jobs=-1)]: Using backend LokyBackend with 4 concurrent workers.\n",
      "[Parallel(n_jobs=-1)]: Done   6 out of   6 | elapsed:  7.8min remaining:    0.0s\n",
      "[Parallel(n_jobs=-1)]: Done   6 out of   6 | elapsed:  7.8min finished\n"
     ]
    }
   ],
   "source": [
    "ExtraTC_gs = ExtraTC_HPTune(X_train_2_dn,y_train_2_dn)"
   ]
  },
  {
   "cell_type": "code",
   "execution_count": 177,
   "metadata": {},
   "outputs": [
    {
     "data": {
      "text/plain": [
       "['./Model_report/ExtraTC_Grid_model.sav']"
      ]
     },
     "execution_count": 177,
     "metadata": {},
     "output_type": "execute_result"
    }
   ],
   "source": [
    "# RandomizedSearchCV_List_Model = [SVM_rs]\n",
    "GridSearchCV_List_Model = [ExtraTC_gs]\n",
    "\n",
    "# save the model to disk\n",
    "# filename_ran = './Model_report/finalized_Ran_model_3.sav'\n",
    "# joblib.dump(RandomizedSearchCV_List_Model, filename_ran)\n",
    "\n",
    "filename_grid = './Model_report/ExtraTC_Grid_model.sav'\n",
    "joblib.dump(GridSearchCV_List_Model, filename_grid)"
   ]
  },
  {
   "cell_type": "code",
   "execution_count": 173,
   "metadata": {},
   "outputs": [
    {
     "data": {
      "text/plain": [
       "0.650257219688998"
      ]
     },
     "execution_count": 173,
     "metadata": {},
     "output_type": "execute_result"
    }
   ],
   "source": [
    "ExtraTC_gs.best_score_"
   ]
  },
  {
   "cell_type": "code",
   "execution_count": 176,
   "metadata": {},
   "outputs": [
    {
     "data": {
      "text/html": [
       "<div>\n",
       "<style scoped>\n",
       "    .dataframe tbody tr th:only-of-type {\n",
       "        vertical-align: middle;\n",
       "    }\n",
       "\n",
       "    .dataframe tbody tr th {\n",
       "        vertical-align: top;\n",
       "    }\n",
       "\n",
       "    .dataframe thead th {\n",
       "        text-align: right;\n",
       "    }\n",
       "</style>\n",
       "<table border=\"1\" class=\"dataframe\">\n",
       "  <thead>\n",
       "    <tr style=\"text-align: right;\">\n",
       "      <th></th>\n",
       "      <th>Model</th>\n",
       "      <th>Accuracy</th>\n",
       "      <th>Balanced_Accuracy</th>\n",
       "      <th>AUC</th>\n",
       "      <th>Confusion_Matrix</th>\n",
       "      <th>Confusion_Matrix_Normalized</th>\n",
       "      <th>Recall</th>\n",
       "      <th>Precision</th>\n",
       "      <th>Precision_neg</th>\n",
       "      <th>Specificity</th>\n",
       "      <th>Average_Precision</th>\n",
       "      <th>F1_score</th>\n",
       "      <th>Best_Parameters</th>\n",
       "    </tr>\n",
       "  </thead>\n",
       "  <tbody>\n",
       "    <tr>\n",
       "      <th>0</th>\n",
       "      <td>ExtraTC_gs</td>\n",
       "      <td>0.600</td>\n",
       "      <td>0.650</td>\n",
       "      <td>0.710</td>\n",
       "      <td>{'TP': 17434, 'FP': 49662, 'FN': 6324, 'TN': 66580}</td>\n",
       "      <td>{'TP': '0.12', 'FP': '0.35', 'FN': '0.05', 'TN': '0.48'}</td>\n",
       "      <td>0.730</td>\n",
       "      <td>0.260</td>\n",
       "      <td>0.910</td>\n",
       "      <td>0.570</td>\n",
       "      <td>0.300</td>\n",
       "      <td>0.380</td>\n",
       "      <td>{'clf__n_estimators': 100}</td>\n",
       "    </tr>\n",
       "  </tbody>\n",
       "</table>\n",
       "</div>"
      ],
      "text/plain": [
       "        Model  Accuracy  Balanced_Accuracy   AUC                                     Confusion_Matrix                               Confusion_Matrix_Normalized  Recall  Precision  Precision_neg  Specificity  Average_Precision  F1_score             Best_Parameters\n",
       "0  ExtraTC_gs 0.600     0.650              0.710  {'TP': 17434, 'FP': 49662, 'FN': 6324, 'TN': 66580}  {'TP': '0.12', 'FP': '0.35', 'FN': '0.05', 'TN': '0.48'} 0.730   0.260      0.910          0.570        0.300              0.380      {'clf__n_estimators': 100}"
      ]
     },
     "execution_count": 176,
     "metadata": {},
     "output_type": "execute_result"
    }
   ],
   "source": [
    "model_List = ['ExtraTC_gs']\n",
    "model_func = [ExtraTC_gs]\n",
    "model_report(X_test, y_test, model_List, model_func)"
   ]
  },
  {
   "cell_type": "markdown",
   "metadata": {},
   "source": [
    "### Light GBM Classifier\n",
    "- https://lightgbm.readthedocs.io/en/latest/pythonapi/lightgbm.LGBMClassifier.html#lightgbm.LGBMClassifier\n",
    "- https://github.com/Microsoft/LightGBM/issues/1044\n",
    "- https://www.kaggle.com/ievgenvp/lgbm-custom-randomizedsearchcv-lb-283"
   ]
  },
  {
   "cell_type": "code",
   "execution_count": 179,
   "metadata": {},
   "outputs": [
    {
     "data": {
      "text/plain": [
       "LGBMClassifier(boosting_type='gbdt', class_weight=None, colsample_bytree=1.0,\n",
       "               importance_type='split', learning_rate=0.1, max_depth=-1,\n",
       "               min_child_samples=20, min_child_weight=0.001, min_split_gain=0.0,\n",
       "               n_estimators=100, n_jobs=-1, num_leaves=31, objective=None,\n",
       "               random_state=None, reg_alpha=0.0, reg_lambda=0.0, silent=True,\n",
       "               subsample=1.0, subsample_for_bin=200000, subsample_freq=0)"
      ]
     },
     "execution_count": 179,
     "metadata": {},
     "output_type": "execute_result"
    }
   ],
   "source": [
    "lgb.LGBMClassifier()"
   ]
  },
  {
   "cell_type": "code",
   "execution_count": 245,
   "metadata": {},
   "outputs": [],
   "source": [
    "def LGBM_HPTune_wocv(X, y, verbose = 0):\n",
    "    \"\"\"\n",
    "    Purpose\n",
    "    ----------\n",
    "    Choosing a set of optimal hyperparameters for a Light GBM Classifier\n",
    "\n",
    "    Parameters\n",
    "    ----------\n",
    "    X: Data set with all feature or predictor\n",
    "    y: Data set with Class\n",
    "    verbose: 0 mean not show summary of tuning\n",
    "             1 mean show summary of tuning\n",
    "    Returns:\n",
    "    ----------\n",
    "    Returns grid search model of Light GBM Classifier with tuned hyperparameter\n",
    "    \"\"\"    \n",
    "    # Split into training and validation set\n",
    "    X_train, X_valid, y_train, y_valid = train_test_split(X, y, test_size = 0.25, random_state = 7)\n",
    "    \n",
    "    LGBM_clf = lgb.LGBMClassifier(objective='binary', \n",
    "                                  boosting_type = 'goss', \n",
    "                                  n_estimators = 10000, \n",
    "                                  class_weight = 'balanced',\n",
    "                                  random_state = 7)\n",
    "    \n",
    "    \n",
    "    \n",
    "    # Create num_leaves_choices hyperparameter space\n",
    "    num_leaves_choices = [31, 64, 256]\n",
    "    \n",
    "    # Create learning_rate_choices hyperparameter space\n",
    "    learning_rate_choices = [0.05, 0.1, 0.2]\n",
    "    \n",
    "    \n",
    "    param_grid = {'num_leaves': num_leaves_choices,\n",
    "                  'learning_rate' : learning_rate_choices,\n",
    "                 }\n",
    "    \n",
    "    best_score = 0\n",
    "    start = time()\n",
    "    \n",
    "    for param_set in tqdm_notebook(ParameterGrid(param_grid)):\n",
    "        LGBM_clf.set_params(**param_set)\n",
    "        LGBM_clf.fit(X_train,y_train, \n",
    "                     early_stopping_rounds=100,\n",
    "                     eval_set = [(X_valid, y_valid)], \n",
    "                     eval_metric = 'auc',verbose = 200)\n",
    "        \n",
    "        val_score = LGBM_clf.score(X_valid,y_valid)\n",
    "        \n",
    "        # save if best\n",
    "        if val_score > best_score:\n",
    "            best_score = val_score\n",
    "            best_grid = param_set\n",
    "            \n",
    "    if verbose == 1:\n",
    "        print(\"GridSearch without CV took %.2f seconds for %d candidate parameter settings\"\n",
    "              % (time() - start, len(ParameterGrid(param_grid))))\n",
    "    \n",
    "    LGBM_clf = LGBM_clf.set_params(**best_grid)\n",
    "    \n",
    "    return best_grid, best_score, LGBM_clf"
   ]
  },
  {
   "cell_type": "code",
   "execution_count": 246,
   "metadata": {},
   "outputs": [
    {
     "data": {
      "application/vnd.jupyter.widget-view+json": {
       "model_id": "9ff317cbb091426a91955f3c1433e122",
       "version_major": 2,
       "version_minor": 0
      },
      "text/plain": [
       "HBox(children=(IntProgress(value=0, max=9), HTML(value='')))"
      ]
     },
     "metadata": {},
     "output_type": "display_data"
    },
    {
     "name": "stdout",
     "output_type": "stream",
     "text": [
      "Training until validation scores don't improve for 100 rounds.\n",
      "[200]\tvalid_0's binary_logloss: 0.618806\tvalid_0's auc: 0.708915\n",
      "[400]\tvalid_0's binary_logloss: 0.617391\tvalid_0's auc: 0.711178\n",
      "Early stopping, best iteration is:\n",
      "[380]\tvalid_0's binary_logloss: 0.617314\tvalid_0's auc: 0.711318\n",
      "Training until validation scores don't improve for 100 rounds.\n",
      "[200]\tvalid_0's binary_logloss: 0.616834\tvalid_0's auc: 0.711543\n",
      "Early stopping, best iteration is:\n",
      "[252]\tvalid_0's binary_logloss: 0.616631\tvalid_0's auc: 0.712269\n",
      "Training until validation scores don't improve for 100 rounds.\n",
      "Early stopping, best iteration is:\n",
      "[38]\tvalid_0's binary_logloss: 0.618424\tvalid_0's auc: 0.713535\n",
      "Training until validation scores don't improve for 100 rounds.\n",
      "[200]\tvalid_0's binary_logloss: 0.618137\tvalid_0's auc: 0.709987\n",
      "Early stopping, best iteration is:\n",
      "[288]\tvalid_0's binary_logloss: 0.617595\tvalid_0's auc: 0.710311\n",
      "Training until validation scores don't improve for 100 rounds.\n",
      "[200]\tvalid_0's binary_logloss: 0.617508\tvalid_0's auc: 0.711041\n",
      "Early stopping, best iteration is:\n",
      "[114]\tvalid_0's binary_logloss: 0.61699\tvalid_0's auc: 0.711515\n",
      "Training until validation scores don't improve for 100 rounds.\n",
      "Early stopping, best iteration is:\n",
      "[11]\tvalid_0's binary_logloss: 0.625958\tvalid_0's auc: 0.712996\n",
      "Training until validation scores don't improve for 100 rounds.\n",
      "Early stopping, best iteration is:\n",
      "[74]\tvalid_0's binary_logloss: 0.619099\tvalid_0's auc: 0.708883\n",
      "Training until validation scores don't improve for 100 rounds.\n",
      "Early stopping, best iteration is:\n",
      "[40]\tvalid_0's binary_logloss: 0.618193\tvalid_0's auc: 0.709856\n",
      "Training until validation scores don't improve for 100 rounds.\n",
      "Early stopping, best iteration is:\n",
      "[5]\tvalid_0's binary_logloss: 0.627212\tvalid_0's auc: 0.712238\n",
      "\n",
      "Execution time =  163.80171704292297  seconds\n"
     ]
    }
   ],
   "source": [
    "start = time()\n",
    "LGBM_best_grid, LGBM_best_score, LGBM_clf_gs = LGBM_HPTune_wocv(X_train_2_dn,y_train_2_dn)\n",
    "t = time() - start\n",
    "print('Execution time = ', t, ' seconds')"
   ]
  },
  {
   "cell_type": "code",
   "execution_count": 191,
   "metadata": {},
   "outputs": [
    {
     "data": {
      "text/plain": [
       "({'learning_rate': 0.1, 'num_leaves': 256}, 0.6558868233368409)"
      ]
     },
     "execution_count": 191,
     "metadata": {},
     "output_type": "execute_result"
    }
   ],
   "source": [
    "(LGBM_best_grid, LGBM_best_score) # ({'learning_rate': 0.1, 'num_leaves': 256}, 0.6558868233368409)"
   ]
  },
  {
   "cell_type": "code",
   "execution_count": 192,
   "metadata": {},
   "outputs": [
    {
     "name": "stdout",
     "output_type": "stream",
     "text": [
      "AUC:  0.7124649828221286\n"
     ]
    }
   ],
   "source": [
    "predictions_proba = LGBM_clf_gs.predict_proba(X_test)[:, 1]\n",
    "print('AUC: ', roc_auc_score(y_test, predictions_proba)) #  0.7327053552741454"
   ]
  },
  {
   "cell_type": "code",
   "execution_count": 195,
   "metadata": {},
   "outputs": [
    {
     "data": {
      "text/html": [
       "<div>\n",
       "<style scoped>\n",
       "    .dataframe tbody tr th:only-of-type {\n",
       "        vertical-align: middle;\n",
       "    }\n",
       "\n",
       "    .dataframe tbody tr th {\n",
       "        vertical-align: top;\n",
       "    }\n",
       "\n",
       "    .dataframe thead th {\n",
       "        text-align: right;\n",
       "    }\n",
       "</style>\n",
       "<table border=\"1\" class=\"dataframe\">\n",
       "  <thead>\n",
       "    <tr style=\"text-align: right;\">\n",
       "      <th></th>\n",
       "      <th>Model</th>\n",
       "      <th>Accuracy</th>\n",
       "      <th>Balanced_Accuracy</th>\n",
       "      <th>AUC</th>\n",
       "      <th>Confusion_Matrix</th>\n",
       "      <th>Confusion_Matrix_Normalized</th>\n",
       "      <th>Recall</th>\n",
       "      <th>Precision</th>\n",
       "      <th>Precision_neg</th>\n",
       "      <th>Specificity</th>\n",
       "      <th>Average_Precision</th>\n",
       "      <th>F1_score</th>\n",
       "      <th>Best_Parameters</th>\n",
       "    </tr>\n",
       "  </thead>\n",
       "  <tbody>\n",
       "    <tr>\n",
       "      <th>0</th>\n",
       "      <td>LGBM_clf_gs</td>\n",
       "      <td>0.600</td>\n",
       "      <td>0.650</td>\n",
       "      <td>0.710</td>\n",
       "      <td>{'TP': 17561, 'FP': 50066, 'FN': 6197, 'TN': 66176}</td>\n",
       "      <td>{'TP': '0.13', 'FP': '0.36', 'FN': '0.04', 'TN': '0.47'}</td>\n",
       "      <td>0.740</td>\n",
       "      <td>0.260</td>\n",
       "      <td>0.910</td>\n",
       "      <td>0.570</td>\n",
       "      <td>0.330</td>\n",
       "      <td>0.380</td>\n",
       "      <td>-</td>\n",
       "    </tr>\n",
       "  </tbody>\n",
       "</table>\n",
       "</div>"
      ],
      "text/plain": [
       "         Model  Accuracy  Balanced_Accuracy   AUC                                     Confusion_Matrix                               Confusion_Matrix_Normalized  Recall  Precision  Precision_neg  Specificity  Average_Precision  F1_score Best_Parameters\n",
       "0  LGBM_clf_gs 0.600     0.650              0.710  {'TP': 17561, 'FP': 50066, 'FN': 6197, 'TN': 66176}  {'TP': '0.13', 'FP': '0.36', 'FN': '0.04', 'TN': '0.47'} 0.740   0.260      0.910          0.570        0.330              0.380      -             "
      ]
     },
     "execution_count": 195,
     "metadata": {},
     "output_type": "execute_result"
    }
   ],
   "source": [
    "model_List = ['LGBM_clf_gs']\n",
    "model_func = [LGBM_clf_gs]\n",
    "model_report(X_test, y_test, model_List, model_func)"
   ]
  },
  {
   "cell_type": "markdown",
   "metadata": {},
   "source": [
    "### Logitic Regression Classifier"
   ]
  },
  {
   "cell_type": "code",
   "execution_count": 196,
   "metadata": {},
   "outputs": [
    {
     "data": {
      "application/vnd.jupyter.widget-view+json": {
       "model_id": "28d06677f0b74d71830adfef39c1689f",
       "version_major": 2,
       "version_minor": 0
      },
      "text/plain": [
       "HBox(children=(IntProgress(value=0, max=20), HTML(value='')))"
      ]
     },
     "metadata": {},
     "output_type": "display_data"
    },
    {
     "name": "stdout",
     "output_type": "stream",
     "text": [
      "\n",
      "GridSearch without CV took 592.67 seconds for 20 candidate parameter settings\n",
      "Execution time =  592.6740839481354  seconds\n"
     ]
    }
   ],
   "source": [
    "start = time()\n",
    "LogReg_best_grid, Log_Reg_best_score, LogReg_clf_gs = LogReg_HPTune_wocv(X_train_2_dn, y_train_2_dn, verbose = 1)\n",
    "t = time() - start\n",
    "print('Execution time = ', t, ' seconds')"
   ]
  },
  {
   "cell_type": "code",
   "execution_count": 207,
   "metadata": {},
   "outputs": [
    {
     "data": {
      "text/plain": [
       "({'C': 2.154434690031882, 'penalty': 'l2'}, 0.6476674850929498)"
      ]
     },
     "execution_count": 207,
     "metadata": {},
     "output_type": "execute_result"
    }
   ],
   "source": [
    "(LogReg_best_grid, Log_Reg_best_score)"
   ]
  },
  {
   "cell_type": "raw",
   "metadata": {},
   "source": [
    "start = time()\n",
    "LogReg_clf_dn = LogisticRegression(random_state = 7)\n",
    "LogReg_best_grid = {'C': 10.0, 'penalty': 'l1'}\n",
    "LogReg_clf_dn = LogReg_clf_dn.set_params(**LogReg_best_grid)\n",
    "LogReg_clf_dn.fit(X_train_2_dn, y_train_2_dn)\n",
    "t = time() - start\n",
    "print('Execution time = ', t, ' seconds')"
   ]
  },
  {
   "cell_type": "code",
   "execution_count": 197,
   "metadata": {},
   "outputs": [
    {
     "name": "stdout",
     "output_type": "stream",
     "text": [
      "AUC:  0.6986739737768562\n"
     ]
    }
   ],
   "source": [
    "predictions_proba = LogReg_clf_dn.predict_proba(X_test)[:, 1]\n",
    "print('AUC: ', roc_auc_score(y_test, predictions_proba))"
   ]
  },
  {
   "cell_type": "markdown",
   "metadata": {},
   "source": [
    "<a id=\"ch9\"></a>\n",
    "# 6. Evaluate Model Performance\n",
    "[Top](#ch0)\n",
    "- Accuracy\n",
    "- Balanced_Accuracy\n",
    "- AUC\n",
    "- Confusion Matrix\n",
    "- Recall(Sensitivity)\n",
    "- Precision\n",
    "- Specifivity\n",
    "- Average_Precision\n",
    "- F1_score"
   ]
  },
  {
   "cell_type": "code",
   "execution_count": 252,
   "metadata": {},
   "outputs": [],
   "source": [
    "def print_score(clf, X, y, cv=0):\n",
    "    \n",
    "    y_pred = clf.predict(X)\n",
    "    acc_score = accuracy_score(y, y_pred)\n",
    "    clf_report = classification_report(y, y_pred)\n",
    "#     conf_matrix = confusion_matrix(y, y_pred)\n",
    "    TP, FN, FP, TN = confusion_matrix(y, y_pred, labels=[1, 0]).ravel()\n",
    "    n_data = TP+FN+FP+TN\n",
    "    cm = dict(TP=TP, FP=FP, FN=FN, TN=TN)\n",
    "    cm_nor = dict(TP=f'{TP/n_data:.2f}', FP=f'{FP/n_data:.2f}', FN=f'{FN/n_data:.2f}', TN=f'{TN/n_data:.2f}')\n",
    "                 \n",
    "    print(f\"Results:\\n\")\n",
    "    print(f\"accuracy score: {acc_score:.4f}\\n\")\n",
    "    print(f\"Classification Report: \\n {clf_report}\\n\")\n",
    "    print(f\"Confusion Matrix: \\n {cm}\\n\")\n",
    "    print(f\"Confusion Matrix Normalized: \\n {cm_nor}\\n\")\n",
    "\n",
    "    if cv > 1:\n",
    "        res = cross_val_score(clf, X, y, cv=cv, scoring='accuracy')\n",
    "        print(f\"Average Accuracy: \\t {np.mean(res):.4f}\")\n",
    "        print(f\"Accuracy SD: \\t\\t {np.std(res):.4f}\")\n",
    "        "
   ]
  },
  {
   "cell_type": "code",
   "execution_count": 198,
   "metadata": {},
   "outputs": [],
   "source": [
    "pd.set_option('display.float_format', lambda x: '%.2f' % x)"
   ]
  },
  {
   "cell_type": "markdown",
   "metadata": {},
   "source": [
    "## Evaluate Training Data Performance"
   ]
  },
  {
   "cell_type": "code",
   "execution_count": 209,
   "metadata": {},
   "outputs": [
    {
     "data": {
      "text/html": [
       "<div>\n",
       "<style scoped>\n",
       "    .dataframe tbody tr th:only-of-type {\n",
       "        vertical-align: middle;\n",
       "    }\n",
       "\n",
       "    .dataframe tbody tr th {\n",
       "        vertical-align: top;\n",
       "    }\n",
       "\n",
       "    .dataframe thead th {\n",
       "        text-align: right;\n",
       "    }\n",
       "</style>\n",
       "<table border=\"1\" class=\"dataframe\">\n",
       "  <thead>\n",
       "    <tr style=\"text-align: right;\">\n",
       "      <th></th>\n",
       "      <th>Model</th>\n",
       "      <th>Accuracy</th>\n",
       "      <th>Balanced_Accuracy</th>\n",
       "      <th>AUC</th>\n",
       "      <th>Confusion_Matrix</th>\n",
       "      <th>Confusion_Matrix_Normalized</th>\n",
       "      <th>Recall</th>\n",
       "      <th>Precision</th>\n",
       "      <th>Precision_neg</th>\n",
       "      <th>Specificity</th>\n",
       "      <th>Average_Precision</th>\n",
       "      <th>F1_score</th>\n",
       "      <th>Best_Parameters</th>\n",
       "    </tr>\n",
       "  </thead>\n",
       "  <tbody>\n",
       "    <tr>\n",
       "      <th>0</th>\n",
       "      <td>ExtraTC_gs</td>\n",
       "      <td>0.68</td>\n",
       "      <td>0.68</td>\n",
       "      <td>0.76</td>\n",
       "      <td>{'TP': 65054, 'FP': 33991, 'FN': 20476, 'TN': 51539}</td>\n",
       "      <td>{'TP': '0.38', 'FP': '0.20', 'FN': '0.12', 'TN': '0.30'}</td>\n",
       "      <td>0.76</td>\n",
       "      <td>0.66</td>\n",
       "      <td>0.72</td>\n",
       "      <td>0.60</td>\n",
       "      <td>0.75</td>\n",
       "      <td>0.70</td>\n",
       "      <td>{'clf__n_estimators': 100}</td>\n",
       "    </tr>\n",
       "    <tr>\n",
       "      <th>1</th>\n",
       "      <td>LGBM_clf_gs</td>\n",
       "      <td>0.66</td>\n",
       "      <td>0.66</td>\n",
       "      <td>0.72</td>\n",
       "      <td>{'TP': 63557, 'FP': 36404, 'FN': 21973, 'TN': 49126}</td>\n",
       "      <td>{'TP': '0.37', 'FP': '0.21', 'FN': '0.13', 'TN': '0.29'}</td>\n",
       "      <td>0.74</td>\n",
       "      <td>0.64</td>\n",
       "      <td>0.69</td>\n",
       "      <td>0.57</td>\n",
       "      <td>0.70</td>\n",
       "      <td>0.69</td>\n",
       "      <td>{'learning_rate': 0.1, 'num_leaves': 256}</td>\n",
       "    </tr>\n",
       "    <tr>\n",
       "      <th>2</th>\n",
       "      <td>LogReg_clf_gs</td>\n",
       "      <td>0.65</td>\n",
       "      <td>0.65</td>\n",
       "      <td>0.70</td>\n",
       "      <td>{'TP': 61926, 'FP': 36676, 'FN': 23604, 'TN': 48854}</td>\n",
       "      <td>{'TP': '0.36', 'FP': '0.21', 'FN': '0.14', 'TN': '0.29'}</td>\n",
       "      <td>0.72</td>\n",
       "      <td>0.63</td>\n",
       "      <td>0.67</td>\n",
       "      <td>0.57</td>\n",
       "      <td>0.68</td>\n",
       "      <td>0.67</td>\n",
       "      <td>{'C': 2.154434690031882, 'penalty': 'l2'}</td>\n",
       "    </tr>\n",
       "  </tbody>\n",
       "</table>\n",
       "</div>"
      ],
      "text/plain": [
       "           Model  Accuracy  Balanced_Accuracy  AUC                                      Confusion_Matrix                               Confusion_Matrix_Normalized  Recall  Precision  Precision_neg  Specificity  Average_Precision  F1_score                            Best_Parameters\n",
       "0  ExtraTC_gs    0.68      0.68               0.76  {'TP': 65054, 'FP': 33991, 'FN': 20476, 'TN': 51539}  {'TP': '0.38', 'FP': '0.20', 'FN': '0.12', 'TN': '0.30'} 0.76    0.66       0.72           0.60         0.75               0.70       {'clf__n_estimators': 100}               \n",
       "1  LGBM_clf_gs   0.66      0.66               0.72  {'TP': 63557, 'FP': 36404, 'FN': 21973, 'TN': 49126}  {'TP': '0.37', 'FP': '0.21', 'FN': '0.13', 'TN': '0.29'} 0.74    0.64       0.69           0.57         0.70               0.69       {'learning_rate': 0.1, 'num_leaves': 256}\n",
       "2  LogReg_clf_gs 0.65      0.65               0.70  {'TP': 61926, 'FP': 36676, 'FN': 23604, 'TN': 48854}  {'TP': '0.36', 'FP': '0.21', 'FN': '0.14', 'TN': '0.29'} 0.72    0.63       0.67           0.57         0.68               0.67       {'C': 2.154434690031882, 'penalty': 'l2'}"
      ]
     },
     "execution_count": 209,
     "metadata": {},
     "output_type": "execute_result"
    }
   ],
   "source": [
    "model_List = ['ExtraTC_gs','LGBM_clf_gs','LogReg_clf_gs']\n",
    "model_func = [ExtraTC_gs, LGBM_clf_gs, LogReg_clf_gs]\n",
    "best_param_list = [None, LGBM_best_grid, LogReg_best_grid]\n",
    "model_report(X_train_2_dn, y_train_2_dn, model_List, model_func, best_param_clf = best_param_list)"
   ]
  },
  {
   "cell_type": "raw",
   "metadata": {},
   "source": [
    "print_score(ExtraTC_gs,X_train_2_dn, y_train_2_dn, cv=5)"
   ]
  },
  {
   "cell_type": "code",
   "execution_count": 269,
   "metadata": {},
   "outputs": [
    {
     "name": "stdout",
     "output_type": "stream",
     "text": [
      "Average Accuracy: \t 0.6503\n",
      "Accuracy SD: \t\t 0.0019\n"
     ]
    }
   ],
   "source": [
    "print(f\"Average Accuracy: \\t {ExtraTC_gs.best_score_:.4f}\")\n",
    "print(f\"Accuracy SD: \\t\\t {ExtraTC_gs.cv_results_['std_test_score'][ExtraTC_gs.best_index_]:.4f}\")"
   ]
  },
  {
   "cell_type": "code",
   "execution_count": 270,
   "metadata": {},
   "outputs": [
    {
     "name": "stdout",
     "output_type": "stream",
     "text": [
      "Results:\n",
      "\n",
      "accuracy score: 0.6587\n",
      "\n",
      "Classification Report: \n",
      "               precision    recall  f1-score   support\n",
      "\n",
      "           0       0.69      0.57      0.63     85530\n",
      "           1       0.64      0.74      0.69     85530\n",
      "\n",
      "    accuracy                           0.66    171060\n",
      "   macro avg       0.66      0.66      0.66    171060\n",
      "weighted avg       0.66      0.66      0.66    171060\n",
      "\n",
      "\n",
      "Confusion Matrix: \n",
      " {'TP': 63557, 'FP': 36404, 'FN': 21973, 'TN': 49126}\n",
      "\n",
      "Confusion Matrix Normalized: \n",
      " {'TP': '0.37', 'FP': '0.21', 'FN': '0.13', 'TN': '0.29'}\n",
      "\n",
      "Average Accuracy: \t 0.6465\n",
      "Accuracy SD: \t\t 0.0017\n"
     ]
    }
   ],
   "source": [
    "print_score(LGBM_clf_gs,X_train_2_dn, y_train_2_dn, cv=5)"
   ]
  },
  {
   "cell_type": "code",
   "execution_count": 272,
   "metadata": {},
   "outputs": [
    {
     "name": "stdout",
     "output_type": "stream",
     "text": [
      "Results:\n",
      "\n",
      "accuracy score: 0.6476\n",
      "\n",
      "Classification Report: \n",
      "               precision    recall  f1-score   support\n",
      "\n",
      "           0       0.67      0.57      0.62     85530\n",
      "           1       0.63      0.72      0.67     85530\n",
      "\n",
      "    accuracy                           0.65    171060\n",
      "   macro avg       0.65      0.65      0.65    171060\n",
      "weighted avg       0.65      0.65      0.65    171060\n",
      "\n",
      "\n",
      "Confusion Matrix: \n",
      " {'TP': 61926, 'FP': 36676, 'FN': 23604, 'TN': 48854}\n",
      "\n",
      "Confusion Matrix Normalized: \n",
      " {'TP': '0.36', 'FP': '0.21', 'FN': '0.14', 'TN': '0.29'}\n",
      "\n",
      "Average Accuracy: \t 0.6452\n",
      "Accuracy SD: \t\t 0.0025\n"
     ]
    }
   ],
   "source": [
    "print_score(LogReg_clf_gs,X_train_2_dn, y_train_2_dn, cv=5)"
   ]
  },
  {
   "cell_type": "markdown",
   "metadata": {},
   "source": [
    "## Evaluate Test Data Performance"
   ]
  },
  {
   "cell_type": "code",
   "execution_count": 208,
   "metadata": {},
   "outputs": [
    {
     "data": {
      "text/html": [
       "<div>\n",
       "<style scoped>\n",
       "    .dataframe tbody tr th:only-of-type {\n",
       "        vertical-align: middle;\n",
       "    }\n",
       "\n",
       "    .dataframe tbody tr th {\n",
       "        vertical-align: top;\n",
       "    }\n",
       "\n",
       "    .dataframe thead th {\n",
       "        text-align: right;\n",
       "    }\n",
       "</style>\n",
       "<table border=\"1\" class=\"dataframe\">\n",
       "  <thead>\n",
       "    <tr style=\"text-align: right;\">\n",
       "      <th></th>\n",
       "      <th>Model</th>\n",
       "      <th>Accuracy</th>\n",
       "      <th>Balanced_Accuracy</th>\n",
       "      <th>AUC</th>\n",
       "      <th>Confusion_Matrix</th>\n",
       "      <th>Confusion_Matrix_Normalized</th>\n",
       "      <th>Recall</th>\n",
       "      <th>Precision</th>\n",
       "      <th>Precision_neg</th>\n",
       "      <th>Specificity</th>\n",
       "      <th>Average_Precision</th>\n",
       "      <th>F1_score</th>\n",
       "      <th>Best_Parameters</th>\n",
       "    </tr>\n",
       "  </thead>\n",
       "  <tbody>\n",
       "    <tr>\n",
       "      <th>0</th>\n",
       "      <td>ExtraTC_gs</td>\n",
       "      <td>0.60</td>\n",
       "      <td>0.65</td>\n",
       "      <td>0.71</td>\n",
       "      <td>{'TP': 17434, 'FP': 49662, 'FN': 6324, 'TN': 66580}</td>\n",
       "      <td>{'TP': '0.12', 'FP': '0.35', 'FN': '0.05', 'TN': '0.48'}</td>\n",
       "      <td>0.73</td>\n",
       "      <td>0.26</td>\n",
       "      <td>0.91</td>\n",
       "      <td>0.57</td>\n",
       "      <td>0.30</td>\n",
       "      <td>0.38</td>\n",
       "      <td>{'clf__n_estimators': 100}</td>\n",
       "    </tr>\n",
       "    <tr>\n",
       "      <th>1</th>\n",
       "      <td>LGBM_clf_gs</td>\n",
       "      <td>0.60</td>\n",
       "      <td>0.65</td>\n",
       "      <td>0.71</td>\n",
       "      <td>{'TP': 17561, 'FP': 50066, 'FN': 6197, 'TN': 66176}</td>\n",
       "      <td>{'TP': '0.13', 'FP': '0.36', 'FN': '0.04', 'TN': '0.47'}</td>\n",
       "      <td>0.74</td>\n",
       "      <td>0.26</td>\n",
       "      <td>0.91</td>\n",
       "      <td>0.57</td>\n",
       "      <td>0.33</td>\n",
       "      <td>0.38</td>\n",
       "      <td>{'learning_rate': 0.1, 'num_leaves': 256}</td>\n",
       "    </tr>\n",
       "    <tr>\n",
       "      <th>2</th>\n",
       "      <td>LogReg_clf_gs</td>\n",
       "      <td>0.59</td>\n",
       "      <td>0.64</td>\n",
       "      <td>0.70</td>\n",
       "      <td>{'TP': 17127, 'FP': 50097, 'FN': 6631, 'TN': 66145}</td>\n",
       "      <td>{'TP': '0.12', 'FP': '0.36', 'FN': '0.05', 'TN': '0.47'}</td>\n",
       "      <td>0.72</td>\n",
       "      <td>0.25</td>\n",
       "      <td>0.91</td>\n",
       "      <td>0.57</td>\n",
       "      <td>0.32</td>\n",
       "      <td>0.38</td>\n",
       "      <td>{'C': 2.154434690031882, 'penalty': 'l2'}</td>\n",
       "    </tr>\n",
       "  </tbody>\n",
       "</table>\n",
       "</div>"
      ],
      "text/plain": [
       "           Model  Accuracy  Balanced_Accuracy  AUC                                     Confusion_Matrix                               Confusion_Matrix_Normalized  Recall  Precision  Precision_neg  Specificity  Average_Precision  F1_score                            Best_Parameters\n",
       "0  ExtraTC_gs    0.60      0.65               0.71  {'TP': 17434, 'FP': 49662, 'FN': 6324, 'TN': 66580}  {'TP': '0.12', 'FP': '0.35', 'FN': '0.05', 'TN': '0.48'} 0.73    0.26       0.91           0.57         0.30               0.38       {'clf__n_estimators': 100}               \n",
       "1  LGBM_clf_gs   0.60      0.65               0.71  {'TP': 17561, 'FP': 50066, 'FN': 6197, 'TN': 66176}  {'TP': '0.13', 'FP': '0.36', 'FN': '0.04', 'TN': '0.47'} 0.74    0.26       0.91           0.57         0.33               0.38       {'learning_rate': 0.1, 'num_leaves': 256}\n",
       "2  LogReg_clf_gs 0.59      0.64               0.70  {'TP': 17127, 'FP': 50097, 'FN': 6631, 'TN': 66145}  {'TP': '0.12', 'FP': '0.36', 'FN': '0.05', 'TN': '0.47'} 0.72    0.25       0.91           0.57         0.32               0.38       {'C': 2.154434690031882, 'penalty': 'l2'}"
      ]
     },
     "execution_count": 208,
     "metadata": {},
     "output_type": "execute_result"
    }
   ],
   "source": [
    "model_List = ['ExtraTC_gs','LGBM_clf_gs','LogReg_clf_gs']\n",
    "model_func = [ExtraTC_gs, LGBM_clf_gs, LogReg_clf_dn]\n",
    "best_param_list = [None, LGBM_best_grid, LogReg_best_grid]\n",
    "model_report(X_test, y_test, model_List, model_func, best_param_clf = best_param_list)"
   ]
  },
  {
   "cell_type": "markdown",
   "metadata": {},
   "source": [
    "<a id=\"ch10\"></a>\n",
    "# Result\n",
    "[Top](#ch0)\n",
    "\n",
    "<p style=\"text-indent: 2.5em;\">\n",
    "    According to model summary on testing data, the ExtraTC_gs get the performance with Average precision and AUC is 30% and 71% respectively. LGBM_clf_gs get the performance with Average precision and AUC is 33% and 71% respectively. LogReg_clf_gs get the performance with Average precision and AUC is 32% and 70% respectively. The average accuracy and standard deviation in ExtraTC_gs, LGBM_clf_gs, LogReg_clf_gs is (65.00%,0.0019) (64.65%,0.0017) (64.52%,0.0025) respectively.\n",
    "\n",
    "<p style=\"text-indent: 2.5em;\">\n",
    "    The most top 20 importance feature of chi2, Extra Trees Classifier, Light GBM Classifier, and Logitic Regression Classifier are as table below."
   ]
  },
  {
   "cell_type": "code",
   "execution_count": 81,
   "metadata": {
    "scrolled": false
   },
   "outputs": [
    {
     "data": {
      "text/html": [
       "<div>\n",
       "<style scoped>\n",
       "    .dataframe tbody tr th:only-of-type {\n",
       "        vertical-align: middle;\n",
       "    }\n",
       "\n",
       "    .dataframe tbody tr th {\n",
       "        vertical-align: top;\n",
       "    }\n",
       "\n",
       "    .dataframe thead th {\n",
       "        text-align: right;\n",
       "    }\n",
       "</style>\n",
       "<table border=\"1\" class=\"dataframe\">\n",
       "  <thead>\n",
       "    <tr style=\"text-align: right;\">\n",
       "      <th></th>\n",
       "      <th>Chi2</th>\n",
       "      <th>ExtraTree</th>\n",
       "      <th>LightGBM</th>\n",
       "      <th>Logistic_Regression</th>\n",
       "    </tr>\n",
       "  </thead>\n",
       "  <tbody>\n",
       "    <tr>\n",
       "      <th>1</th>\n",
       "      <td>C18_2</td>\n",
       "      <td>device_conn_type_2</td>\n",
       "      <td>banner_pos_1</td>\n",
       "      <td>app_category_7113d72a</td>\n",
       "    </tr>\n",
       "    <tr>\n",
       "      <th>2</th>\n",
       "      <td>C21_33</td>\n",
       "      <td>banner_pos_1</td>\n",
       "      <td>C18_3</td>\n",
       "      <td>C19_41</td>\n",
       "    </tr>\n",
       "    <tr>\n",
       "      <th>3</th>\n",
       "      <td>C15_300</td>\n",
       "      <td>C18_2</td>\n",
       "      <td>site_category_f028772b</td>\n",
       "      <td>C20_100005</td>\n",
       "    </tr>\n",
       "    <tr>\n",
       "      <th>4</th>\n",
       "      <td>C16_250</td>\n",
       "      <td>C17_2201</td>\n",
       "      <td>C20_100084</td>\n",
       "      <td>C20_100013</td>\n",
       "    </tr>\n",
       "    <tr>\n",
       "      <th>5</th>\n",
       "      <td>C15_320</td>\n",
       "      <td>site_category_f028772b</td>\n",
       "      <td>C19_39</td>\n",
       "      <td>C20_100215</td>\n",
       "    </tr>\n",
       "    <tr>\n",
       "      <th>6</th>\n",
       "      <td>C16_50</td>\n",
       "      <td>C18_3</td>\n",
       "      <td>C18_2</td>\n",
       "      <td>C17_196</td>\n",
       "    </tr>\n",
       "    <tr>\n",
       "      <th>7</th>\n",
       "      <td>C18_3</td>\n",
       "      <td>C19_39</td>\n",
       "      <td>app_category_0f2161f8</td>\n",
       "      <td>C20_100028</td>\n",
       "    </tr>\n",
       "    <tr>\n",
       "      <th>8</th>\n",
       "      <td>site_category_50e219e0</td>\n",
       "      <td>C15_300</td>\n",
       "      <td>app_domain_2347f47a</td>\n",
       "      <td>C20_100191</td>\n",
       "    </tr>\n",
       "    <tr>\n",
       "      <th>9</th>\n",
       "      <td>app_domain_7801e8d9</td>\n",
       "      <td>app_category_0f2161f8</td>\n",
       "      <td>device_conn_type_2</td>\n",
       "      <td>site_category_8fd0aea4</td>\n",
       "    </tr>\n",
       "    <tr>\n",
       "      <th>10</th>\n",
       "      <td>C19_39</td>\n",
       "      <td>site_category_3e814130</td>\n",
       "      <td>site_category_50e219e0</td>\n",
       "      <td>C20_100049</td>\n",
       "    </tr>\n",
       "    <tr>\n",
       "      <th>11</th>\n",
       "      <td>C18_1</td>\n",
       "      <td>C21_51</td>\n",
       "      <td>C17_1722</td>\n",
       "      <td>C17_2286</td>\n",
       "    </tr>\n",
       "    <tr>\n",
       "      <th>12</th>\n",
       "      <td>C19_547</td>\n",
       "      <td>C20_100077</td>\n",
       "      <td>C21_23</td>\n",
       "      <td>C17_2339</td>\n",
       "    </tr>\n",
       "    <tr>\n",
       "      <th>13</th>\n",
       "      <td>C21_51</td>\n",
       "      <td>site_category_28905ebd</td>\n",
       "      <td>site_category_28905ebd</td>\n",
       "      <td>app_domain_b8d325c3</td>\n",
       "    </tr>\n",
       "    <tr>\n",
       "      <th>14</th>\n",
       "      <td>C17_2201</td>\n",
       "      <td>C21_157</td>\n",
       "      <td>C21_61</td>\n",
       "      <td>C17_549</td>\n",
       "    </tr>\n",
       "    <tr>\n",
       "      <th>15</th>\n",
       "      <td>C21_43</td>\n",
       "      <td>app_domain_7801e8d9</td>\n",
       "      <td>app_domain_7801e8d9</td>\n",
       "      <td>C17_2242</td>\n",
       "    </tr>\n",
       "    <tr>\n",
       "      <th>16</th>\n",
       "      <td>C17_2487</td>\n",
       "      <td>C21_79</td>\n",
       "      <td>site_category_3e814130</td>\n",
       "      <td>C20_100026</td>\n",
       "    </tr>\n",
       "    <tr>\n",
       "      <th>17</th>\n",
       "      <td>C19_1063</td>\n",
       "      <td>app_domain_2347f47a</td>\n",
       "      <td>C17_1993</td>\n",
       "      <td>app_category_d1327cf5</td>\n",
       "    </tr>\n",
       "    <tr>\n",
       "      <th>18</th>\n",
       "      <td>C17_1993</td>\n",
       "      <td>app_category_f95efa07</td>\n",
       "      <td>C21_33</td>\n",
       "      <td>C20_100046</td>\n",
       "    </tr>\n",
       "    <tr>\n",
       "      <th>19</th>\n",
       "      <td>C21_61</td>\n",
       "      <td>C20_100079</td>\n",
       "      <td>C21_117</td>\n",
       "      <td>C20_100055</td>\n",
       "    </tr>\n",
       "    <tr>\n",
       "      <th>20</th>\n",
       "      <td>C17_1722</td>\n",
       "      <td>C20_100148</td>\n",
       "      <td>C21_157</td>\n",
       "      <td>app_domain_5c620f04</td>\n",
       "    </tr>\n",
       "  </tbody>\n",
       "</table>\n",
       "</div>"
      ],
      "text/plain": [
       "                      Chi2               ExtraTree                LightGBM     Logistic_Regression\n",
       "1   C18_2                   device_conn_type_2      banner_pos_1            app_category_7113d72a \n",
       "2   C21_33                  banner_pos_1            C18_3                   C19_41                \n",
       "3   C15_300                 C18_2                   site_category_f028772b  C20_100005            \n",
       "4   C16_250                 C17_2201                C20_100084              C20_100013            \n",
       "5   C15_320                 site_category_f028772b  C19_39                  C20_100215            \n",
       "6   C16_50                  C18_3                   C18_2                   C17_196               \n",
       "7   C18_3                   C19_39                  app_category_0f2161f8   C20_100028            \n",
       "8   site_category_50e219e0  C15_300                 app_domain_2347f47a     C20_100191            \n",
       "9   app_domain_7801e8d9     app_category_0f2161f8   device_conn_type_2      site_category_8fd0aea4\n",
       "10  C19_39                  site_category_3e814130  site_category_50e219e0  C20_100049            \n",
       "11  C18_1                   C21_51                  C17_1722                C17_2286              \n",
       "12  C19_547                 C20_100077              C21_23                  C17_2339              \n",
       "13  C21_51                  site_category_28905ebd  site_category_28905ebd  app_domain_b8d325c3   \n",
       "14  C17_2201                C21_157                 C21_61                  C17_549               \n",
       "15  C21_43                  app_domain_7801e8d9     app_domain_7801e8d9     C17_2242              \n",
       "16  C17_2487                C21_79                  site_category_3e814130  C20_100026            \n",
       "17  C19_1063                app_domain_2347f47a     C17_1993                app_category_d1327cf5 \n",
       "18  C17_1993                app_category_f95efa07   C21_33                  C20_100046            \n",
       "19  C21_61                  C20_100079              C21_117                 C20_100055            \n",
       "20  C17_1722                C20_100148              C21_157                 app_domain_5c620f04   "
      ]
     },
     "execution_count": 81,
     "metadata": {},
     "output_type": "execute_result"
    }
   ],
   "source": [
    "df_topfea"
   ]
  },
  {
   "cell_type": "markdown",
   "metadata": {},
   "source": [
    "## Intersection Feature \n",
    "- Feature of topn by every classifier."
   ]
  },
  {
   "cell_type": "code",
   "execution_count": 251,
   "metadata": {},
   "outputs": [],
   "source": [
    "Intersec_topn = set(np.append(np.append(np.append(df_topfea.iloc[:,0],df_topfea.iloc[:,1]),\n",
    "                                        df_topfea.iloc[:,2]),df_topfea.iloc[:,3]))"
   ]
  },
  {
   "cell_type": "code",
   "execution_count": 239,
   "metadata": {},
   "outputs": [
    {
     "name": "stdout",
     "output_type": "stream",
     "text": [
      "Unique Feature:  13\n",
      "Unique Value:  52\n",
      "dict_keys(['C15', 'C16', 'C17', 'C18', 'C19', 'C1', 'C20', 'C21', 'app_category', 'app_domain', 'banner_pos', 'device_conn_type', 'site_category'])\n",
      "\n"
     ]
    },
    {
     "data": {
      "text/plain": [
       "dict_keys(['C15', 'C16', 'C17', 'C18', 'C19', 'C1', 'C20', 'C21', 'app_category', 'app_domain', 'banner_pos', 'device_conn_type', 'site_category'])"
      ]
     },
     "execution_count": 239,
     "metadata": {},
     "output_type": "execute_result"
    }
   ],
   "source": [
    "Intersec_topn_dict = feature_split(X_all,Intersec_topn);\n",
    "Intersec_topn_dict.keys()"
   ]
  },
  {
   "cell_type": "code",
   "execution_count": 249,
   "metadata": {},
   "outputs": [
    {
     "data": {
      "text/plain": [
       "{'C15': [300, 320],\n",
       " 'C16': [250, 50],\n",
       " 'C17': [1685, 1821, 1994, 2339, 2424, 2518, 2625, 898],\n",
       " 'C18': ['1', '2', '3'],\n",
       " 'C19': [161, 35, 39],\n",
       " 'C1': [1002],\n",
       " 'C20': [100032, 100077, 100084, 100169, 100193, 100229],\n",
       " 'C21': [33, 61, 71],\n",
       " 'app_category': ['0f2161f8', '79f0b860', 'cef3e649', 'f95efa07'],\n",
       " 'app_domain': ['2347f47a',\n",
       "  '2b627705',\n",
       "  '449e219f',\n",
       "  '4fafd4c4',\n",
       "  '5ac0b939',\n",
       "  '63f57be0',\n",
       "  '6bfb9168',\n",
       "  '7801e8d9',\n",
       "  '7a9371fa',\n",
       "  '7eec2ab0',\n",
       "  '88293ffa',\n",
       "  'ae637522'],\n",
       " 'banner_pos': ['1', '3'],\n",
       " 'device_conn_type': ['2', '3'],\n",
       " 'site_category': ['28905ebd', '3e814130', '50e219e0', 'f028772b']}"
      ]
     },
     "execution_count": 249,
     "metadata": {},
     "output_type": "execute_result"
    }
   ],
   "source": [
    "Intersec_topn_dict"
   ]
  },
  {
   "cell_type": "code",
   "execution_count": 244,
   "metadata": {},
   "outputs": [
    {
     "name": "stdout",
     "output_type": "stream",
     "text": [
      "['0f2161f8', '79f0b860', 'cef3e649', 'f95efa07']\n",
      "Total original unique value of app_category: 27\n"
     ]
    }
   ],
   "source": [
    "print(Intersec_topn_dict['app_category'])\n",
    "print('Total original unique value of app_category:',df_concat['app_category'].nunique())"
   ]
  },
  {
   "cell_type": "markdown",
   "metadata": {},
   "source": [
    "<a id=\"ch11\"></a>\n",
    "# Analysis of Classification Error\n",
    "[Top](#ch0)\n",
    "\n",
    "<p style=\"text-indent: 2.5em;\">\n",
    "    Due to we cannot know the meaning of each value in a column, therefore we cannot perform much for this task. However, in term of prediction error, as a result, the standard deviation of average accuracy in the three models is rather low. It means that the model has low variance and not has any overfitting issue. However, bias notwithstanding, value is rather high despite the low average accuracy in train and test set. It means that the model is underfitting; thus, we have a room for improving the performance which we mention in future direction section."
   ]
  },
  {
   "cell_type": "markdown",
   "metadata": {},
   "source": [
    "<a id=\"ch13\"></a>\n",
    "# Conclusions, Limitations, and Discussion\n",
    "[Top](#ch0)"
   ]
  },
  {
   "cell_type": "markdown",
   "metadata": {},
   "source": [
    "### Conclusions\n",
    "<p style=\"text-indent: 2.5em;\">\n",
    "    This study is a classification problem that focuses on the percentage rate at which people click on a particular ad when online. Achieving a high page CTR is essential for achieving PPC success, because it directly affects both the quality score as well as how much a business pays every time someone clicks on their search advert. The model evaluation should be based on positive class rather than negative class. The possible metrics to evaluate this model should mainly base on Average precision. As the result from the model evaluation after developing the model, we found that LGBM_clf_dn or lightGBM classifier get the highest performance with Average precision and AUC is 33% and 71% respectively.\n",
    "\n",
    "<p style=\"text-indent: 2.5em;\">\n",
    "    According to topn feature rank and Intersection Feature, we know that all feature are importance to th model. However, only some value of each column is importance such as <b><u>app_category</u></b> column has just 4 values are '0f2161f8', '79f0b860', 'cef3e649', 'f95efa07' from 27 values which is importance.\n",
    "    \n",
    "<p style=\"text-indent: 2.5em;\">    \n",
    "    However the performance of this experiment <b><i>(Full_Dev_3) CTR with GridSearch (small data)</i></b> has performance no different compare to last experiment <b><i>(Full_Dev_2) CTR</i></b>. The reason why the performance is not different because, in this experiment, we still encounter with computational expensive which take many resources of time and memory. Thus, we cannot cover all combination of hyperparameter, which could be the best parameter in this model.\n",
    "    \n",
    "![](img/Full_Dev_2.png)\n",
    "   \n",
    "### Limitations\n",
    "<p style=\"text-indent: 2.5em;\">\n",
    "    The limitation of this study is the data which is very large as well as the limitation of time and resource which can perform just a few candidate for fine-tuning hyperparameter and cannot use whole data to train the model. These lead to the model performance is not as good as it could be.\n"
   ]
  },
  {
   "cell_type": "markdown",
   "metadata": {},
   "source": [
    "# Discussion\n",
    "\n",
    "### Undersampling/Oversampling\n",
    "\n",
    "![title](img/ImbalancedClasses_fig5.jpg)\n",
    "\n",
    "[source](https://towardsdatascience.com/breaking-the-curse-of-small-datasets-in-machine-learning-part-1-36f28b0c044d)\n",
    "\n",
    "- In this experiment, the data has imbalanced classes issue, which can affect the model performance if we do not handle this issue before we develop the model. However, we should not interrupt the testing data distribution. On the other hand, we should do undersampling/oversampling on only the training data. By undersampling/oversampling only on the training data, none of the information in the validation data is being used to create synthetic observations. So these results should be generalizable.\n",
    "- For this dataset we will perform undersampling(downsampling) because we have very large dataset.\n",
    "\n",
    "### Evaluation\n",
    "\n",
    "![title](img/Modified-Confusion-Matrix-Table-for-Accuracy-Prediction-of-24.ppm.png)\n",
    "![title](img/Accuracy_fig.png)\n",
    "\n",
    "- When making a prediction for a two-class classification problem, the following types of errors can be made by a classifier:\n",
    "    - False Positive (FP): predict an event when there was no event.\n",
    "    - False Negative (FN): predict no event when in fact there was an event.\n",
    "    - True Positive (TP): predict an event when there was an event.\n",
    "    - True Negative (TN): predict no event when in fact there was no event.\n",
    "   \n",
    "\n",
    "- **Accuracy:** Accuracy tell us about the overall performance of the model.\n",
    "\n",
    "- **Recall:** Recall gives us an idea about when it’s actually yes, how often does it predict yes.\n",
    "\n",
    "- **Precision:** Precision tells us about when it predicts yes, how often is it correct.\n",
    "\n",
    "- **ROC Curves:** summarise the trade-off between the true positive rate and false positive rate for a predictive model using different probability thresholds.\n",
    "\n",
    "- **Precision-Recall curves:** summarise the trade-off between the true positive rate and the positive predictive value for a predictive model using different probability thresholds.\n",
    "\n",
    "*Note that in computing precision and recall there is never use of the true negatives, these measures only consider correct predictions*\n",
    "\n",
    "- With imbalanced classes, it’s easy to get a high accuracy without actually making useful predictions. So, accuracy as an evaluation metrics makes sense only if the class labels are uniformly distributed as well as ROC curves are appropriate when the observations are balanced between each class, whereas precision-recall curves are appropriate for imbalanced datasets. In both cases, the area under the curve (AUC) can be used as a summary of the model performance.\n",
    "\n",
    "- As shown before when one has imbalanced classes, precision and recall are better metrics than accuracy, in the same way, for imbalanced datasets a Precision-Recall curve is more suitable than a ROC curve.\n",
    "\n",
    "- For this CTR dataset, it’s better to rely on average precision which is a measure that combines recall and precision. That is the reason we use average precision to evaluate this ML experiment. \n",
    "\n",
    "## Prediction Error\n",
    "\n",
    "**Bias** is the difference between the average prediction of our model and the correct value which we are trying to predict. Model with high bias pays very little attention to the training data and oversimplifies the model. It always leads to high error on training and test data.\n",
    "\n",
    "**Variance** is the variability of model prediction for a given data point or a value which tells us spread of our data. Model with high variance pays a lot of attention to training data and does not generalize on the data which it hasn’t seen before. As a result, such models perform very well on training data but has high error rates on test data.\n",
    "\n",
    "<div><center>$Err(x_{i})=Bias^{2}+Variance+Irreducible Error$</cernter></div>\n",
    "\n",
    "![](./img/biasvariance.png)\n",
    "\n",
    "There is no escaping the relationship between bias and variance in machine learning.\n",
    "\n",
    "- Increasing the bias will decrease the variance.\n",
    "- Increasing the variance will decrease the bias.\n",
    "\n",
    "There is a trade-off at play between these two concerns and the algorithms you choose and the way you choose to configure them are finding different balances in this trade-off for your problem.\n",
    "\n",
    "![](img/mNIed.png)"
   ]
  },
  {
   "cell_type": "markdown",
   "metadata": {},
   "source": [
    "<a id=\"ch14\"></a>\n",
    "# Future Direction\n",
    "[Top](#ch0)\n",
    "- Perform fine-tuning hyperparameter by gridsearch method with more combination candidate.\n",
    "- Use the whole data to train the model"
   ]
  },
  {
   "cell_type": "markdown",
   "metadata": {},
   "source": [
    "<a id=\"ch90\"></a>\n",
    "# Reference\n",
    "[Top](#ch0)\n",
    "1. Univariate selection : Chi-Square Test\n",
    "    - https://pythonfordatascience.org/chi-square-test-of-independence-python/\n",
    "    - http://www.insightsbot.com/blog/2AeuRL/chi-square-feature-selection-in-python\n",
    "- Feature Importance \n",
    "    - https://github.com/WillKoehrsen/Machine-Learning-Projects\n",
    "- Prediction Error\n",
    "    - https://towardsdatascience.com/understanding-the-bias-variance-tradeoff-165e6942b229\n",
    "- Géron A. Hands-on machine learning with Scikit-Learn and TensorFlow: concepts, tools, and techniques to build intelligent systems. \" O'Reilly Media, Inc.\"; 2017 Mar 13.\n"
   ]
  }
 ],
 "metadata": {
  "kernelspec": {
   "display_name": "Python 3",
   "language": "python",
   "name": "python3"
  },
  "language_info": {
   "codemirror_mode": {
    "name": "ipython",
    "version": 3
   },
   "file_extension": ".py",
   "mimetype": "text/x-python",
   "name": "python",
   "nbconvert_exporter": "python",
   "pygments_lexer": "ipython3",
   "version": "3.7.4"
  }
 },
 "nbformat": 4,
 "nbformat_minor": 2
}

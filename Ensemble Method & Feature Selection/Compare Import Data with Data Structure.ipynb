{
 "cells": [
  {
   "cell_type": "code",
   "execution_count": 6,
   "metadata": {},
   "outputs": [
    {
     "name": "stdout",
     "output_type": "stream",
     "text": [
      "Python 3.7.4 (default, Sep  7 2019, 18:27:02) \n",
      "[Clang 10.0.1 (clang-1001.0.46.4)]\n",
      "Numpy 1.16.1\n",
      "Matplotlib 3.0.3\n",
      "Seaborn 0.9.0\n",
      "tqdm 4.31.1\n",
      "scikit-learn 0.21.3\n",
      "pandas 0.24.2\n"
     ]
    }
   ],
   "source": [
    "import sys\n",
    "import numpy as np\n",
    "import matplotlib\n",
    "import seaborn as sns\n",
    "import tqdm\n",
    "import sklearn\n",
    "import pandas as pd\n",
    "from time import time\n",
    "\n",
    "print ( \"Python\", sys.version )\n",
    "print ( \"Numpy\", np.__version__ )\n",
    "print ( \"Matplotlib\", matplotlib.__version__ )\n",
    "print ( \"Seaborn\", sns.__version__ )\n",
    "print ( \"tqdm\", tqdm.__version__ )\n",
    "print ( \"scikit-learn\", sklearn.__version__ )\n",
    "print ( \"pandas\", pd.__version__ )"
   ]
  },
  {
   "cell_type": "markdown",
   "metadata": {},
   "source": [
    "# Traditional Import\n",
    "- Automatic assign data type by pandas which may cost expensive computational time."
   ]
  },
  {
   "cell_type": "code",
   "execution_count": 9,
   "metadata": {},
   "outputs": [
    {
     "name": "stdout",
     "output_type": "stream",
     "text": [
      "Execution time =  4.652196168899536  seconds\n",
      "<class 'pandas.core.frame.DataFrame'>\n",
      "RangeIndex: 1000000 entries, 0 to 999999\n",
      "Data columns (total 24 columns):\n",
      "id                  1000000 non-null float64\n",
      "click               1000000 non-null int64\n",
      "hour                1000000 non-null int64\n",
      "C1                  1000000 non-null int64\n",
      "banner_pos          1000000 non-null int64\n",
      "site_id             1000000 non-null object\n",
      "site_domain         1000000 non-null object\n",
      "site_category       1000000 non-null object\n",
      "app_id              1000000 non-null object\n",
      "app_domain          1000000 non-null object\n",
      "app_category        1000000 non-null object\n",
      "device_id           1000000 non-null object\n",
      "device_ip           1000000 non-null object\n",
      "device_model        1000000 non-null object\n",
      "device_type         1000000 non-null int64\n",
      "device_conn_type    1000000 non-null int64\n",
      "C14                 1000000 non-null int64\n",
      "C15                 1000000 non-null int64\n",
      "C16                 1000000 non-null int64\n",
      "C17                 1000000 non-null int64\n",
      "C18                 1000000 non-null int64\n",
      "C19                 1000000 non-null int64\n",
      "C20                 1000000 non-null int64\n",
      "C21                 1000000 non-null int64\n",
      "dtypes: float64(1), int64(14), object(9)\n",
      "memory usage: 183.1+ MB\n"
     ]
    }
   ],
   "source": [
    "start = time()\n",
    "df = pd.read_csv(r'./data/avazu-ctr-prediction/sample1m.csv')\n",
    "t = time() - start\n",
    "print('Execution time = ', t, ' seconds')\n",
    "df.info()"
   ]
  },
  {
   "cell_type": "markdown",
   "metadata": {},
   "source": [
    "# Managing Data Structure Type and Optimize it"
   ]
  },
  {
   "cell_type": "code",
   "execution_count": 15,
   "metadata": {},
   "outputs": [],
   "source": [
    "# Integer boolean mask\n",
    "Integer_feature_mask = df.dtypes==int\n",
    "# filter Integer columns using mask and turn it into a list\n",
    "Integer_cols = df.columns[Integer_feature_mask].tolist()\n",
    "\n",
    "# Object boolean mask\n",
    "Object_feature_mask = df.dtypes==object\n",
    "# filter Object columns using mask and turn it into a list\n",
    "Object_cols = df.columns[Object_feature_mask].tolist()\n",
    "\n",
    "dict_all = {i:np.int8 for i in Integer_cols} \n",
    "dict_cat = {i:'category' for i in Object_cols}\n",
    "dict_all.update(dict_cat)\n",
    "dict_int = {i:np.int8 for i in Integer_cols} \n",
    "\n",
    "exclude_list = ['id', 'click', 'site_id', 'site_domain', 'app_id', \n",
    "                'device_id', 'device_ip', 'device_model', 'C14']\n",
    "\n",
    "exclude_list.append('hour')\n",
    "col_name = df_sam.columns.tolist()\n",
    "read_col = [ col for col in col_name if col not in exclude_list]\n",
    "read_col.append('click')\n",
    "\n",
    "dict_int_2 = {i:np.int8 for i in Integer_cols} \n",
    "# del dict_int_2['hour']\n",
    "''' \n",
    "Deleting an entry from dictionary using del \n",
    "'''\n",
    "# If key exist in dictionary then delete it using del.\n",
    "for key in dict_int.keys():\n",
    "    if key not in read_col:\n",
    "        del dict_int_2[key]"
   ]
  },
  {
   "cell_type": "markdown",
   "metadata": {},
   "source": [
    "# All Column with Casting int64 > int8\n",
    "- Becareful with each value of integer column. When you cast int64 to int8 if it has some value out of range 2\\**8 = [-128,128] , it could change the original value."
   ]
  },
  {
   "cell_type": "code",
   "execution_count": 17,
   "metadata": {},
   "outputs": [
    {
     "name": "stdout",
     "output_type": "stream",
     "text": [
      "Execution time =  3.8226230144500732  seconds\n",
      "<class 'pandas.core.frame.DataFrame'>\n",
      "RangeIndex: 1000000 entries, 0 to 999999\n",
      "Data columns (total 24 columns):\n",
      "id                  1000000 non-null float64\n",
      "click               1000000 non-null int8\n",
      "hour                1000000 non-null int8\n",
      "C1                  1000000 non-null int8\n",
      "banner_pos          1000000 non-null int8\n",
      "site_id             1000000 non-null object\n",
      "site_domain         1000000 non-null object\n",
      "site_category       1000000 non-null object\n",
      "app_id              1000000 non-null object\n",
      "app_domain          1000000 non-null object\n",
      "app_category        1000000 non-null object\n",
      "device_id           1000000 non-null object\n",
      "device_ip           1000000 non-null object\n",
      "device_model        1000000 non-null object\n",
      "device_type         1000000 non-null int8\n",
      "device_conn_type    1000000 non-null int8\n",
      "C14                 1000000 non-null int8\n",
      "C15                 1000000 non-null int8\n",
      "C16                 1000000 non-null int8\n",
      "C17                 1000000 non-null int8\n",
      "C18                 1000000 non-null int8\n",
      "C19                 1000000 non-null int8\n",
      "C20                 1000000 non-null int8\n",
      "C21                 1000000 non-null int8\n",
      "dtypes: float64(1), int8(14), object(9)\n",
      "memory usage: 89.6+ MB\n"
     ]
    }
   ],
   "source": [
    "start = time()\n",
    "df_sam_3 = pd.read_csv('./data/avazu-ctr-prediction/sample1m.csv',\n",
    "                       dtype=dict_int,\n",
    "#                        parse_dates=[\"hour\"]\n",
    "                      )\n",
    "t = time() - start\n",
    "print('Execution time = ', t, ' seconds')\n",
    "df_sam_3.info()"
   ]
  },
  {
   "cell_type": "markdown",
   "metadata": {},
   "source": [
    "# All Column with Casting int64 > int8, object > category"
   ]
  },
  {
   "cell_type": "code",
   "execution_count": 11,
   "metadata": {},
   "outputs": [
    {
     "name": "stdout",
     "output_type": "stream",
     "text": [
      "Execution time =  8.584215879440308  seconds\n",
      "<class 'pandas.core.frame.DataFrame'>\n",
      "RangeIndex: 1000000 entries, 0 to 999999\n",
      "Data columns (total 24 columns):\n",
      "id                  1000000 non-null float64\n",
      "click               1000000 non-null int8\n",
      "hour                1000000 non-null int8\n",
      "C1                  1000000 non-null int8\n",
      "banner_pos          1000000 non-null int8\n",
      "site_id             1000000 non-null category\n",
      "site_domain         1000000 non-null category\n",
      "site_category       1000000 non-null category\n",
      "app_id              1000000 non-null category\n",
      "app_domain          1000000 non-null category\n",
      "app_category        1000000 non-null category\n",
      "device_id           1000000 non-null category\n",
      "device_ip           1000000 non-null category\n",
      "device_model        1000000 non-null category\n",
      "device_type         1000000 non-null int8\n",
      "device_conn_type    1000000 non-null int8\n",
      "C14                 1000000 non-null int8\n",
      "C15                 1000000 non-null int8\n",
      "C16                 1000000 non-null int8\n",
      "C17                 1000000 non-null int8\n",
      "C18                 1000000 non-null int8\n",
      "C19                 1000000 non-null int8\n",
      "C20                 1000000 non-null int8\n",
      "C21                 1000000 non-null int8\n",
      "dtypes: category(9), float64(1), int8(14)\n",
      "memory usage: 71.0 MB\n"
     ]
    }
   ],
   "source": [
    "start = time()\n",
    "df_sam_2 = pd.read_csv('./data/avazu-ctr-prediction/sample1m.csv',\n",
    "                       dtype=dict_all,\n",
    "#                        parse_dates=[\"hour\"]\n",
    "                      )\n",
    "t = time() - start\n",
    "print('Execution time = ', t, ' seconds')\n",
    "df_sam_2.info()"
   ]
  },
  {
   "cell_type": "markdown",
   "metadata": {},
   "source": [
    "# Selected Column without Casting"
   ]
  },
  {
   "cell_type": "code",
   "execution_count": 20,
   "metadata": {},
   "outputs": [
    {
     "name": "stdout",
     "output_type": "stream",
     "text": [
      "Execution time =  2.580280065536499  seconds\n",
      "<class 'pandas.core.frame.DataFrame'>\n",
      "RangeIndex: 1000000 entries, 0 to 999999\n",
      "Data columns (total 15 columns):\n",
      "click               1000000 non-null int64\n",
      "C1                  1000000 non-null int64\n",
      "banner_pos          1000000 non-null int64\n",
      "site_category       1000000 non-null object\n",
      "app_domain          1000000 non-null object\n",
      "app_category        1000000 non-null object\n",
      "device_type         1000000 non-null int64\n",
      "device_conn_type    1000000 non-null int64\n",
      "C15                 1000000 non-null int64\n",
      "C16                 1000000 non-null int64\n",
      "C17                 1000000 non-null int64\n",
      "C18                 1000000 non-null int64\n",
      "C19                 1000000 non-null int64\n",
      "C20                 1000000 non-null int64\n",
      "C21                 1000000 non-null int64\n",
      "dtypes: int64(12), object(3)\n",
      "memory usage: 114.4+ MB\n"
     ]
    }
   ],
   "source": [
    "#Read specific columns from CSV:\n",
    "# https://honingds.com/blog/pandas-read_csv/\n",
    "# YYMMDDHH\n",
    "# mydateparser = lambda x: pd.datetime.strptime(x, '%Y%m%d%H' )\n",
    " \n",
    "start = time()\n",
    "df_sam_4 = pd.read_csv('./data/avazu-ctr-prediction/sample1m.csv',\n",
    "                       usecols = read_col,\n",
    "#                        dtype = dict_int_2,\n",
    "#                        parse_dates=['hour'], date_parser = mydateparser,\n",
    "                      )\n",
    "t = time() - start\n",
    "print('Execution time = ', t, ' seconds')\n",
    "df_sam_4.info()"
   ]
  },
  {
   "cell_type": "markdown",
   "metadata": {},
   "source": [
    "# Selected Column with Casting int64 > int8"
   ]
  },
  {
   "cell_type": "code",
   "execution_count": 18,
   "metadata": {},
   "outputs": [
    {
     "name": "stdout",
     "output_type": "stream",
     "text": [
      "Execution time =  2.1211137771606445  seconds\n",
      "<class 'pandas.core.frame.DataFrame'>\n",
      "RangeIndex: 1000000 entries, 0 to 999999\n",
      "Data columns (total 15 columns):\n",
      "click               1000000 non-null int8\n",
      "C1                  1000000 non-null int8\n",
      "banner_pos          1000000 non-null int8\n",
      "site_category       1000000 non-null object\n",
      "app_domain          1000000 non-null object\n",
      "app_category        1000000 non-null object\n",
      "device_type         1000000 non-null int8\n",
      "device_conn_type    1000000 non-null int8\n",
      "C15                 1000000 non-null int8\n",
      "C16                 1000000 non-null int8\n",
      "C17                 1000000 non-null int8\n",
      "C18                 1000000 non-null int8\n",
      "C19                 1000000 non-null int8\n",
      "C20                 1000000 non-null int8\n",
      "C21                 1000000 non-null int8\n",
      "dtypes: int8(12), object(3)\n",
      "memory usage: 34.3+ MB\n"
     ]
    }
   ],
   "source": [
    "#Read specific columns from CSV:\n",
    "# https://honingds.com/blog/pandas-read_csv/\n",
    "# YYMMDDHH\n",
    "# mydateparser = lambda x: pd.datetime.strptime(x, '%Y%m%d%H' )\n",
    " \n",
    "start = time()\n",
    "df_sam_5 = pd.read_csv('./data/avazu-ctr-prediction/sample1m.csv',\n",
    "                       usecols = read_col,\n",
    "                       dtype = dict_int_2,\n",
    "#                        parse_dates=['hour'], date_parser = mydateparser,\n",
    "                      )\n",
    "t = time() - start\n",
    "print('Execution time = ', t, ' seconds')\n",
    "df_sam_5.info()"
   ]
  },
  {
   "cell_type": "markdown",
   "metadata": {},
   "source": [
    "# Selected Column with Casting int64 > int8, object > category"
   ]
  },
  {
   "cell_type": "code",
   "execution_count": 23,
   "metadata": {
    "scrolled": false
   },
   "outputs": [
    {
     "name": "stdout",
     "output_type": "stream",
     "text": [
      "Execution time =  2.3405277729034424  seconds\n",
      "<class 'pandas.core.frame.DataFrame'>\n",
      "RangeIndex: 1000000 entries, 0 to 999999\n",
      "Data columns (total 15 columns):\n",
      "click               1000000 non-null int8\n",
      "C1                  1000000 non-null int8\n",
      "banner_pos          1000000 non-null int8\n",
      "site_category       1000000 non-null category\n",
      "app_domain          1000000 non-null category\n",
      "app_category        1000000 non-null category\n",
      "device_type         1000000 non-null int8\n",
      "device_conn_type    1000000 non-null int8\n",
      "C15                 1000000 non-null int8\n",
      "C16                 1000000 non-null int8\n",
      "C17                 1000000 non-null int8\n",
      "C18                 1000000 non-null int8\n",
      "C19                 1000000 non-null int8\n",
      "C20                 1000000 non-null int8\n",
      "C21                 1000000 non-null int8\n",
      "dtypes: category(3), int8(12)\n",
      "memory usage: 15.3 MB\n"
     ]
    }
   ],
   "source": [
    "start = time()\n",
    "df_sam_6 = pd.read_csv('./data/avazu-ctr-prediction/sample1m.csv',\n",
    "                       usecols = read_col,\n",
    "                       dtype = dict_all,\n",
    "#                        parse_dates=['hour'], date_parser = mydateparser,\n",
    "                      )\n",
    "t = time() - start\n",
    "print('Execution time = ', t, ' seconds')\n",
    "df_sam_6.info()"
   ]
  },
  {
   "cell_type": "markdown",
   "metadata": {},
   "source": [
    "| <u>*Import 1,000,000 rows*</u> | Traditional Import | Casting Data Type | Casting Data Type | Selected Column | Selected Column | Selected Column |\n",
    "|-----------------------|--------------------|-------------------|-------------------|-----------------|-----------------|-----------------|\n",
    "| **String Type**      | Object             | Object            | Category          | Object          | Object          | Category        |\n",
    "| **Interger Type**           | Int 64             | Int 8             | Int 8             | Int 64          | Int 8           | Int 8           |\n",
    "| **Execution time (secs)** | 4.65               | 3.82              | 8.58              | 2.58            | 2.12            | 2.45            |\n",
    "| **Memory usage**          | 183.1+ MB          | 89.6+ MB          | 71.0 MB           | 114.4+ MB       | 34.3+ MB        | 15.3 MB         |\n",
    "| **Total columns**         | 24                 | 24                | 24                | 15              | 15              | 15              |"
   ]
  },
  {
   "cell_type": "markdown",
   "metadata": {},
   "source": [
    "| <u>*Import 1,000,000 rows*</u> | Traditional Import | Casting Data Type | Casting Data Type | Selected Column | Selected Column | Selected Column | Excel Opening | Number Opening |\n",
    "|-----------------------|--------------------|-------------------|-------------------|-----------------|-----------------|-----------------|---------------|----------------|\n",
    "| **String Type**           | Object             | Object            | Category          | Object          | Object          | Category        | -             | -              |\n",
    "| **Interger Type**         | Int 64             | Int 8             | Int 8             | Int 64          | Int 8           | Int 8           | -             | -              |\n",
    "| **Execution time (secs)** | 4.65               | 3.82              | 8.58              | 2.58            | 2.12            | 2.45            | 55.27         | 156.17         |\n",
    "| **Memory usage**          | 183.1+ MB          | 89.6+ MB          | 71.0 MB           | 114.4+ MB       | 34.3+ MB        | 15.3 MB         | 157.1 MB      | 157.1 MB       |\n",
    "| **Total columns**         | 24                 | 24                | 24                | 15              | 15              | 15              | 24            | 24             |"
   ]
  },
  {
   "cell_type": "markdown",
   "metadata": {},
   "source": [
    "***"
   ]
  },
  {
   "cell_type": "code",
   "execution_count": 21,
   "metadata": {},
   "outputs": [
    {
     "data": {
      "text/plain": [
       "id                  1.84467e+19\n",
       "click                         1\n",
       "hour                   14103023\n",
       "C1                         1012\n",
       "banner_pos                    7\n",
       "site_id                fffe8e1c\n",
       "site_domain            fff602a2\n",
       "site_category          f66779e6\n",
       "app_id                 ffdb187c\n",
       "app_domain             fe369646\n",
       "app_category           fc6fa53d\n",
       "device_id              ffffa2c2\n",
       "device_ip              fffffaa3\n",
       "device_model           ffeafe15\n",
       "device_type                   5\n",
       "device_conn_type              5\n",
       "C14                       24046\n",
       "C15                        1024\n",
       "C16                        1024\n",
       "C17                        2757\n",
       "C18                           3\n",
       "C19                        1839\n",
       "C20                      100248\n",
       "C21                         255\n",
       "dtype: object"
      ]
     },
     "execution_count": 21,
     "metadata": {},
     "output_type": "execute_result"
    }
   ],
   "source": [
    "df.max()"
   ]
  },
  {
   "cell_type": "code",
   "execution_count": 24,
   "metadata": {
    "scrolled": true
   },
   "outputs": [
    {
     "data": {
      "text/plain": [
       "click                      1\n",
       "C1                       -12\n",
       "banner_pos                 7\n",
       "site_category       f66779e6\n",
       "app_domain          fe369646\n",
       "app_category        fc6fa53d\n",
       "device_type                5\n",
       "device_conn_type           5\n",
       "C15                      120\n",
       "C16                       90\n",
       "C17                      127\n",
       "C18                        3\n",
       "C19                       47\n",
       "C20                      125\n",
       "C21                      126\n",
       "dtype: object"
      ]
     },
     "execution_count": 24,
     "metadata": {},
     "output_type": "execute_result"
    }
   ],
   "source": [
    "df_sam_6.max()"
   ]
  },
  {
   "cell_type": "code",
   "execution_count": 29,
   "metadata": {},
   "outputs": [
    {
     "name": "stdout",
     "output_type": "stream",
     "text": [
      "-127\n",
      "0\n"
     ]
    }
   ],
   "source": [
    "print(np.int8(129))\n",
    "print(np.int8(1024))"
   ]
  },
  {
   "cell_type": "code",
   "execution_count": 31,
   "metadata": {},
   "outputs": [
    {
     "data": {
      "text/plain": [
       "{'click': numpy.int8,\n",
       " 'hour': numpy.int8,\n",
       " 'C1': numpy.int8,\n",
       " 'banner_pos': numpy.int8,\n",
       " 'device_type': numpy.int8,\n",
       " 'device_conn_type': numpy.int8,\n",
       " 'C14': numpy.int8,\n",
       " 'C15': numpy.int8,\n",
       " 'C16': numpy.int8,\n",
       " 'C17': numpy.int8,\n",
       " 'C18': numpy.int8,\n",
       " 'C19': numpy.int8,\n",
       " 'C20': numpy.int8,\n",
       " 'C21': numpy.int8,\n",
       " 'site_id': 'category',\n",
       " 'site_domain': 'category',\n",
       " 'site_category': 'category',\n",
       " 'app_id': 'category',\n",
       " 'app_domain': 'category',\n",
       " 'app_category': 'category',\n",
       " 'device_id': 'category',\n",
       " 'device_ip': 'category',\n",
       " 'device_model': 'category'}"
      ]
     },
     "execution_count": 31,
     "metadata": {},
     "output_type": "execute_result"
    }
   ],
   "source": [
    "dict_all"
   ]
  },
  {
   "cell_type": "code",
   "execution_count": 40,
   "metadata": {},
   "outputs": [
    {
     "data": {
      "text/plain": [
       "{'click': numpy.int16,\n",
       " 'hour': numpy.int16,\n",
       " 'C1': numpy.int16,\n",
       " 'banner_pos': numpy.int16,\n",
       " 'device_type': numpy.int16,\n",
       " 'device_conn_type': numpy.int16,\n",
       " 'C14': numpy.int16,\n",
       " 'C15': numpy.int16,\n",
       " 'C16': numpy.int16,\n",
       " 'C17': numpy.int16,\n",
       " 'C18': numpy.int16,\n",
       " 'C19': numpy.int16,\n",
       " 'C20': numpy.int16,\n",
       " 'C21': numpy.int16,\n",
       " 'site_id': 'category',\n",
       " 'site_domain': 'category',\n",
       " 'site_category': 'category',\n",
       " 'app_id': 'category',\n",
       " 'app_domain': 'category',\n",
       " 'app_category': 'category',\n",
       " 'device_id': 'category',\n",
       " 'device_ip': 'category',\n",
       " 'device_model': 'category'}"
      ]
     },
     "execution_count": 40,
     "metadata": {},
     "output_type": "execute_result"
    }
   ],
   "source": [
    "dict_all_16 = {i:np.int16 for i in Integer_cols} \n",
    "dict_cat = {i:'category' for i in Object_cols}\n",
    "dict_all_16.update(dict_cat)\n",
    "dict_all_16"
   ]
  },
  {
   "cell_type": "markdown",
   "metadata": {},
   "source": [
    "# Selected Column with Casting int64 > int16"
   ]
  },
  {
   "cell_type": "code",
   "execution_count": 30,
   "metadata": {},
   "outputs": [
    {
     "data": {
      "text/plain": [
       "[256, 65536, 4294967296, 18446744073709551616]"
      ]
     },
     "execution_count": 30,
     "metadata": {},
     "output_type": "execute_result"
    }
   ],
   "source": [
    "[2**i for i in [8,16,32,64]]"
   ]
  },
  {
   "cell_type": "code",
   "execution_count": 36,
   "metadata": {},
   "outputs": [],
   "source": [
    "dict_int_3 = {i:np.int16 for i in Integer_cols} \n",
    "# del dict_int_2['hour']\n",
    "''' \n",
    "Deleting an entry from dictionary using del \n",
    "'''\n",
    "# If key exist in dictionary then delete it using del.\n",
    "for key in dict_int.keys():\n",
    "    if key not in read_col:\n",
    "        del dict_int_3[key]"
   ]
  },
  {
   "cell_type": "code",
   "execution_count": 42,
   "metadata": {},
   "outputs": [
    {
     "name": "stdout",
     "output_type": "stream",
     "text": [
      "Execution time =  2.151221990585327  seconds\n",
      "<class 'pandas.core.frame.DataFrame'>\n",
      "RangeIndex: 1000000 entries, 0 to 999999\n",
      "Data columns (total 15 columns):\n",
      "click               1000000 non-null int16\n",
      "C1                  1000000 non-null int16\n",
      "banner_pos          1000000 non-null int16\n",
      "site_category       1000000 non-null object\n",
      "app_domain          1000000 non-null object\n",
      "app_category        1000000 non-null object\n",
      "device_type         1000000 non-null int16\n",
      "device_conn_type    1000000 non-null int16\n",
      "C15                 1000000 non-null int16\n",
      "C16                 1000000 non-null int16\n",
      "C17                 1000000 non-null int16\n",
      "C18                 1000000 non-null int16\n",
      "C19                 1000000 non-null int16\n",
      "C20                 1000000 non-null int16\n",
      "C21                 1000000 non-null int16\n",
      "dtypes: int16(12), object(3)\n",
      "memory usage: 45.8+ MB\n"
     ]
    }
   ],
   "source": [
    "start = time()\n",
    "df_sam_6 = pd.read_csv('./data/avazu-ctr-prediction/sample1m.csv',\n",
    "                       usecols = read_col,\n",
    "                       dtype = dict_int_3,\n",
    "#                        parse_dates=['hour'], date_parser = mydateparser,\n",
    "                      )\n",
    "t = time() - start\n",
    "print('Execution time = ', t, ' seconds')\n",
    "df_sam_6.info()"
   ]
  },
  {
   "cell_type": "markdown",
   "metadata": {},
   "source": [
    "# Selected Column with Casting int64 > int16, object > category"
   ]
  },
  {
   "cell_type": "code",
   "execution_count": 41,
   "metadata": {},
   "outputs": [
    {
     "name": "stdout",
     "output_type": "stream",
     "text": [
      "Execution time =  2.2928900718688965  seconds\n",
      "<class 'pandas.core.frame.DataFrame'>\n",
      "RangeIndex: 1000000 entries, 0 to 999999\n",
      "Data columns (total 15 columns):\n",
      "click               1000000 non-null int16\n",
      "C1                  1000000 non-null int16\n",
      "banner_pos          1000000 non-null int16\n",
      "site_category       1000000 non-null category\n",
      "app_domain          1000000 non-null category\n",
      "app_category        1000000 non-null category\n",
      "device_type         1000000 non-null int16\n",
      "device_conn_type    1000000 non-null int16\n",
      "C15                 1000000 non-null int16\n",
      "C16                 1000000 non-null int16\n",
      "C17                 1000000 non-null int16\n",
      "C18                 1000000 non-null int16\n",
      "C19                 1000000 non-null int16\n",
      "C20                 1000000 non-null int16\n",
      "C21                 1000000 non-null int16\n",
      "dtypes: category(3), int16(12)\n",
      "memory usage: 26.7 MB\n"
     ]
    }
   ],
   "source": [
    "start = time()\n",
    "df_sam_6 = pd.read_csv('./data/avazu-ctr-prediction/sample1m.csv',\n",
    "                       usecols = read_col,\n",
    "                       dtype = dict_all_16,\n",
    "#                        parse_dates=['hour'], date_parser = mydateparser,\n",
    "                      )\n",
    "t = time() - start\n",
    "print('Execution time = ', t, ' seconds')\n",
    "df_sam_6.info()"
   ]
  },
  {
   "cell_type": "markdown",
   "metadata": {},
   "source": [
    "|<u>*Import 1,000,000 rows*</u>| Traditional Import | Casting Data Type | Casting Data Type | Selected Column | Selected Column | Selected Column | Selected Column | Selected Column |\n",
    "|-----------------------|--------------------|-------------------|-------------------|-----------------|-----------------|-----------------|-----------------|-----------------|\n",
    "| **String Type**           | Object             | Object            | Category          | Object          | Object          | Category        | Object          | Category        |\n",
    "| **Interger Type**         | Int 64             | Int 8             | Int 8             | Int 64          | Int 8           | Int 8           | int16           | int16           |\n",
    "| **Execution time (secs)** | 4.65               | 3.82              | 8.58              | 2.58            | 2.12            | 2.45            | 2.15            | 2.43            |\n",
    "| **Memory usage**          | 183.1+ MB          | 89.6+ MB          | 71.0 MB           | 114.4+ MB       | 34.3+ MB        | 15.3 MB         | 45.8+ MB        | 26.7 MB         |\n",
    "| **Total columns**         | 24                 | 24                | 24                | 15              | 15              | 15              | 15              | 15              |"
   ]
  }
 ],
 "metadata": {
  "kernelspec": {
   "display_name": "Python 3",
   "language": "python",
   "name": "python3"
  },
  "language_info": {
   "codemirror_mode": {
    "name": "ipython",
    "version": 3
   },
   "file_extension": ".py",
   "mimetype": "text/x-python",
   "name": "python",
   "nbconvert_exporter": "python",
   "pygments_lexer": "ipython3",
   "version": "3.7.4"
  }
 },
 "nbformat": 4,
 "nbformat_minor": 2
}
